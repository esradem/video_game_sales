{
 "cells": [
  {
   "cell_type": "code",
   "execution_count": null,
   "id": "ac4fb6e3-a727-4cb0-b5f7-21cd1f75e7ce",
   "metadata": {},
   "outputs": [],
   "source": [
    "import pandas as pd\n",
    "from sklearn.model_selection import train_test_split\n",
    "from sklearn.preprocessing import OneHotEncoder\n",
    "from sklearn.compose import ColumnTransformer\n",
    "from sklearn.pipeline import Pipeline\n",
    "from sklearn.ensemble import RandomForestClassifier\n",
    "\n",
    "# 1. Load the data\n",
    "df_video_game = pd.read_csv(\"../data/clean/video_game_sales_final_cleaned.csv\")\n",
    "df_video_game.tail(30)"
   ]
  },
  {
   "cell_type": "code",
   "execution_count": null,
   "id": "de7cf339-21d2-49e2-8f17-6ed0271222da",
   "metadata": {},
   "outputs": [],
   "source": [
    "df_video_game['global_sales'].describe()\n",
    "#Total sales in the world (in millions of units)"
   ]
  },
  {
   "cell_type": "code",
   "execution_count": null,
   "id": "819335b2-1115-4c12-bd68-adc2bbce5c94",
   "metadata": {},
   "outputs": [],
   "source": [
    "df_video_game.nlargest(10, 'global_sales')\n"
   ]
  },
  {
   "cell_type": "code",
   "execution_count": null,
   "id": "3a9c0d13-853c-44da-a3dc-1126dc0ddee6",
   "metadata": {},
   "outputs": [],
   "source": [
    "df_video_game['rating_grouped'].unique()"
   ]
  },
  {
   "cell_type": "code",
   "execution_count": null,
   "id": "de612273-5ca6-4c86-80c3-28da6f694308",
   "metadata": {},
   "outputs": [],
   "source": [
    "\n",
    "# 2. Drop rows with missing target (Global_Sales)\n",
    "df_video_game = df_video_game.dropna(subset=['global_sales'])\n",
    "\n",
    "# 3. Drop unnecessary columns\n",
    "df_video_game = df_video_game.drop(columns=[\n",
    "    'name', 'name_clean'\n",
    "])\n",
    "# 4 fill nan values inrating group with unrated\n",
    "df_video_game['rating_grouped'] = df_video_game['rating_grouped'].fillna('Unrated')"
   ]
  },
  {
   "cell_type": "code",
   "execution_count": null,
   "id": "8b5f13fe-03c6-410e-9bca-1fd58b88d491",
   "metadata": {},
   "outputs": [],
   "source": [
    "# 5. Create binary target: was the game a \"hit\"?\n",
    "df_video_game['Hit'] = (df_video_game['global_sales'] > 1.0).astype(int)\n",
    "\n",
    "# 6. Define features and target\n",
    "features = ['platform', 'genre', 'publisher', 'rating']\n",
    "X = df_video_game[features]\n",
    "y = df_video_game['Hit']\n",
    "\n",
    "# 7. Train-test split\n",
    "X_train, X_test, y_train, y_test = train_test_split(X, y, test_size=0.2, random_state=42)\n",
    "\n"
   ]
  },
  {
   "cell_type": "code",
   "execution_count": null,
   "id": "0e38f466-b1c0-41e9-8d05-bb2c6eb9edf2",
   "metadata": {},
   "outputs": [],
   "source": [
    "# 8. One-hot encode categorical features\n",
    "categorical_features = ['platform', 'genre', 'publisher', 'rating']\n",
    "\n",
    "preprocessor = ColumnTransformer(\n",
    "    transformers=[\n",
    "        ('cat', OneHotEncoder(handle_unknown='ignore'), categorical_features)\n",
    "    ]\n",
    ")\n",
    "\n",
    "# 9. Model pipeline\n",
    "clf = Pipeline(steps=[\n",
    "    ('preprocessor', preprocessor),\n",
    "    ('classifier', RandomForestClassifier(random_state=42))\n",
    "])\n",
    "\n",
    "# 10. Train\n",
    "clf.fit(X_train, y_train)"
   ]
  },
  {
   "cell_type": "code",
   "execution_count": null,
   "id": "185a6273-925b-486c-89d6-301c7ef8388d",
   "metadata": {},
   "outputs": [],
   "source": [
    "# 11. Evaluate\n",
    "accuracy = clf.score(X_test, y_test)\n",
    "print(f\"Model Accuracy with Rating: {accuracy:.2f}\")"
   ]
  },
  {
   "cell_type": "code",
   "execution_count": null,
   "id": "86f010b7-cdc7-4ec6-a006-603d74610e54",
   "metadata": {},
   "outputs": [],
   "source": []
  }
 ],
 "metadata": {
  "kernelspec": {
   "display_name": "Python [conda env:base] *",
   "language": "python",
   "name": "conda-base-py"
  },
  "language_info": {
   "codemirror_mode": {
    "name": "ipython",
    "version": 3
   },
   "file_extension": ".py",
   "mimetype": "text/x-python",
   "name": "python",
   "nbconvert_exporter": "python",
   "pygments_lexer": "ipython3",
   "version": "3.12.7"
  }
 },
 "nbformat": 4,
 "nbformat_minor": 5
}
