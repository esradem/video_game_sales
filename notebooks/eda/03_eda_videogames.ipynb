{
 "cells": [
  {
   "cell_type": "code",
   "execution_count": 1,
   "id": "b027ab0e-8ddb-4b7e-bdee-ab593846782c",
   "metadata": {},
   "outputs": [
    {
     "name": "stdout",
     "output_type": "stream",
     "text": [
      "<class 'pandas.core.frame.DataFrame'>\n",
      "RangeIndex: 59379 entries, 0 to 59378\n",
      "Data columns (total 13 columns):\n",
      " #   Column           Non-Null Count  Dtype  \n",
      "---  ------           --------------  -----  \n",
      " 0   name             59379 non-null  object \n",
      " 1   platform         59379 non-null  object \n",
      " 2   year_of_release  59379 non-null  int64  \n",
      " 3   genre            59379 non-null  object \n",
      " 4   publisher        59379 non-null  object \n",
      " 5   na_sales         59379 non-null  float64\n",
      " 6   eu_sales         59379 non-null  float64\n",
      " 7   jp_sales         59379 non-null  float64\n",
      " 8   other_sales      59379 non-null  float64\n",
      " 9   global_sales     59379 non-null  float64\n",
      " 10  rating           16447 non-null  object \n",
      " 11  rating_grouped   16447 non-null  object \n",
      " 12  name_clean       59379 non-null  object \n",
      "dtypes: float64(5), int64(1), object(7)\n",
      "memory usage: 5.9+ MB\n",
      "name                   0\n",
      "platform               0\n",
      "year_of_release        0\n",
      "genre                  0\n",
      "publisher              0\n",
      "na_sales               0\n",
      "eu_sales               0\n",
      "jp_sales               0\n",
      "other_sales            0\n",
      "global_sales           0\n",
      "rating             42932\n",
      "rating_grouped     42932\n",
      "name_clean             0\n",
      "dtype: int64\n"
     ]
    },
    {
     "data": {
      "text/html": [
       "<div>\n",
       "<style scoped>\n",
       "    .dataframe tbody tr th:only-of-type {\n",
       "        vertical-align: middle;\n",
       "    }\n",
       "\n",
       "    .dataframe tbody tr th {\n",
       "        vertical-align: top;\n",
       "    }\n",
       "\n",
       "    .dataframe thead th {\n",
       "        text-align: right;\n",
       "    }\n",
       "</style>\n",
       "<table border=\"1\" class=\"dataframe\">\n",
       "  <thead>\n",
       "    <tr style=\"text-align: right;\">\n",
       "      <th></th>\n",
       "      <th>name</th>\n",
       "      <th>platform</th>\n",
       "      <th>year_of_release</th>\n",
       "      <th>genre</th>\n",
       "      <th>publisher</th>\n",
       "      <th>na_sales</th>\n",
       "      <th>eu_sales</th>\n",
       "      <th>jp_sales</th>\n",
       "      <th>other_sales</th>\n",
       "      <th>global_sales</th>\n",
       "      <th>rating</th>\n",
       "      <th>rating_grouped</th>\n",
       "      <th>name_clean</th>\n",
       "    </tr>\n",
       "  </thead>\n",
       "  <tbody>\n",
       "    <tr>\n",
       "      <th>0</th>\n",
       "      <td>wii sports</td>\n",
       "      <td>WII</td>\n",
       "      <td>2006</td>\n",
       "      <td>sports</td>\n",
       "      <td>Nintendo</td>\n",
       "      <td>41.36</td>\n",
       "      <td>28.96</td>\n",
       "      <td>3.77</td>\n",
       "      <td>8.45</td>\n",
       "      <td>82.53</td>\n",
       "      <td>E</td>\n",
       "      <td>Children</td>\n",
       "      <td>wii sports</td>\n",
       "    </tr>\n",
       "    <tr>\n",
       "      <th>1</th>\n",
       "      <td>super mario bros.</td>\n",
       "      <td>NES</td>\n",
       "      <td>1985</td>\n",
       "      <td>platform</td>\n",
       "      <td>Nintendo</td>\n",
       "      <td>29.08</td>\n",
       "      <td>3.58</td>\n",
       "      <td>6.81</td>\n",
       "      <td>0.77</td>\n",
       "      <td>40.24</td>\n",
       "      <td>Unrated</td>\n",
       "      <td>Unrated</td>\n",
       "      <td>super mario bros</td>\n",
       "    </tr>\n",
       "    <tr>\n",
       "      <th>2</th>\n",
       "      <td>mario kart wii</td>\n",
       "      <td>WII</td>\n",
       "      <td>2008</td>\n",
       "      <td>racing</td>\n",
       "      <td>Nintendo</td>\n",
       "      <td>15.68</td>\n",
       "      <td>12.76</td>\n",
       "      <td>3.79</td>\n",
       "      <td>3.29</td>\n",
       "      <td>35.52</td>\n",
       "      <td>E</td>\n",
       "      <td>Children</td>\n",
       "      <td>mario kart wii</td>\n",
       "    </tr>\n",
       "    <tr>\n",
       "      <th>3</th>\n",
       "      <td>wii sports resort</td>\n",
       "      <td>WII</td>\n",
       "      <td>2009</td>\n",
       "      <td>sports</td>\n",
       "      <td>Nintendo</td>\n",
       "      <td>15.61</td>\n",
       "      <td>10.93</td>\n",
       "      <td>3.28</td>\n",
       "      <td>2.95</td>\n",
       "      <td>32.77</td>\n",
       "      <td>E</td>\n",
       "      <td>Children</td>\n",
       "      <td>wii sports resort</td>\n",
       "    </tr>\n",
       "    <tr>\n",
       "      <th>4</th>\n",
       "      <td>pokemon red/pokemon blue</td>\n",
       "      <td>GB</td>\n",
       "      <td>1996</td>\n",
       "      <td>role-playing</td>\n",
       "      <td>Nintendo</td>\n",
       "      <td>11.27</td>\n",
       "      <td>8.89</td>\n",
       "      <td>10.22</td>\n",
       "      <td>1.00</td>\n",
       "      <td>31.37</td>\n",
       "      <td>Unrated</td>\n",
       "      <td>Unrated</td>\n",
       "      <td>pokemon redpokemon blue</td>\n",
       "    </tr>\n",
       "  </tbody>\n",
       "</table>\n",
       "</div>"
      ],
      "text/plain": [
       "                       name platform  year_of_release         genre publisher  \\\n",
       "0                wii sports      WII             2006        sports  Nintendo   \n",
       "1         super mario bros.      NES             1985      platform  Nintendo   \n",
       "2            mario kart wii      WII             2008        racing  Nintendo   \n",
       "3         wii sports resort      WII             2009        sports  Nintendo   \n",
       "4  pokemon red/pokemon blue       GB             1996  role-playing  Nintendo   \n",
       "\n",
       "   na_sales  eu_sales  jp_sales  other_sales  global_sales   rating  \\\n",
       "0     41.36     28.96      3.77         8.45         82.53        E   \n",
       "1     29.08      3.58      6.81         0.77         40.24  Unrated   \n",
       "2     15.68     12.76      3.79         3.29         35.52        E   \n",
       "3     15.61     10.93      3.28         2.95         32.77        E   \n",
       "4     11.27      8.89     10.22         1.00         31.37  Unrated   \n",
       "\n",
       "  rating_grouped               name_clean  \n",
       "0       Children               wii sports  \n",
       "1        Unrated         super mario bros  \n",
       "2       Children           mario kart wii  \n",
       "3       Children        wii sports resort  \n",
       "4        Unrated  pokemon redpokemon blue  "
      ]
     },
     "execution_count": 1,
     "metadata": {},
     "output_type": "execute_result"
    }
   ],
   "source": [
    "import pandas as pd\n",
    "import matplotlib.pyplot as plt\n",
    "import seaborn as sns\n",
    "import plotly.io as pio\n",
    "import plotly.express as px\n",
    "\n",
    "pio.renderers.default = 'iframe_connected'\n",
    "\n",
    "# Load cleaned dataset\n",
    "df = pd.read_csv('../../data/clean/video_game_sales_final_cleaned.csv')\n",
    "\n",
    "# Basic info\n",
    "df.info()\n",
    "df.describe()\n",
    "\n",
    "# Check nulls again\n",
    "print(df.isnull().sum())\n",
    "\n",
    "# Preview\n",
    "df.head()\n"
   ]
  },
  {
   "cell_type": "code",
   "execution_count": 2,
   "id": "7ad01b01-1e2a-43c9-b06e-564bf28b374e",
   "metadata": {},
   "outputs": [
    {
     "data": {
      "text/plain": [
       "genre\n",
       "action          11107\n",
       "other            7334\n",
       "sports           5526\n",
       "adventure        5398\n",
       "shooter          4873\n",
       "rpg              4001\n",
       "strategy         3406\n",
       "puzzle           3243\n",
       "racing           3231\n",
       "simulation       2909\n",
       "platformer       2735\n",
       "misc             1721\n",
       "role-playing     1483\n",
       "platform          878\n",
       "fighting          837\n",
       "visual novel      322\n",
       "music             163\n",
       "party              84\n",
       "mmo                74\n",
       "board game         22\n",
       "education          17\n",
       "sandbox            15\n",
       "Name: count, dtype: int64"
      ]
     },
     "execution_count": 2,
     "metadata": {},
     "output_type": "execute_result"
    }
   ],
   "source": [
    "df['genre'].value_counts()\n"
   ]
  },
  {
   "cell_type": "markdown",
   "id": "240d9b81-eabb-445b-b212-5de7ad09910c",
   "metadata": {},
   "source": [
    "## Dataset Overview\n",
    "\n",
    "###  General Info:\n",
    "- **Total entries**: 59,379  \n",
    "- **Columns**: 13  \n",
    "- **Data types**: 5 floats, 1 integer, 7 objects  \n",
    "- **Memory usage**: ~5.9 MB  \n",
    "\n",
    "---\n",
    "\n",
    "###  Key Columns:\n",
    "- `name`, `platform`, `genre`, `publisher`, `rating`, `rating_grouped` → *Categorical*\n",
    "- `na_sales`, `eu_sales`, `jp_sales`, `other_sales`, `global_sales` → *Continuous numeric (float)*\n",
    "- `year_of_release` → *Numeric (but represents time)*\n",
    "\n",
    "---\n",
    "\n",
    "###  Missing Values:\n",
    "- `rating` and `rating_grouped`: Only ~16,447 non-null values → **significant missing data**\n",
    "- All other columns are fully populated\n",
    "\n",
    "---\n",
    "\n",
    "###  Duplicates:\n",
    "- Consider checking with `df.duplicated().sum()`\n",
    "- The `name_clean` column may help identify re-releases or duplicates\n",
    "\n",
    "---\n",
    "\n",
    "###  Top Observations:\n",
    "- **Most repeated game**: `doom` (16 times) — likely due to re-releases on multiple platforms\n",
    "- **Most common publisher**: `Sega` with 2,326 titles\n",
    "- **Sales skew**: Most games sold **very little**  \n",
    "  - Mean of `global_sales`: ~0.17 million units  \n",
    "  - Max value: **82.5 million units**\n",
    "- Distribution is **highly right-skewed**\n"
   ]
  },
  {
   "cell_type": "code",
   "execution_count": 5,
   "id": "fa1de612-5aaf-4d40-bf22-950ac16df34d",
   "metadata": {},
   "outputs": [
    {
     "name": "stdout",
     "output_type": "stream",
     "text": [
      "Duplicated rows: 0\n"
     ]
    }
   ],
   "source": [
    "print(f'Duplicated rows: {df.duplicated().sum()}')\n"
   ]
  },
  {
   "cell_type": "code",
   "execution_count": 7,
   "id": "87d03553-0a5d-48df-a256-aa43fb170bbb",
   "metadata": {},
   "outputs": [],
   "source": [
    "df['year_of_release'] = df['year_of_release'].astype(int)\n"
   ]
  },
  {
   "cell_type": "code",
   "execution_count": 76,
   "id": "8457de6f-4bfe-4e50-8857-d189465cf388",
   "metadata": {},
   "outputs": [
    {
     "data": {
      "text/html": [
       "<iframe\n",
       "    scrolling=\"no\"\n",
       "    width=\"1020px\"\n",
       "    height=\"620\"\n",
       "    src=\"iframe_figures/figure_76.html\"\n",
       "    frameborder=\"0\"\n",
       "    allowfullscreen\n",
       "></iframe>\n"
      ]
     },
     "metadata": {},
     "output_type": "display_data"
    }
   ],
   "source": [
    "filtered_df = df[df['global_sales'] < 1]\n",
    "\n",
    "fig = px.histogram(\n",
    "    filtered_df,\n",
    "    x='global_sales',\n",
    "    nbins=10,\n",
    "    title=\"How Many Games Sell Under 1 Million Copies?\",\n",
    "    color_discrete_sequence=['indianred']\n",
    ")\n",
    "\n",
    "fig.update_layout(\n",
    "    xaxis_title='Global Sales (millions)',\n",
    "    yaxis_title='Number of Game Released',\n",
    "    template='simple_white',\n",
    "    title_x=0.5,\n",
    "    width=1000,  # Set desired width\n",
    "    height=600   # Set desired height\n",
    ")\n",
    "\n",
    "\n",
    "fig.show()\n"
   ]
  },
  {
   "cell_type": "code",
   "execution_count": 78,
   "id": "0078205d-4b0c-4f3c-923a-696b3918332c",
   "metadata": {},
   "outputs": [
    {
     "data": {
      "text/html": [
       "<iframe\n",
       "    scrolling=\"no\"\n",
       "    width=\"100%\"\n",
       "    height=\"545px\"\n",
       "    src=\"iframe_figures/figure_78.html\"\n",
       "    frameborder=\"0\"\n",
       "    allowfullscreen\n",
       "></iframe>\n"
      ]
     },
     "metadata": {},
     "output_type": "display_data"
    }
   ],
   "source": [
    "platform_sales = (\n",
    "    df.groupby('platform', as_index=False)['global_sales']\n",
    "    .sum()\n",
    "    .query('global_sales > 100').head(10) \n",
    "    .sort_values(by='global_sales', ascending=False)\n",
    ")\n",
    "\n",
    "fig = px.bar(\n",
    "    platform_sales,\n",
    "    x='global_sales',\n",
    "    y='platform',\n",
    "    orientation='h',\n",
    "    title='Which consoles dominate global sales?',\n",
    "    color='platform',\n",
    "    color_discrete_sequence=px.colors.qualitative.Set1\n",
    ")\n",
    "\n",
    "fig.update_layout(\n",
    "    xaxis_title='global sales (millions)',\n",
    "    yaxis_title='platform',\n",
    "    title_x=0.5,\n",
    "    template='simple_white',\n",
    "    showlegend=False\n",
    ")\n",
    "\n",
    "fig.show()"
   ]
  },
  {
   "cell_type": "code",
   "execution_count": 27,
   "id": "7fa92d40-c996-4f6a-950e-5df241e2a9b3",
   "metadata": {},
   "outputs": [
    {
     "data": {
      "text/html": [
       "<iframe\n",
       "    scrolling=\"no\"\n",
       "    width=\"100%\"\n",
       "    height=\"545px\"\n",
       "    src=\"iframe_figures/figure_27.html\"\n",
       "    frameborder=\"0\"\n",
       "    allowfullscreen\n",
       "></iframe>\n"
      ]
     },
     "metadata": {},
     "output_type": "display_data"
    }
   ],
   "source": [
    "filtered_df = df[df['global_sales'] < 1]\n",
    "\n",
    "fig = px.histogram(\n",
    "    filtered_df,\n",
    "    x='global_sales',\n",
    "    nbins=40,\n",
    "    title=\"What's the typical sales range for most games?\",\n",
    "    color_discrete_sequence=['indianred']\n",
    ")\n",
    "\n",
    "fig.update_layout(\n",
    "    xaxis_title='Global Sales (millions)',\n",
    "    yaxis_title='Number of Games',\n",
    "    template='simple_white',\n",
    "    title_x=0.5\n",
    ")\n",
    "\n",
    "fig.show()"
   ]
  },
  {
   "cell_type": "code",
   "execution_count": 29,
   "id": "44b2ddc9-467b-475d-9fdd-18c9ee40b29f",
   "metadata": {},
   "outputs": [
    {
     "data": {
      "text/html": [
       "<iframe\n",
       "    scrolling=\"no\"\n",
       "    width=\"1020px\"\n",
       "    height=\"620\"\n",
       "    src=\"iframe_figures/figure_29.html\"\n",
       "    frameborder=\"0\"\n",
       "    allowfullscreen\n",
       "></iframe>\n"
      ]
     },
     "metadata": {},
     "output_type": "display_data"
    }
   ],
   "source": [
    "platform_sales = df.groupby('platform', as_index=False)['global_sales'].sum()\n",
    "\n",
    "platform_sales = platform_sales[platform_sales['global_sales'] > 100]\n",
    "\n",
    "platform_sales = platform_sales.sort_values(by='global_sales', ascending=False)\n",
    "\n",
    "fig = px.bar(\n",
    "    platform_sales,\n",
    "    x='global_sales',\n",
    "    y='platform',\n",
    "    orientation='h',\n",
    "    title='Which consoles dominate global sales?',\n",
    "    color_discrete_sequence=['indianred']  # Color uniforme\n",
    ")\n",
    "\n",
    "fig.update_layout(\n",
    "    xaxis_title='Global Sales (millions)',\n",
    "    yaxis_title='Platform',\n",
    "    title_x=0.5,\n",
    "    template='simple_white',\n",
    "    width=1000,\n",
    "    height=600,\n",
    "    showlegend=False\n",
    ")\n",
    "\n",
    "fig.show()"
   ]
  },
  {
   "cell_type": "code",
   "execution_count": 31,
   "id": "5692fecc-84eb-41d4-a77c-3bda3296d107",
   "metadata": {
    "scrolled": true
   },
   "outputs": [
    {
     "data": {
      "text/html": [
       "<iframe\n",
       "    scrolling=\"no\"\n",
       "    width=\"100%\"\n",
       "    height=\"545px\"\n",
       "    src=\"iframe_figures/figure_31.html\"\n",
       "    frameborder=\"0\"\n",
       "    allowfullscreen\n",
       "></iframe>\n"
      ]
     },
     "metadata": {},
     "output_type": "display_data"
    }
   ],
   "source": [
    "genre_sales = (\n",
    "    df.groupby('genre', as_index=False)['global_sales']\n",
    "    .sum()\n",
    "    .sort_values(by='global_sales', ascending=False)\n",
    ")\n",
    "\n",
    "top_genres = genre_sales.head(10)\n",
    "\n",
    "fig = px.bar(\n",
    "    top_genres,\n",
    "    x='genre',\n",
    "    y='global_sales',\n",
    "    title='Which genres are the most profitable?',\n",
    "    color='genre',\n",
    "    color_discrete_sequence=px.colors.qualitative.Pastel,\n",
    "    text='global_sales'\n",
    ")\n",
    "\n",
    "fig.update_traces(\n",
    "    texttemplate='%{text:.1f}',\n",
    "    textposition='outside'\n",
    ")\n",
    "\n",
    "fig.update_layout(\n",
    "    xaxis_tickangle=-40,\n",
    "    title_x=0.5\n",
    ")\n",
    "\n",
    "fig.show()\n",
    "\n"
   ]
  },
  {
   "cell_type": "code",
   "execution_count": 33,
   "id": "097550a7-83ab-473b-aa9e-3cb50de369f3",
   "metadata": {},
   "outputs": [
    {
     "data": {
      "image/png": "[encoded data removed]",
      "text/plain": [
       "<Figure size 800x600 with 2 Axes>"
      ]
     },
     "metadata": {},
     "output_type": "display_data"
    }
   ],
   "source": [
    "region_sales = df[['na_sales', 'eu_sales', 'jp_sales', 'other_sales']]\n",
    "\n",
    "correlation_matrix = region_sales.corr()\n",
    "\n",
    "plt.figure(figsize=(8, 6))\n",
    "sns.heatmap(correlation_matrix, annot=True, cmap='coolwarm', fmt=\".2f\")\n",
    "plt.title(\"Are regional sales correlated?\", fontsize=14)\n",
    "plt.show()"
   ]
  },
  {
   "cell_type": "markdown",
   "id": "45903f8b-775e-4642-8462-fd5407e08656",
   "metadata": {},
   "source": [
    "Sales in North America and Europe are strongly correlated, indicating similar market trends. However, Japan consistently shows low correlation with other regions, suggesting a distinct gaming culture and preferences."
   ]
  },
  {
   "cell_type": "code",
   "execution_count": 36,
   "id": "0dc93257-945c-48cc-8e33-cb97219c24c3",
   "metadata": {},
   "outputs": [
    {
     "data": {
      "text/html": [
       "<iframe\n",
       "    scrolling=\"no\"\n",
       "    width=\"100%\"\n",
       "    height=\"545px\"\n",
       "    src=\"iframe_figures/figure_36.html\"\n",
       "    frameborder=\"0\"\n",
       "    allowfullscreen\n",
       "></iframe>\n"
      ]
     },
     "metadata": {},
     "output_type": "display_data"
    }
   ],
   "source": [
    "top_publishers = (\n",
    "    df.groupby('publisher', as_index=False)['global_sales']\n",
    "    .sum()\n",
    "    .sort_values(by='global_sales', ascending=False)\n",
    "    .head(10)\n",
    ")\n",
    "\n",
    "fig = px.bar(\n",
    "    top_publishers,\n",
    "    x='publisher',\n",
    "    y='global_sales',\n",
    "    color='publisher',\n",
    "    title=\"Who are the top-selling publishers?\",\n",
    "    text='global_sales',\n",
    "    color_discrete_sequence=px.colors.qualitative.Set1\n",
    ")\n",
    "\n",
    "fig.update_traces(texttemplate='%{text:.1f}', textposition='outside')\n",
    "fig.update_layout(\n",
    "    xaxis_title='Publisher',\n",
    "    yaxis_title='Global Sales (millions)',\n",
    "    title_x=0.5,\n",
    "    template='simple_white',\n",
    "    showlegend=False\n",
    ")\n",
    "\n",
    "fig.show()"
   ]
  },
  {
   "cell_type": "code",
   "execution_count": 38,
   "id": "54ae97a5-85d2-4c05-9fbf-1159fe4a4bdc",
   "metadata": {},
   "outputs": [
    {
     "data": {
      "text/html": [
       "<iframe\n",
       "    scrolling=\"no\"\n",
       "    width=\"920px\"\n",
       "    height=\"520\"\n",
       "    src=\"iframe_figures/figure_38.html\"\n",
       "    frameborder=\"0\"\n",
       "    allowfullscreen\n",
       "></iframe>\n"
      ]
     },
     "metadata": {},
     "output_type": "display_data"
    }
   ],
   "source": [
    "yearly_releases = (\n",
    "    df.groupby('year_of_release', as_index=False)\n",
    "    .agg(game_count=('name', 'count'))\n",
    "    .sort_values(by='year_of_release')\n",
    ")\n",
    "\n",
    "fig = px.line(\n",
    "    yearly_releases,\n",
    "    x='year_of_release',\n",
    "    y='game_count',\n",
    "    title='Are game releases declining over time?',\n",
    "    markers=True\n",
    ")\n",
    "\n",
    "fig.update_layout(\n",
    "    xaxis_title='Year of Release',\n",
    "    yaxis_title='Number of Games Released',\n",
    "    title_x=0.5,\n",
    "    template='simple_white',\n",
    "    width=900,\n",
    "    height=500\n",
    ")\n",
    "\n",
    "fig.show()\n"
   ]
  },
  {
   "cell_type": "markdown",
   "id": "52c7bd03-a3d7-48f2-9d84-8072a2396a44",
   "metadata": {},
   "source": [
    "The video game industry evolved from an era of explosive growth in releases to a more selective and mature phase. Today, fewer titles are launched, but they tend to be higher-budget and longer in scope.\n",
    "\n",
    "- Notably, the sharp decline in game releases after 2019 may also reflect the effects of the COVID-19 pandemic, which disrupted production pipelines, delayed launches, and shifted development workflows across the industry.\n",
    "\n",
    "- Between 2009–2012, game releases declined sharply due to the rise of mobile gaming, a shift to digital platforms, and preparation for new console generations. This context is key; while fewer games were released, more effort was focused on larger, higher-budget titles."
   ]
  },
  {
   "cell_type": "code",
   "execution_count": 41,
   "id": "f8813f77-6a0f-444b-a74c-e2f534e72d4a",
   "metadata": {},
   "outputs": [
    {
     "data": {
      "text/html": [
       "<iframe\n",
       "    scrolling=\"no\"\n",
       "    width=\"820px\"\n",
       "    height=\"520\"\n",
       "    src=\"iframe_figures/figure_41.html\"\n",
       "    frameborder=\"0\"\n",
       "    allowfullscreen\n",
       "></iframe>\n"
      ]
     },
     "metadata": {},
     "output_type": "display_data"
    }
   ],
   "source": [
    "region_sales_long = df.melt(\n",
    "    value_vars=['na_sales', 'eu_sales', 'jp_sales', 'other_sales'],\n",
    "    var_name='region',\n",
    "    value_name='sales'\n",
    ")\n",
    "\n",
    "fig = px.box(\n",
    "    region_sales_long,\n",
    "    x='region',\n",
    "    y='sales',\n",
    "    color='region',\n",
    "    title='Do regional preferences shape game sales?',\n",
    "    color_discrete_sequence=px.colors.qualitative.Set2,\n",
    "    points='outliers'  # Mostrar outliers\n",
    ")\n",
    "\n",
    "fig.update_layout(\n",
    "    yaxis_title='Sales (millions)',\n",
    "    xaxis_title='Region',\n",
    "    title_x=0.5,\n",
    "    template='simple_white',\n",
    "    width=800,\n",
    "    height=500,\n",
    "    showlegend=False\n",
    ")\n",
    "\n",
    "fig.show()"
   ]
  },
  {
   "cell_type": "code",
   "execution_count": 42,
   "id": "4df707fc-90d5-4618-9312-feacad749c6d",
   "metadata": {},
   "outputs": [
    {
     "data": {
      "text/html": [
       "<iframe\n",
       "    scrolling=\"no\"\n",
       "    width=\"920px\"\n",
       "    height=\"520\"\n",
       "    src=\"iframe_figures/figure_42.html\"\n",
       "    frameborder=\"0\"\n",
       "    allowfullscreen\n",
       "></iframe>\n"
      ]
     },
     "metadata": {},
     "output_type": "display_data"
    }
   ],
   "source": [
    "year_sales = (\n",
    "    df.groupby('year_of_release', as_index=False)['global_sales']\n",
    "    .sum()\n",
    "    .sort_values(by='year_of_release')\n",
    ")\n",
    "\n",
    "year_sales['cumulative_sales'] = year_sales['global_sales'].cumsum()\n",
    "\n",
    "fig = px.area(\n",
    "    year_sales,\n",
    "    x='year_of_release',\n",
    "    y='cumulative_sales',\n",
    "    title=\"When did the video game boom really happen?\",\n",
    "    labels={'year_of_release': 'Year', 'cumulative_sales': 'Cumulative Global Sales (millions)'},\n",
    "    template='simple_white',\n",
    "    width=900,\n",
    "    height=500\n",
    ")\n",
    "\n",
    "fig.update_layout(\n",
    "    title_x=0.5,\n",
    "    xaxis=dict(dtick=5),\n",
    ")\n",
    "\n",
    "fig.show()"
   ]
  },
  {
   "cell_type": "code",
   "execution_count": 44,
   "id": "463c8825-6d00-4251-a38a-b891f619c7b9",
   "metadata": {},
   "outputs": [
    {
     "data": {
      "text/html": [
       "<iframe\n",
       "    scrolling=\"no\"\n",
       "    width=\"100%\"\n",
       "    height=\"545px\"\n",
       "    src=\"iframe_figures/figure_44.html\"\n",
       "    frameborder=\"0\"\n",
       "    allowfullscreen\n",
       "></iframe>\n"
      ]
     },
     "metadata": {},
     "output_type": "display_data"
    }
   ],
   "source": [
    "region_totals = df[['na_sales', 'eu_sales', 'jp_sales', 'other_sales']].sum()\n",
    "\n",
    "region_df = region_totals.reset_index()\n",
    "region_df.columns = ['region', 'total_sales']\n",
    "\n",
    "fig = px.pie(\n",
    "    region_df,\n",
    "    names='region',\n",
    "    values='total_sales',\n",
    "    title=\"Who really drives global video game sales?\",\n",
    "    color_discrete_sequence=px.colors.sequential.RdBu,\n",
    "    hole=0.4  \n",
    ")\n",
    "\n",
    "fig.update_layout(title_x=0.5)\n",
    "\n",
    "fig.show()\n"
   ]
  },
  {
   "cell_type": "code",
   "execution_count": 45,
   "id": "ce072047-20be-467c-86fc-4a9f33f2857c",
   "metadata": {},
   "outputs": [
    {
     "data": {
      "text/html": [
       "<iframe\n",
       "    scrolling=\"no\"\n",
       "    width=\"100%\"\n",
       "    height=\"520\"\n",
       "    src=\"iframe_figures/figure_45.html\"\n",
       "    frameborder=\"0\"\n",
       "    allowfullscreen\n",
       "></iframe>\n"
      ]
     },
     "metadata": {},
     "output_type": "display_data"
    }
   ],
   "source": [
    "top_games = df[['name', 'global_sales']].sort_values(by='global_sales', ascending=False).head(10)\n",
    "\n",
    "fig = px.bar(\n",
    "    top_games,\n",
    "    x='global_sales',\n",
    "    y='name',\n",
    "    orientation='h',\n",
    "    title='Who are the top-selling games of all time?',\n",
    "    text='global_sales',\n",
    "    color='name',\n",
    "    color_discrete_sequence=px.colors.qualitative.Safe\n",
    ")\n",
    "\n",
    "fig.update_traces(texttemplate='%{text:.1f}', textposition='outside')\n",
    "\n",
    "fig.update_layout(\n",
    "    xaxis_title='Global Sales (millions)',\n",
    "    yaxis_title='Game Title',\n",
    "    title_x=0.5,\n",
    "    template='simple_white',\n",
    "    showlegend=False,\n",
    "    height=500\n",
    ")\n",
    "\n",
    "fig.show()\n"
   ]
  },
  {
   "cell_type": "code",
   "execution_count": 70,
   "id": "baf9b5c4-e890-4b0d-a58a-918f3c254c29",
   "metadata": {},
   "outputs": [
    {
     "data": {
      "text/html": [
       "<iframe\n",
       "    scrolling=\"no\"\n",
       "    width=\"1020px\"\n",
       "    height=\"620\"\n",
       "    src=\"iframe_figures/figure_70.html\"\n",
       "    frameborder=\"0\"\n",
       "    allowfullscreen\n",
       "></iframe>\n"
      ]
     },
     "metadata": {},
     "output_type": "display_data"
    }
   ],
   "source": [
    "top_platforms = df.groupby('platform', as_index=False)['global_sales'].sum()\n",
    "top_10_platforms = top_platforms.sort_values(by='global_sales', ascending=False).head(10)['platform']\n",
    "\n",
    "filtered_df = df[df['platform'].isin(top_10_platforms)]\n",
    "\n",
    "top_per_platform = filtered_df.sort_values('global_sales', ascending=False).drop_duplicates('platform')\n",
    "\n",
    "fig = px.treemap(\n",
    "    top_per_platform,\n",
    "    path=['platform', 'name'],\n",
    "    values='global_sales',\n",
    "    title=\"Which game leads the Top 10 platforms?\",\n",
    "    color='platform',\n",
    "    color_discrete_sequence=px.colors.qualitative.Set3\n",
    ")\n",
    "fig.update_layout(\n",
    "    title_x=0.5,\n",
    "    width=1000,  # Set desired width\n",
    "    height=600   # Set desired height\n",
    ")\n",
    "fig.show()"
   ]
  },
  {
   "cell_type": "code",
   "execution_count": 68,
   "id": "aeca5bbf-7306-419e-b171-47914b031578",
   "metadata": {
    "scrolled": true
   },
   "outputs": [
    {
     "data": {
      "text/html": [
       "<iframe\n",
       "    scrolling=\"no\"\n",
       "    width=\"100%\"\n",
       "    height=\"545px\"\n",
       "    src=\"iframe_figures/figure_68.html\"\n",
       "    frameborder=\"0\"\n",
       "    allowfullscreen\n",
       "></iframe>\n"
      ]
     },
     "metadata": {},
     "output_type": "display_data"
    }
   ],
   "source": [
    "## import plotly.express as px\n",
    "\n",
    "# Filter games released from 2015 onwards\n",
    "recent = df[df['year_of_release'] >= 2015]\n",
    "\n",
    "# Get top 4 platforms by total global sales in that period\n",
    "top_recent_platforms = (\n",
    "    recent.groupby('platform')['global_sales']\n",
    "    .sum()\n",
    "    .sort_values(ascending=False)\n",
    "    .head(4)\n",
    "    .index\n",
    ")\n",
    "\n",
    "# Filter games only from those top platforms\n",
    "subset = recent[recent['platform'].isin(top_recent_platforms)]\n",
    "\n",
    "# Get top 6 games per platform\n",
    "top_games = (\n",
    "    subset.groupby(['platform', 'name'], as_index=False)['global_sales']\n",
    "    .sum()\n",
    "    .sort_values(['platform', 'global_sales'], ascending=[True, False])\n",
    "    .groupby('platform')\n",
    "    .head(6)\n",
    ")\n",
    "\n",
    "# Create treemap\n",
    "fig = px.treemap(\n",
    "    top_games,\n",
    "    path=['platform', 'name'],\n",
    "    values='global_sales',\n",
    "    title='What are the most played games on recent platforms?',\n",
    "    color='platform',\n",
    "    color_discrete_sequence=px.colors.qualitative.Set3\n",
    ")\n",
    "\n",
    "fig.update_layout(title_x=0.5)\n",
    "fig.show()\n",
    "\n"
   ]
  },
  {
   "cell_type": "markdown",
   "id": "044870c7-f07c-47b9-befc-bd0e1c577900",
   "metadata": {},
   "source": [
    "> **Disclaimer:** This dataset focuses on physical sales and excludes most digital distribution.  \n",
    "> Recent platforms and PC games may be underrepresented. \n"
   ]
  },
  {
   "cell_type": "code",
   "execution_count": null,
   "id": "938e709e-508d-4161-8e2f-c57a5814a17a",
   "metadata": {},
   "outputs": [],
   "source": []
  },
  {
   "cell_type": "code",
   "execution_count": null,
   "id": "2d9ce3c7-a7c6-4485-909a-5b05e5d32821",
   "metadata": {},
   "outputs": [],
   "source": []
  },
  {
   "cell_type": "code",
   "execution_count": null,
   "id": "d29c90e1-3bb6-4d0b-bf9f-85c224a84928",
   "metadata": {},
   "outputs": [],
   "source": []
  },
  {
   "cell_type": "code",
   "execution_count": null,
   "id": "7ad5af02-665e-4261-99b7-b0f6d5cec3c9",
   "metadata": {},
   "outputs": [],
   "source": []
  },
  {
   "cell_type": "code",
   "execution_count": null,
   "id": "8a5c4df6-0bb7-4c83-81dc-e254001fe655",
   "metadata": {},
   "outputs": [],
   "source": []
  }
 ],
 "metadata": {
  "kernelspec": {
   "display_name": "Python [conda env:base] *",
   "language": "python",
   "name": "conda-base-py"
  },
  "language_info": {
   "codemirror_mode": {
    "name": "ipython",
    "version": 3
   },
   "file_extension": ".py",
   "mimetype": "text/x-python",
   "name": "python",
   "nbconvert_exporter": "python",
   "pygments_lexer": "ipython3",
   "version": "3.12.7"
  }
 },
 "nbformat": 4,
 "nbformat_minor": 5
}
