{
 "cells": [
  {
   "cell_type": "code",
   "execution_count": null,
   "id": "b027ab0e-8ddb-4b7e-bdee-ab593846782c",
   "metadata": {},
   "outputs": [],
   "source": [
    "import pandas as pd\n",
    "import matplotlib.pyplot as plt\n",
    "import seaborn as sns\n",
    "import plotly.io as pio\n",
    "import plotly.express as px\n",
    "import matplotlib.patheffects as path_effects\n",
    "\n",
    "\n",
    "\n",
    "pio.renderers.default = 'iframe_connected'\n",
    "\n",
    "# Load cleaned dataset\n",
    "df = pd.read_csv('../../data/clean/video_game_sales_final_cleaned.csv')\n",
    "\n",
    "# Basic info\n",
    "df.info()\n",
    "df.describe()\n",
    "\n",
    "# Check nulls again\n",
    "print(df.isnull().sum())\n",
    "\n",
    "# Preview\n",
    "df.head()\n"
   ]
  },
  {
   "cell_type": "code",
   "execution_count": null,
   "id": "7ad01b01-1e2a-43c9-b06e-564bf28b374e",
   "metadata": {},
   "outputs": [],
   "source": [
    "df['genre'].value_counts()\n"
   ]
  },
  {
   "cell_type": "markdown",
   "id": "240d9b81-eabb-445b-b212-5de7ad09910c",
   "metadata": {},
   "source": [
    "## Dataset Overview\n",
    "\n",
    "###  General Info:\n",
    "- **Total entries**: 59,379  \n",
    "- **Columns**: 13  \n",
    "- **Data types**: 5 floats, 1 integer, 7 objects  \n",
    "- **Memory usage**: ~5.9 MB  \n",
    "\n",
    "---\n",
    "\n",
    "###  Key Columns:\n",
    "- `name`, `platform`, `genre`, `publisher`, `rating`, `rating_grouped` → *Categorical*\n",
    "- `na_sales`, `eu_sales`, `jp_sales`, `other_sales`, `global_sales` → *Continuous numeric (float)*\n",
    "- `year_of_release` → *Numeric (but represents time)*\n",
    "\n",
    "---\n",
    "\n",
    "###  Missing Values:\n",
    "- `rating` and `rating_grouped`: Only ~16,447 non-null values → **significant missing data**\n",
    "- All other columns are fully populated\n",
    "\n",
    "---\n",
    "\n",
    "###  Duplicates:\n",
    "- Consider checking with `df.duplicated().sum()`\n",
    "- The `name_clean` column may help identify re-releases or duplicates\n",
    "\n",
    "---\n",
    "\n",
    "###  Top Observations:\n",
    "- **Most repeated game**: `doom` (16 times) — likely due to re-releases on multiple platforms\n",
    "- **Most common publisher**: `Sega` with 2,326 titles\n",
    "- **Sales skew**: Most games sold **very little**  \n",
    "  - Mean of `global_sales`: ~0.17 million units  \n",
    "  - Max value: **82.5 million units**\n",
    "- Distribution is **highly right-skewed**\n"
   ]
  },
  {
   "cell_type": "code",
<<<<<<< HEAD
   "execution_count": null,
=======
   "execution_count": 5,
>>>>>>> main
   "id": "fa1de612-5aaf-4d40-bf22-950ac16df34d",
   "metadata": {},
   "outputs": [],
   "source": [
    "print(f'Duplicated rows: {df.duplicated().sum()}')\n"
   ]
  },
  {
   "cell_type": "code",
<<<<<<< HEAD
   "execution_count": null,
=======
   "execution_count": 7,
>>>>>>> main
   "id": "87d03553-0a5d-48df-a256-aa43fb170bbb",
   "metadata": {},
   "outputs": [],
   "source": [
    "df['year_of_release'] = df['year_of_release'].astype(int)\n"
   ]
  },
  {
   "cell_type": "code",
<<<<<<< HEAD
   "execution_count": null,
   "id": "8457de6f-4bfe-4e50-8857-d189465cf388",
   "metadata": {},
   "outputs": [],
=======
   "execution_count": 76,
   "id": "8457de6f-4bfe-4e50-8857-d189465cf388",
   "metadata": {},
   "outputs": [
    {
     "data": {
      "text/html": [
       "<iframe\n",
       "    scrolling=\"no\"\n",
       "    width=\"1020px\"\n",
       "    height=\"620\"\n",
       "    src=\"iframe_figures/figure_76.html\"\n",
       "    frameborder=\"0\"\n",
       "    allowfullscreen\n",
       "></iframe>\n"
      ]
     },
     "metadata": {},
     "output_type": "display_data"
    }
   ],
   "source": [
    "filtered_df = df[df['global_sales'] < 1]\n",
    "\n",
    "fig = px.histogram(\n",
    "    filtered_df,\n",
    "    x='global_sales',\n",
    "    nbins=10,\n",
    "    title=\"How Many Games Sell Under 1 Million Copies?\",\n",
    "    color_discrete_sequence=['indianred']\n",
    ")\n",
    "\n",
    "fig.update_layout(\n",
    "    xaxis_title='Global Sales (millions)',\n",
    "    yaxis_title='Number of Game Released',\n",
    "    template='simple_white',\n",
    "    title_x=0.5,\n",
    "    width=1000,  # Set desired width\n",
    "    height=600   # Set desired height\n",
    ")\n",
    "\n",
    "\n",
    "fig.show()\n"
   ]
  },
  {
   "cell_type": "code",
   "execution_count": 78,
   "id": "0078205d-4b0c-4f3c-923a-696b3918332c",
   "metadata": {},
   "outputs": [
    {
     "data": {
      "text/html": [
       "<iframe\n",
       "    scrolling=\"no\"\n",
       "    width=\"100%\"\n",
       "    height=\"545px\"\n",
       "    src=\"iframe_figures/figure_78.html\"\n",
       "    frameborder=\"0\"\n",
       "    allowfullscreen\n",
       "></iframe>\n"
      ]
     },
     "metadata": {},
     "output_type": "display_data"
    }
   ],
   "source": [
    "platform_sales = (\n",
    "    df.groupby('platform', as_index=False)['global_sales']\n",
    "    .sum()\n",
    "    .query('global_sales > 100').head(10) \n",
    "    .sort_values(by='global_sales', ascending=False)\n",
    ")\n",
    "\n",
    "fig = px.bar(\n",
    "    platform_sales,\n",
    "    x='global_sales',\n",
    "    y='platform',\n",
    "    orientation='h',\n",
    "    title='Which consoles dominate global sales?',\n",
    "    color='platform',\n",
    "    color_discrete_sequence=px.colors.qualitative.Set1\n",
    ")\n",
    "\n",
    "fig.update_layout(\n",
    "    xaxis_title='global sales (millions)',\n",
    "    yaxis_title='platform',\n",
    "    title_x=0.5,\n",
    "    template='simple_white',\n",
    "    showlegend=False\n",
    ")\n",
    "\n",
    "fig.show()"
   ]
  },
  {
   "cell_type": "code",
   "execution_count": 27,
   "id": "7fa92d40-c996-4f6a-950e-5df241e2a9b3",
   "metadata": {},
   "outputs": [
    {
     "data": {
      "text/html": [
       "<iframe\n",
       "    scrolling=\"no\"\n",
       "    width=\"100%\"\n",
       "    height=\"545px\"\n",
       "    src=\"iframe_figures/figure_27.html\"\n",
       "    frameborder=\"0\"\n",
       "    allowfullscreen\n",
       "></iframe>\n"
      ]
     },
     "metadata": {},
     "output_type": "display_data"
    }
   ],
>>>>>>> main
   "source": [
    "plt.style.use('dark_background')\n",
    "\n",
    "filtered_df = df[df['global_sales'] < 1]\n",
    "\n",
    "plt.figure(figsize=(10, 6))\n",
    "ax = sns.histplot(\n",
    "    data=filtered_df,\n",
    "    x='global_sales',\n",
    "    bins=40,\n",
    "    color='#00FF00',\n",
    "    edgecolor='#00FF88'\n",
    ")\n",
    "\n",
    "title = plt.title(\n",
    "    \"WHAT'S THE TYPICAL SALES RANGE FOR MOST GAMES?\",\n",
    "    fontsize=16,\n",
    "    fontname='Courier New',\n",
    "    color='#00FF00',\n",
    "    pad=20\n",
    ")\n",
    "title.set_path_effects([path_effects.Stroke(linewidth=2, foreground='black'), path_effects.Normal()])\n",
    "\n",
    "plt.xlabel(\"Global Sales (millions)\", fontsize=12, fontname='Courier New', color='#00FF00')\n",
    "plt.ylabel(\"Number of Games\", fontsize=12, fontname='Courier New', color='#00FF00')\n",
    "\n",
    "plt.xticks(color='#00FF00')\n",
    "plt.yticks(color='#00FF00')\n",
    "plt.grid(False)\n",
    "\n",
    "plt.savefig(\n",
    "    r\"C:\\Users\\PcVIP\\Desktop\\Bootcamp\\Week7\\Weekly_project_ml\\video_game_sales\\presentations\\graphs\\low_sales_distribution.png\",\n",
    "    transparent=True,\n",
    "    bbox_inches='tight',\n",
    "    facecolor='none'\n",
    ")\n",
    "\n",
<<<<<<< HEAD
    "plt.show()"
   ]
  },
  {
   "cell_type": "markdown",
   "id": "c3a8210c-cffc-44c2-a42a-cbd6100ae4ef",
   "metadata": {},
   "source": [
    "This histogram shows that most video games sell less than **0.1 million copies**, indicating a **strong right-skewed distribution**. While a few blockbusters generate massive revenue, the majority of titles achieve relatively modest sales.\n",
    "\n"
   ]
  },
  {
   "cell_type": "code",
   "execution_count": null,
   "id": "0078205d-4b0c-4f3c-923a-696b3918332c",
   "metadata": {},
   "outputs": [],
   "source": [
    "plt.style.use('dark_background')\n",
    "\n",
    "platform_sales = (\n",
    "    df.groupby('platform', as_index=False)['global_sales']\n",
    "    .sum()\n",
    "    .query('global_sales > 100')\n",
    "    .sort_values(by='global_sales', ascending=True)  # invertimos para horizontal\n",
    ")\n",
    "\n",
    "plt.figure(figsize=(12, 8))\n",
    "ax = sns.barplot(\n",
    "    data=platform_sales,\n",
    "    x='global_sales',\n",
    "    y='platform',\n",
    "    color='#00FF00',\n",
    "    edgecolor='#00FF88'\n",
    ")\n",
    "\n",
    "title = plt.title(\n",
    "    \"WHICH CONSOLES DOMINATE GLOBAL SALES?\",\n",
    "    fontsize=16,\n",
    "    fontname='Courier New',\n",
    "    color='#00FF00',\n",
    "    pad=20\n",
    ")\n",
    "title.set_path_effects([path_effects.Stroke(linewidth=2, foreground='black'), path_effects.Normal()])\n",
    "\n",
    "plt.xlabel(\"Global Sales (millions)\", fontsize=12, fontname='Courier New', color='#00FF00')\n",
    "plt.ylabel(\"Platform\", fontsize=12, fontname='Courier New', color='#00FF00')\n",
    "\n",
    "plt.xticks(color='#00FF00')\n",
    "plt.yticks(color='#00FF00')\n",
    "plt.grid(False)\n",
    "\n",
    "plt.savefig(\n",
    "    r\"C:\\Users\\PcVIP\\Desktop\\Bootcamp\\Week7\\Weekly_project_ml\\video_game_sales\\presentations\\graphs\\platform_sales_dominance.png\",\n",
    "    transparent=True,\n",
    "    bbox_inches='tight',\n",
    "    facecolor='none'\n",
    ")\n",
    "\n",
    "plt.show()"
   ]
  },
  {
   "cell_type": "markdown",
   "id": "57031d40-6cd1-4298-85f7-ccddf13ce317",
   "metadata": {},
   "source": [
    "This chart highlights the platforms with the highest cumulative global sales. Sony's **PlayStation 2 (PS2)** leads the market, followed closely by **PS3**, **Xbox 360**, and **Wii**, showcasing the dominance of these consoles during the 2000s and early 2010s.\n"
=======
    "fig.show()"
>>>>>>> main
   ]
  },
  {
   "cell_type": "code",
<<<<<<< HEAD
   "execution_count": null,
   "id": "7fa92d40-c996-4f6a-950e-5df241e2a9b3",
   "metadata": {},
   "outputs": [],
   "source": [
    "plt.style.use('dark_background')\n",
    "\n",
    "df = pd.read_csv(\n",
    "    r\"C:\\Users\\PcVIP\\Desktop\\Bootcamp\\Week7\\Weekly_project_ml\\video_game_sales\\data\\clean\\video_game_sales_final_cleaned.csv\"\n",
    ")\n",
    "\n",
    "filtered_df = df[df['global_sales'] < 1]\n",
    "\n",
    "plt.figure(figsize=(10, 6))\n",
    "sns.histplot(filtered_df['global_sales'], bins=40, color='#00FF00', edgecolor='black')\n",
    "\n",
    "plt.title(\"What is the typical global sales range for most video games?\", fontname='Courier New', fontsize=16, color='#00FF00')\n",
    "plt.xlabel(\"Global Sales (millions)\", fontname='Courier New', color='#00FF00')\n",
    "plt.ylabel(\"Games Count\", fontname='Courier New', color='#00FF00')\n",
    "plt.tick_params(colors='#00FF00')\n",
    "plt.grid(False)\n",
    "\n",
    "plt.savefig(\n",
    "    r\"C:\\Users\\PcVIP\\Desktop\\Bootcamp\\Week7\\Weekly_project_ml\\video_game_sales\\presentations\\graphs\\sales_distribution_under_1M.png\",\n",
    "    transparent=True\n",
    ")\n",
    "\n",
    "plt.show()\n"
   ]
  },
  {
   "cell_type": "markdown",
   "id": "ca823773-b66c-4cd2-85e2-26a949e62254",
   "metadata": {},
   "source": [
    "## Most games sell fewer than 1 million copies, with the majority clustered below 200,000.\n",
    "This supports using 1M units as a threshold for defining a blockbuster hit."
   ]
  },
  {
   "cell_type": "code",
   "execution_count": null,
=======
   "execution_count": 29,
>>>>>>> main
   "id": "44b2ddc9-467b-475d-9fdd-18c9ee40b29f",
   "metadata": {},
   "outputs": [
    {
     "data": {
      "text/html": [
       "<iframe\n",
       "    scrolling=\"no\"\n",
       "    width=\"1020px\"\n",
       "    height=\"620\"\n",
       "    src=\"iframe_figures/figure_29.html\"\n",
       "    frameborder=\"0\"\n",
       "    allowfullscreen\n",
       "></iframe>\n"
      ]
     },
     "metadata": {},
     "output_type": "display_data"
    }
   ],
   "source": [
    "plt.style.use('dark_background')\n",
    "\n",
    "platform_sales = df.groupby('platform', as_index=False)['global_sales'].sum()\n",
    "platform_sales = platform_sales[platform_sales['global_sales'] > 100]\n",
    "platform_sales = platform_sales.sort_values(by='global_sales', ascending=True)\n",
    "\n",
    "plt.figure(figsize=(12, 8))\n",
    "ax = sns.barplot(\n",
    "    data=platform_sales,\n",
    "    x='global_sales',\n",
    "    y='platform',\n",
    "    color='#00FF00',\n",
    "    edgecolor='#00FF88'\n",
    ")\n",
    "\n",
    "title = plt.title(\n",
    "    \"WHICH CONSOLES DOMINATE GLOBAL SALES?\",\n",
    "    fontsize=16,\n",
    "    fontname='Courier New',\n",
    "    color='#00FF00',\n",
    "    pad=20\n",
    ")\n",
    "title.set_path_effects([path_effects.Stroke(linewidth=2, foreground='black'), path_effects.Normal()])\n",
    "\n",
    "plt.xlabel(\"Global Sales (millions)\", fontsize=12, fontname='Courier New', color='#00FF00')\n",
    "plt.ylabel(\"Platform\", fontsize=12, fontname='Courier New', color='#00FF00')\n",
    "plt.xticks(color='#00FF00')\n",
    "plt.yticks(color='#00FF00')\n",
    "plt.grid(False)\n",
    "\n",
    "plt.savefig(\n",
    "    r\"C:\\Users\\PcVIP\\Desktop\\Bootcamp\\Week7\\Weekly_project_ml\\video_game_sales\\presentations\\graphs\\platform_sales_dominance.png\",\n",
    "    transparent=True,\n",
    "    bbox_inches='tight',\n",
    "    facecolor='none'\n",
    ")\n",
    "\n",
    "plt.show()"
   ]
  },
  {
   "cell_type": "markdown",
   "id": "3727a149-4fb3-4d0d-8fa4-58633ac91200",
   "metadata": {},
   "source": [
    "This chart reveals which platforms have dominated global video game sales. The **PlayStation 2 (PS2)** leads with the highest cumulative sales, followed closely by **PS3**, **Xbox 360**, and **Wii**. Notably, handheld consoles like the **Nintendo DS** and **PSP** also show strong performance, highlighting their global popularity during the 2000s.\n"
   ]
  },
  {
   "cell_type": "code",
   "execution_count": 31,
   "id": "5692fecc-84eb-41d4-a77c-3bda3296d107",
<<<<<<< HEAD
   "metadata": {},
   "outputs": [],
=======
   "metadata": {
    "scrolled": true
   },
   "outputs": [
    {
     "data": {
      "text/html": [
       "<iframe\n",
       "    scrolling=\"no\"\n",
       "    width=\"100%\"\n",
       "    height=\"545px\"\n",
       "    src=\"iframe_figures/figure_31.html\"\n",
       "    frameborder=\"0\"\n",
       "    allowfullscreen\n",
       "></iframe>\n"
      ]
     },
     "metadata": {},
     "output_type": "display_data"
    }
   ],
>>>>>>> main
   "source": [
    "genre_sales = (\n",
    "    df.groupby('genre', as_index=False)['global_sales']\n",
    "    .sum()\n",
    "    .sort_values(by='global_sales', ascending=False)\n",
    ")\n",
    "\n",
    "top_genres = genre_sales.head(10)\n",
    "\n",
    "fig = px.bar(\n",
    "    top_genres,\n",
    "    x='genre',\n",
    "    y='global_sales',\n",
    "    title='Which genres are the most profitable?',\n",
    "    color='genre',\n",
    "    color_discrete_sequence=px.colors.qualitative.Pastel,\n",
    "    text='global_sales'\n",
    ")\n",
    "\n",
    "fig.update_traces(\n",
    "    texttemplate='%{text:.1f}',\n",
    "    textposition='outside'\n",
    ")\n",
    "\n",
    "fig.update_layout(\n",
    "    xaxis_tickangle=-40,\n",
    "    title_x=0.5\n",
    ")\n",
    "\n",
    "fig.show()\n",
    "\n"
   ]
  },
  {
   "cell_type": "markdown",
   "id": "1df47075-8a8a-481e-b328-91309bd81f4a",
   "metadata": {},
   "source": [
    "Which genres are the most profitable?\n",
    "The chart shows that Action, Sports, and Shooter games dominate global sales, with Action games generating over 2 billion in cumulative sales, confirming their long-standing popularity and commercial appeal."
   ]
  },
  {
   "cell_type": "code",
   "execution_count": 33,
   "id": "097550a7-83ab-473b-aa9e-3cb50de369f3",
   "metadata": {},
   "outputs": [
    {
     "data": {
      "image/png": "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",
      "text/plain": [
       "<Figure size 800x600 with 2 Axes>"
      ]
     },
     "metadata": {},
     "output_type": "display_data"
    }
   ],
   "source": [
    "region_sales = df[['na_sales', 'eu_sales', 'jp_sales', 'other_sales']]\n",
    "\n",
    "correlation_matrix = region_sales.corr()\n",
    "\n",
    "plt.figure(figsize=(8, 6))\n",
    "sns.heatmap(correlation_matrix, annot=True, cmap='coolwarm', fmt=\".2f\")\n",
    "plt.title(\"Are regional sales correlated?\", fontsize=14)\n",
    "plt.show()"
   ]
  },
  {
   "cell_type": "code",
   "execution_count": null,
   "id": "0c607eea-467c-46ff-ac52-b03cc0dcb361",
   "metadata": {},
   "outputs": [],
   "source": []
  },
  {
   "cell_type": "markdown",
   "id": "45903f8b-775e-4642-8462-fd5407e08656",
   "metadata": {},
   "source": [
    "Sales in North America and Europe are strongly correlated, indicating similar market trends. However, Japan consistently shows low correlation with other regions, suggesting a distinct gaming culture and preferences."
   ]
  },
  {
   "cell_type": "code",
   "execution_count": 36,
   "id": "0dc93257-945c-48cc-8e33-cb97219c24c3",
   "metadata": {},
   "outputs": [
    {
     "data": {
      "text/html": [
       "<iframe\n",
       "    scrolling=\"no\"\n",
       "    width=\"100%\"\n",
       "    height=\"545px\"\n",
       "    src=\"iframe_figures/figure_36.html\"\n",
       "    frameborder=\"0\"\n",
       "    allowfullscreen\n",
       "></iframe>\n"
      ]
     },
     "metadata": {},
     "output_type": "display_data"
    }
   ],
   "source": [
    "top_publishers = (\n",
    "    df.groupby('publisher', as_index=False)['global_sales']\n",
    "    .sum()\n",
    "    .sort_values(by='global_sales', ascending=False)\n",
    "    .head(10)\n",
    ")\n",
    "\n",
    "fig = px.bar(\n",
    "    top_publishers,\n",
    "    x='publisher',\n",
    "    y='global_sales',\n",
    "    color='publisher',\n",
    "    title=\"Who are the top-selling publishers?\",\n",
    "    text='global_sales',\n",
    "    color_discrete_sequence=px.colors.qualitative.Set1\n",
    ")\n",
    "\n",
    "fig.update_traces(texttemplate='%{text:.1f}', textposition='outside')\n",
    "fig.update_layout(\n",
    "    xaxis_title='Publisher',\n",
    "    yaxis_title='Global Sales (millions)',\n",
    "    title_x=0.5,\n",
    "    template='simple_white',\n",
    "    showlegend=False\n",
    ")\n",
    "\n",
    "fig.show()"
   ]
  },
  {
   "cell_type": "markdown",
   "id": "2a928b0e-b292-4103-a22a-495b87bea4dd",
   "metadata": {},
   "source": [
    "Who are the top-selling publishers?\n",
    "This chart reveals that Nintendo is by far the leading publisher in global sales, followed by Electronic Arts and Activision, demonstrating their consistent market dominance over the years."
   ]
  },
  {
   "cell_type": "code",
   "execution_count": 38,
   "id": "54ae97a5-85d2-4c05-9fbf-1159fe4a4bdc",
   "metadata": {},
   "outputs": [
    {
     "data": {
      "text/html": [
       "<iframe\n",
       "    scrolling=\"no\"\n",
       "    width=\"920px\"\n",
       "    height=\"520\"\n",
       "    src=\"iframe_figures/figure_38.html\"\n",
       "    frameborder=\"0\"\n",
       "    allowfullscreen\n",
       "></iframe>\n"
      ]
     },
     "metadata": {},
     "output_type": "display_data"
    }
   ],
   "source": [
    "plt.style.use('dark_background')\n",
    "\n",
    "df = pd.read_csv(\n",
    "    r\"C:\\Users\\PcVIP\\Desktop\\Bootcamp\\Week7\\Weekly_project_ml\\video_game_sales\\data\\clean\\video_game_sales_final_cleaned.csv\"\n",
    ")\n",
    "\n",
    "yearly_releases = (\n",
    "    df.groupby('year_of_release', as_index=False)\n",
    "    .agg(game_count=('name', 'count'))\n",
    "    .query(\"year_of_release <= 2020\")\n",
    "    .sort_values(by='year_of_release')\n",
    ")\n",
    "\n",
    "plt.figure(figsize=(12, 6))\n",
    "ax = sns.lineplot(data=yearly_releases, x='year_of_release', y='game_count', marker='o', color='#00FF00')\n",
    "\n",
    "title = plt.title(\"ARE GAME RELEASES DECLINING OVER TIME?\", fontsize=16, fontname='Courier New', color='#00FF00', pad=20)\n",
    "title.set_path_effects([path_effects.Stroke(linewidth=2, foreground='black'), path_effects.Normal()])\n",
    "\n",
    "plt.xlabel(\"Year of Release\", fontsize=12, fontname='Courier New', color='#00FF00')\n",
    "plt.ylabel(\"Number of Games Released\", fontsize=12, fontname='Courier New', color='#00FF00')\n",
    "plt.xticks(color='#00FF00', rotation=45)\n",
    "plt.yticks(color='#00FF00')\n",
    "plt.grid(False)\n",
    "\n",
    "plt.savefig(\n",
    "    r\"C:\\Users\\PcVIP\\Desktop\\Bootcamp\\Week7\\Weekly_project_ml\\video_game_sales\\presentations\\graphs\\game_releases_over_time.png\",\n",
    "    transparent=True,\n",
    "    bbox_inches='tight',\n",
    "    facecolor='none'\n",
    ")\n",
    "\n",
    "plt.show"
   ]
  },
  {
   "cell_type": "markdown",
   "id": "52c7bd03-a3d7-48f2-9d84-8072a2396a44",
   "metadata": {},
   "source": [
    "The video game industry evolved from an era of explosive growth in releases to a more selective and mature phase. Today, fewer titles are launched, but they tend to be higher-budget and longer in scope.\n",
    "\n",
    "- Notably, the sharp decline in game releases after 2019 may also reflect the effects of the COVID-19 pandemic, which disrupted production pipelines, delayed launches, and shifted development workflows across the industry.\n",
    "\n",
    "- Between 2009–2012, game releases declined sharply due to the rise of mobile gaming, a shift to digital platforms, and preparation for new console generations. This context is key; while fewer games were released, more effort was focused on larger, higher-budget titles."
   ]
  },
  {
   "cell_type": "code",
   "execution_count": 41,
   "id": "f8813f77-6a0f-444b-a74c-e2f534e72d4a",
   "metadata": {},
   "outputs": [
    {
     "data": {
      "text/html": [
       "<iframe\n",
       "    scrolling=\"no\"\n",
       "    width=\"820px\"\n",
       "    height=\"520\"\n",
       "    src=\"iframe_figures/figure_41.html\"\n",
       "    frameborder=\"0\"\n",
       "    allowfullscreen\n",
       "></iframe>\n"
      ]
     },
     "metadata": {},
     "output_type": "display_data"
    }
   ],
   "source": [
    "plt.style.use('dark_background')\n",
    "\n",
    "df = pd.read_csv(\n",
    "    r\"C:\\Users\\PcVIP\\Desktop\\Bootcamp\\Week7\\Weekly_project_ml\\video_game_sales\\data\\clean\\video_game_sales_final_cleaned.csv\"\n",
    ")\n",
    "\n",
    "region_sales_long = df.melt(\n",
    "    value_vars=['na_sales', 'eu_sales', 'jp_sales', 'other_sales'],\n",
    "    var_name='region',\n",
    "    value_name='sales'\n",
    ")\n",
    "\n",
    "plt.figure(figsize=(10, 6))\n",
    "ax = sns.boxplot(\n",
    "    data=region_sales_long,\n",
    "    x='region',\n",
    "    y='sales',\n",
    "    hue='region',\n",
    "    palette='Set2',\n",
    "    linewidth=1,\n",
    "    fliersize=3,\n",
    "    legend=False\n",
    ")\n",
    "\n",
    "title = plt.title(\"DO REGIONAL PREFERENCES SHAPE GAME SALES?\", fontsize=16, color='#00FF00', fontname='Courier New', pad=20)\n",
    "title.set_path_effects([path_effects.Stroke(linewidth=2, foreground='black'), path_effects.Normal()])\n",
    "\n",
    "plt.xlabel(\"Region\", fontsize=12, color='#00FF00', fontname='Courier New')\n",
    "plt.ylabel(\"Sales (millions)\", fontsize=12, color='#00FF00', fontname='Courier New')\n",
    "\n",
    "plt.xticks(color='#00FF00', fontname='Courier New')\n",
    "plt.yticks(color='#00FF00')\n",
    "plt.grid(False)\n",
    "\n",
    "plt.tight_layout()\n",
    "plt.savefig(\n",
    "    r\"C:\\Users\\PcVIP\\Desktop\\Bootcamp\\Week7\\Weekly_project_ml\\video_game_sales\\presentations\\graphs\\boxplot_sales_by_region.png\",\n",
    "    transparent=True,\n",
    "    bbox_inches='tight',\n",
    "    facecolor='none'\n",
    ")\n",
    "\n",
    "plt.show()"
   ]
  },
  {
   "cell_type": "markdown",
   "id": "1df1365b-c957-4842-b17a-538ca06a4635",
   "metadata": {},
   "source": [
    "North America and Europe lead in game sales, with higher medians and more outliers. Japan shows lower sales and tighter distribution, while other regions contribute the least. "
   ]
  },
  {
   "cell_type": "code",
   "execution_count": 42,
   "id": "4df707fc-90d5-4618-9312-feacad749c6d",
<<<<<<< HEAD
   "metadata": {
    "scrolled": true
   },
   "outputs": [],
=======
   "metadata": {},
   "outputs": [
    {
     "data": {
      "text/html": [
       "<iframe\n",
       "    scrolling=\"no\"\n",
       "    width=\"920px\"\n",
       "    height=\"520\"\n",
       "    src=\"iframe_figures/figure_42.html\"\n",
       "    frameborder=\"0\"\n",
       "    allowfullscreen\n",
       "></iframe>\n"
      ]
     },
     "metadata": {},
     "output_type": "display_data"
    }
   ],
>>>>>>> main
   "source": [
    "year_sales = (\n",
    "    df.groupby('year_of_release', as_index=False)['global_sales']\n",
    "    .sum()\n",
    "    .sort_values(by='year_of_release')\n",
    ")\n",
    "\n",
    "all_years = pd.DataFrame({'year_of_release': range(1995, 2025)})\n",
    "year_sales = pd.merge(all_years, year_sales, on='year_of_release', how='left')\n",
    "year_sales['global_sales'] = year_sales['global_sales'].fillna(0)\n",
    "year_sales['cumulative_sales'] = year_sales['global_sales'].cumsum()\n",
    "\n",
    "plt.style.use('dark_background')\n",
    "plt.figure(figsize=(10, 6))\n",
    "\n",
    "plt.fill_between(\n",
    "    year_sales['year_of_release'],\n",
    "    year_sales['cumulative_sales'],\n",
    "    color='#00FF00',\n",
    "    alpha=0.6\n",
    ")\n",
    "\n",
    "plt.plot(\n",
    "    year_sales['year_of_release'],\n",
    "    year_sales['cumulative_sales'],\n",
    "    color='#00FF00',\n",
    "    linewidth=2\n",
    ")\n",
    "\n",
    "plt.title(\"WHEN DID THE VIDEO GAME BOOM REALLY HAPPEN?\", fontsize=16, fontname='Courier New', color='#00FF00', pad=20)\n",
    "plt.xlabel(\"Year\", fontsize=12, fontname='Courier New', color='#00FF00')\n",
    "plt.ylabel(\"Cumulative Global Sales (millions)\", fontsize=12, fontname='Courier New', color='#00FF00')\n",
    "\n",
    "plt.xticks(color='#00FF00', fontname='Courier New')\n",
    "plt.yticks(color='#00FF00')\n",
    "plt.grid(False)\n",
    "\n",
    "plt.savefig(\n",
    "    r\"C:\\Users\\PcVIP\\Desktop\\Bootcamp\\Week7\\Weekly_project_ml\\video_game_sales\\presentations\\graphs\\cumulative_sales_area.png\",\n",
    "    transparent=True,\n",
    "    bbox_inches='tight',\n",
    "    facecolor='none'\n",
    ")\n",
    "\n",
    "plt.show()"
   ]
  },
  {
   "cell_type": "markdown",
   "id": "47137efd-3c13-438e-b8ea-49515db47dc1",
   "metadata": {},
   "source": [
    "### When Did the Video Game Boom Really Happen?\n",
    "\n",
    "This area chart displays the cumulative global video game sales from 1995 to 2024. \n",
    "\n",
    "We observe a significant upward trend starting in the early 2000s, with the sharpest growth occurring between 2005 and 2015. This suggests that the \"video game boom\" largely took place during this decade, coinciding with the rise of consoles like the PlayStation 2, Wii, Xbox 360, and Nintendo DS.\n",
    "\n",
    "After 2016, the curve plateaus due to the lack of data in the original dataset, not necessarily a drop in real-world sales. For this reason, any post-2016 interpretation should be made cautiously or supplemented with external data if needed.\n"
   ]
  },
  {
   "cell_type": "code",
   "execution_count": 44,
   "id": "463c8825-6d00-4251-a38a-b891f619c7b9",
   "metadata": {},
   "outputs": [
    {
     "data": {
      "text/html": [
       "<iframe\n",
       "    scrolling=\"no\"\n",
       "    width=\"100%\"\n",
       "    height=\"545px\"\n",
       "    src=\"iframe_figures/figure_44.html\"\n",
       "    frameborder=\"0\"\n",
       "    allowfullscreen\n",
       "></iframe>\n"
      ]
     },
     "metadata": {},
     "output_type": "display_data"
    }
   ],
   "source": [
    "import matplotlib.pyplot as plt\n",
    "\n",
    "region_totals = {\n",
    "    'North America': df['na_sales'].sum(),\n",
    "    'Europe': df['eu_sales'].sum(),\n",
    "    'Japan': df['jp_sales'].sum(),\n",
    "    'Other': df['other_sales'].sum()\n",
    "}\n",
    "\n",
    "labels = list(region_totals.keys())\n",
    "sizes = list(region_totals.values())\n",
    "colors = ['#00FF00', '#00CC66', '#009966', '#005544']\n",
    "\n",
    "plt.style.use('dark_background')\n",
    "fig, ax = plt.subplots(figsize=(8, 6))\n",
    "\n",
    "wedges, texts, autotexts = ax.pie(\n",
    "    sizes,\n",
    "    labels=labels,\n",
    "    autopct='%1.1f%%',\n",
    "    startangle=140,\n",
    "    colors=colors,\n",
    "    textprops=dict(color='white', fontsize=12, fontname='Courier New'),\n",
    "    wedgeprops=dict(width=0.4, edgecolor='black', linewidth=1.5),\n",
    "    pctdistance=0.75,\n",
    "    labeldistance=1.1\n",
    ")\n",
    "\n",
    "ax.set_title(\"GLOBAL VIDEO GAME SALES BY REGION\", fontsize=16, fontname='Courier New', color='#00FF00', pad=20)\n",
    "ax.set_facecolor('black')\n",
    "fig.patch.set_alpha(0)\n",
    "\n",
    "for text in texts:\n",
    "    text.set_color('#00FF00')\n",
    "    text.set_fontname('Courier New')\n",
    "    text.set_fontsize(12)\n",
    "\n",
    "plt.savefig(\n",
    "    r\"C:\\Users\\PcVIP\\Desktop\\Bootcamp\\Week7\\Weekly_project_ml\\video_game_sales\\presentations\\graphs\\donut_sales_by_region.png\",\n",
    "    transparent=True,\n",
    "    bbox_inches='tight',\n",
    "    facecolor='none'\n",
    ")\n",
    "\n",
    "plt.show()\n"
   ]
  },
  {
   "cell_type": "markdown",
   "id": "c0522837-6f7f-4514-8bee-ef0a0edf65ea",
   "metadata": {},
   "source": [
    "## Who Really Drives Global Video Game Sales?\n",
    "\n",
    "This donut chart shows the share of global video game sales by region. The data reveals that **North America accounts for nearly half (48.6%)** of total sales, followed by **Europe (27.3%)**. Together, these two markets dominate the global video game industry.\n",
    "\n",
    "**Japan**, while historically influential in game development and IPs, contributes a smaller portion (15.2%) of the global sales. The remaining 8.9% is distributed across other regions.\n",
    "\n",
    "These findings highlight the importance of targeting North American and European audiences when developing or marketing high-performing titles.\n"
   ]
  },
  {
   "cell_type": "code",
   "execution_count": 45,
   "id": "ce072047-20be-467c-86fc-4a9f33f2857c",
   "metadata": {},
   "outputs": [
    {
     "data": {
      "text/html": [
       "<iframe\n",
       "    scrolling=\"no\"\n",
       "    width=\"100%\"\n",
       "    height=\"520\"\n",
       "    src=\"iframe_figures/figure_45.html\"\n",
       "    frameborder=\"0\"\n",
       "    allowfullscreen\n",
       "></iframe>\n"
      ]
     },
     "metadata": {},
     "output_type": "display_data"
    }
   ],
   "source": [
    "plt.style.use('dark_background')\n",
    "\n",
    "top_games = df[['name', 'global_sales']].sort_values(by='global_sales', ascending=True).tail(10)\n",
    "\n",
    "plt.figure(figsize=(12, 6))\n",
    "\n",
    "\n",
    "plt.hlines(y=top_games['name'], xmin=0, xmax=top_games['global_sales'], color='#00FF00', linewidth=2)\n",
    "\n",
    "plt.plot(top_games['global_sales'], top_games['name'], 'o', color='#00FF88', markersize=8)\n",
    "\n",
    "title = plt.title(\"TOP 10 BEST-SELLING VIDEO GAMES\", fontsize=16, color='#00FF00', fontname='Courier New', pad=20)\n",
    "title.set_path_effects([path_effects.Stroke(linewidth=2, foreground='black'), path_effects.Normal()])\n",
    "\n",
    "plt.xlabel(\"Global Sales (millions)\", fontsize=12, color='#00FF00', fontname='Courier New')\n",
    "plt.ylabel(\"Game Title\", fontsize=12, color='#00FF00', fontname='Courier New')\n",
    "\n",
    "plt.xticks(color='#00FF00')\n",
    "plt.yticks(color='#00FF00')\n",
    "plt.grid(False)\n",
    "\n",
    "plt.savefig(\n",
    "    r\"C:\\Users\\PcVIP\\Desktop\\Bootcamp\\Week7\\Weekly_project_ml\\video_game_sales\\presentations\\graphs\\lollipop_top10_games.png\",\n",
    "    transparent=True,\n",
    "    bbox_inches='tight',\n",
    "    facecolor='none'\n",
    ")\n",
    "\n",
    "plt.show()\n",
    "\n"
   ]
  },
  {
   "cell_type": "markdown",
   "id": "8b4fef02-56c2-441a-9c84-51013c5c3e3f",
   "metadata": {},
   "source": [
    "## Top 10 Best-Selling Video Games of All Time\n",
    "\n",
    "This chart highlights the top 10 best-selling video games globally, showing a clear dominance of Nintendo titles.\n",
    "\n",
    "**Wii Sports** stands out as the clear leader, with over 80 million copies sold, followed by *Mario Kart Wii* and *Wii Sports Resort*. Most of these titles were released on Nintendo platforms like the Wii or DS, emphasizing the company’s strong hold on the casual and family gaming market during the 2000s.\n",
    "\n",
    "The presence of multiple Pokémon and Mario titles further underlines Nintendo’s franchise power, with broad international appeal and long-term brand loyalty.\n",
    "\n",
    "These insights confirm that platform exclusives and family-oriented titles have historically outperformed more niche or genre-specific games in total unit sales.\n"
   ]
  },
  {
   "cell_type": "code",
   "execution_count": 70,
   "id": "baf9b5c4-e890-4b0d-a58a-918f3c254c29",
   "metadata": {},
   "outputs": [
    {
     "data": {
      "text/html": [
       "<iframe\n",
       "    scrolling=\"no\"\n",
       "    width=\"1020px\"\n",
       "    height=\"620\"\n",
       "    src=\"iframe_figures/figure_70.html\"\n",
       "    frameborder=\"0\"\n",
       "    allowfullscreen\n",
       "></iframe>\n"
      ]
     },
     "metadata": {},
     "output_type": "display_data"
    }
   ],
   "source": [
    "top_platforms = df.groupby('platform', as_index=False)['global_sales'].sum()\n",
    "top_10_platforms = top_platforms.sort_values(by='global_sales', ascending=False).head(10)['platform']\n",
    "\n",
    "filtered_df = df[df['platform'].isin(top_10_platforms)]\n",
    "\n",
    "top_per_platform = filtered_df.sort_values('global_sales', ascending=False).drop_duplicates('platform')\n",
    "\n",
    "fig = px.treemap(\n",
    "    top_per_platform,\n",
    "    path=['platform', 'name'],\n",
    "    values='global_sales',\n",
    "    title=\"Which game leads the Top 10 platforms?\",\n",
    "    color='platform',\n",
    "    color_discrete_sequence=px.colors.qualitative.Set3\n",
    ")\n",
    "fig.update_layout(\n",
    "    title_x=0.5,\n",
    "    width=1000,  # Set desired width\n",
    "    height=600   # Set desired height\n",
    ")\n",
    "fig.show()"
   ]
  },
  {
   "cell_type": "code",
   "execution_count": 68,
   "id": "aeca5bbf-7306-419e-b171-47914b031578",
   "metadata": {
    "scrolled": true
   },
   "outputs": [
    {
     "data": {
      "text/html": [
       "<iframe\n",
       "    scrolling=\"no\"\n",
       "    width=\"100%\"\n",
       "    height=\"545px\"\n",
       "    src=\"iframe_figures/figure_68.html\"\n",
       "    frameborder=\"0\"\n",
       "    allowfullscreen\n",
       "></iframe>\n"
      ]
     },
     "metadata": {},
     "output_type": "display_data"
    }
   ],
   "source": [
    "## import plotly.express as px\n",
    "\n",
    "# Filter games released from 2015 onwards\n",
    "recent = df[df['year_of_release'] >= 2015]\n",
    "\n",
    "# Get top 4 platforms by total global sales in that period\n",
    "top_recent_platforms = (\n",
    "    recent.groupby('platform')['global_sales']\n",
    "    .sum()\n",
    "    .sort_values(ascending=False)\n",
    "    .head(4)\n",
    "    .index\n",
    ")\n",
    "\n",
    "# Filter games only from those top platforms\n",
    "subset = recent[recent['platform'].isin(top_recent_platforms)]\n",
    "\n",
    "# Get top 6 games per platform\n",
    "top_games = (\n",
    "    subset.groupby(['platform', 'name'], as_index=False)['global_sales']\n",
    "    .sum()\n",
    "    .sort_values(['platform', 'global_sales'], ascending=[True, False])\n",
    "    .groupby('platform')\n",
    "    .head(6)\n",
    ")\n",
    "\n",
    "# Create treemap\n",
    "fig = px.treemap(\n",
    "    top_games,\n",
    "    path=['platform', 'name'],\n",
    "    values='global_sales',\n",
    "    title='What are the most played games on recent platforms?',\n",
    "    color='platform',\n",
    "    color_discrete_sequence=px.colors.qualitative.Set3\n",
    ")\n",
    "\n",
    "fig.update_layout(title_x=0.5)\n",
    "fig.show()\n",
    "\n"
   ]
  },
  {
   "cell_type": "markdown",
   "id": "044870c7-f07c-47b9-befc-bd0e1c577900",
   "metadata": {},
   "source": [
    "> **Disclaimer:** This dataset focuses on physical sales and excludes most digital distribution.  \n",
    "> Recent platforms and PC games may be underrepresented. \n"
   ]
  },
  {
   "cell_type": "code",
   "execution_count": null,
   "id": "938e709e-508d-4161-8e2f-c57a5814a17a",
   "metadata": {},
   "outputs": [],
   "source": [
    "import matplotlib.patheffects as path_effects\n",
    "\n",
    "plt.style.use('dark_background')\n",
    "\n",
    "df = pd.read_csv(\n",
    "    r\"C:\\Users\\PcVIP\\Desktop\\Bootcamp\\Week7\\Weekly_project_ml\\video_game_sales\\data\\clean\\video_game_sales_final_cleaned.csv\"\n",
    ")\n",
    "\n",
    "genre_sales = df.groupby('genre')['global_sales'].sum().sort_values(ascending=False).reset_index()\n",
    "\n",
    "cut_index = genre_sales[genre_sales['genre'] == 'other'].index[0] + 1\n",
    "filtered_genre_sales = genre_sales.iloc[:cut_index]\n",
    "\n",
    "plt.figure(figsize=(12, 6))\n",
    "sns.barplot(data=filtered_genre_sales, x='global_sales', y='genre', color='#00FF00', edgecolor='#00FF88')\n",
    "\n",
    "title = plt.title(\"TOTAL GLOBAL SALES BY GENRE\", fontname='Courier New', fontsize=18, color='#00FF00', pad=20)\n",
    "title.set_path_effects([path_effects.Stroke(linewidth=2, foreground='black'), path_effects.Normal()])\n",
    "\n",
    "\n",
    "xlabel = plt.xlabel(\"Total Global Sales (millions)\", fontname='Courier New', fontsize=14, color='#00FF00', labelpad=10)\n",
    "xlabel.set_path_effects([path_effects.Stroke(linewidth=1.5, foreground='black'), path_effects.Normal()])\n",
    "\n",
    "ylabel = plt.ylabel(\"Genre\", fontname='Courier New', fontsize=14, color='#00FF00', labelpad=10)\n",
    "ylabel.set_path_effects([path_effects.Stroke(linewidth=1.5, foreground='black'), path_effects.Normal()])\n",
    "\n",
    "plt.tick_params(colors='#00FF00', labelsize=10)\n",
    "plt.grid(False)\n",
    "\n",
    "plt.savefig(\n",
    "    r\"C:\\Users\\PcVIP\\Desktop\\Bootcamp\\Week7\\Weekly_project_ml\\video_game_sales\\presentations\\graphs\\total_global_sales_by_genre_filtered.png\",\n",
    "    transparent=True,\n",
    "    bbox_inches='tight',\n",
    "    facecolor='none'\n",
    ")\n",
    "\n",
    "plt.show()\n"
   ]
  },
  {
   "cell_type": "markdown",
   "id": "9413bd7e-85ba-4ec6-8e21-baf746dbddac",
   "metadata": {},
   "source": [
    "### Genre Matters: Where the Big Money Is\n",
    "\n",
    "Not all games are created equal — some genres drive the majority of revenue.\n",
    "\n",
    "As seen in the chart, **Action, Sports, and Shooter** games lead the market, outperforming others by a wide margin.\n",
    "\n",
    "If you're planning the next gaming blockbuster, these genres are statistically your best bet."
   ]
  },
  {
   "cell_type": "code",
   "execution_count": null,
   "id": "bb47e2d5-33f9-48a8-a63e-4294987aa219",
   "metadata": {},
   "outputs": [],
   "source": [
    "plt.style.use('dark_background')\n",
    "\n",
    "df = pd.read_csv(\n",
    "    r\"C:\\Users\\PcVIP\\Desktop\\Bootcamp\\Week7\\Weekly_project_ml\\video_game_sales\\data\\clean\\video_game_sales_final_cleaned.csv\"\n",
    ")\n",
    "\n",
    "publisher_sales = df.groupby('publisher')['global_sales'].sum().sort_values(ascending=False).head(15).reset_index()\n",
    "\n",
    "plt.figure(figsize=(12, 6))\n",
    "sns.barplot(data=publisher_sales, x='global_sales', y='publisher', color='#00FF00', edgecolor='#00FF88')\n",
    "\n",
    "title = plt.title(\"TOP 15 PUBLISHERS BY GLOBAL SALES\", fontname='Courier New', fontsize=18, color='#00FF00', pad=20)\n",
    "title.set_path_effects([path_effects.Stroke(linewidth=2, foreground='black'), path_effects.Normal()])\n",
    "\n",
    "xlabel = plt.xlabel(\"Total Global Sales (millions)\", fontname='Courier New', fontsize=14, color='#00FF00', labelpad=10)\n",
    "xlabel.set_path_effects([path_effects.Stroke(linewidth=1.5, foreground='black'), path_effects.Normal()])\n",
    "ylabel = plt.ylabel(\"Publisher\", fontname='Courier New', fontsize=14, color='#00FF00', labelpad=10)\n",
    "ylabel.set_path_effects([path_effects.Stroke(linewidth=1.5, foreground='black'), path_effects.Normal()])\n",
    "\n",
    "plt.tick_params(colors='#00FF00', labelsize=10)\n",
    "plt.grid(False)\n",
    "\n",
    "plt.savefig(\n",
    "    r\"C:\\Users\\PcVIP\\Desktop\\Bootcamp\\Week7\\Weekly_project_ml\\video_game_sales\\presentations\\graphs\\top_15_publishers_by_sales.png\",\n",
    "    transparent=True,\n",
    "    bbox_inches='tight',\n",
    "    facecolor='none'\n",
    ")\n",
    "\n",
    "plt.show()"
   ]
  },
  {
   "cell_type": "markdown",
   "id": "037b2629-8e90-4833-b639-953781a76898",
   "metadata": {},
   "source": [
    "### Top Publishers by Global Sales\n",
    "\n",
    "Nintendo dominates the market, followed by EA, Activision, and Sony.\n",
    "\n",
    "These publishers have consistently released best-selling titles, shaping the industry's revenue over time.\n"
   ]
  },
  {
   "cell_type": "code",
   "execution_count": null,
   "id": "c867c4a5-80b2-455d-b75a-72c09f85ec0b",
   "metadata": {},
   "outputs": [],
   "source": [
    "plt.style.use('dark_background')\n",
    "\n",
    "df = pd.read_csv(\n",
    "    r\"C:\\Users\\PcVIP\\Desktop\\Bootcamp\\Week7\\Weekly_project_ml\\video_game_sales\\data\\clean\\video_game_sales_final_cleaned.csv\"\n",
    ")\n",
    "\n",
    "top_platforms = df.groupby('platform')['global_sales'].sum().sort_values(ascending=False).head(10).index\n",
    "filtered_df = df[df['platform'].isin(top_platforms)]\n",
    "top_games = filtered_df.loc[filtered_df.groupby('platform')['global_sales'].idxmax()]\n",
    "top_games = top_games.sort_values(by='global_sales', ascending=True)\n",
    "\n",
    "plt.figure(figsize=(12, 6))\n",
    "sns.barplot(data=top_games, x='global_sales', y='platform', color='#00FF00', edgecolor='#00FF88')\n",
    "\n",
    "for index, row in top_games.iterrows():\n",
    "    plt.text(row['global_sales'] + 10, row['platform'], row['name'], color='#00FF00', fontname='Courier New', fontsize=10)\n",
    "\n",
    "title = plt.title(\"BEST-SELLING GAME ON EACH OF THE TOP 10 PLATFORMS\", fontname='Courier New', fontsize=16, color='#00FF00', pad=20)\n",
    "title.set_path_effects([path_effects.Stroke(linewidth=2, foreground='black'), path_effects.Normal()])\n",
    "\n",
    "xlabel = plt.xlabel(\"Global Sales (millions)\", fontname='Courier New', fontsize=12, color='#00FF00', labelpad=10)\n",
    "xlabel.set_path_effects([path_effects.Stroke(linewidth=1.5, foreground='black'), path_effects.Normal()])\n",
    "ylabel = plt.ylabel(\"Platform\", fontname='Courier New', fontsize=12, color='#00FF00', labelpad=10)\n",
    "ylabel.set_path_effects([path_effects.Stroke(linewidth=1.5, foreground='black'), path_effects.Normal()])\n",
    "\n",
    "plt.tick_params(colors='#00FF00', labelsize=10)\n",
    "plt.grid(False)\n",
    "\n",
    "plt.savefig(\n",
    "    r\"C:\\Users\\PcVIP\\Desktop\\Bootcamp\\Week7\\Weekly_project_ml\\video_game_sales\\presentations\\graphs\\best_selling_game_top10_platforms.png\",\n",
    "    transparent=True,\n",
    "    bbox_inches='tight',\n",
    "    facecolor='none'\n",
    ")\n",
    "\n",
    "plt.show()"
   ]
  },
  {
   "cell_type": "markdown",
   "id": "807c309d-e0f5-4600-a349-7301969132ca",
   "metadata": {},
   "source": [
    "## Some platforms owe much of their success to a single title.\n",
    "\n",
    "This chart highlights the best-selling game on each of the top 10 platforms by total sales, showing how iconic releases like Wii Sports or Grand Theft Auto V helped define their systems.\n"
   ]
  },
  {
   "cell_type": "code",
   "execution_count": null,
   "id": "f7f43e35-4482-4a3f-8f20-aaf2524ceb53",
   "metadata": {},
   "outputs": [],
   "source": [
    "plt.style.use('dark_background')\n",
    "\n",
    "df = pd.read_csv(\n",
    "    r\"C:\\Users\\PcVIP\\Desktop\\Bootcamp\\Week7\\Weekly_project_ml\\video_game_sales\\data\\clean\\video_game_sales_final_cleaned.csv\"\n",
    ")\n",
    "\n",
    "df = df[df['year_of_release'].between(1995, 2016)]\n",
    "df = df[df['genre'].notna()]\n",
    "\n",
    "df = df[~df['genre'].isin(['other', 'platformer', 'rpg'])]\n",
    "\n",
    "# Identificar los 5 géneros más frecuentes\n",
    "top_genres = (\n",
    "    df['genre'].value_counts()\n",
    "    .head(5)\n",
    "    .index\n",
    ")\n",
    "\n",
    "filtered = df[df['genre'].isin(top_genres)]\n",
    "\n",
    "genre_trend = (\n",
    "    filtered.groupby(['year_of_release', 'genre'])\n",
    "    .size()\n",
    "    .unstack(fill_value=0)\n",
    ")\n",
    "\n",
    "plt.figure(figsize=(12, 6))\n",
    "for genre in genre_trend.columns:\n",
    "    line = plt.plot(genre_trend.index, genre_trend[genre], label=genre, linewidth=2)\n",
    "    line[0].set_path_effects([path_effects.Stroke(linewidth=3, foreground='black'), path_effects.Normal()])\n",
    "\n",
    "title = plt.title(\"TOP 5 GENRES BY YEAR (1995–2016)\", fontname='Courier New', fontsize=16, color='#00FF00')\n",
    "title.set_path_effects([path_effects.Stroke(linewidth=2, foreground='black'), path_effects.Normal()])\n",
    "\n",
    "plt.xlabel(\"Year\", fontname='Courier New', fontsize=12, color='#00FF00')\n",
    "plt.ylabel(\"Number of Games\", fontname='Courier New', fontsize=12, color='#00FF00')\n",
    "plt.xticks(color='#00FF00')\n",
    "plt.yticks(color='#00FF00')\n",
    "\n",
    "legend = plt.legend(facecolor='black', framealpha=1, edgecolor='white', labelcolor='#00FF00', fontsize=10)\n",
    "for text in legend.get_texts():\n",
    "    text.set_color('#00FF00')\n",
    "\n",
    "plt.grid(False)\n",
    "\n",
    "plt.savefig(\n",
    "    r\"C:\\Users\\PcVIP\\Desktop\\Bootcamp\\Week7\\Weekly_project_ml\\video_game_sales\\presentations\\graphs\\line_top5_genres_cleaned.png\",\n",
    "    transparent=True,\n",
    "    bbox_inches='tight',\n",
    "    facecolor='none'\n",
    ")\n",
    "\n",
    "plt.show()\n"
   ]
  },
  {
   "cell_type": "markdown",
   "id": "bd0f8400-e485-4aa0-b457-3a20fd25a41c",
   "metadata": {},
   "source": [
    "This chart shows how game release trends have evolved across the most popular genres.\n",
    "\n",
    "We limited the data to the years 1995–2016 to ensure accuracy and consistency. After 2016, the dataset becomes sparse and incomplete, which could misrepresent the actual market behavior in recent years.\n",
    "\n",
    "Notably, action and shooter games dominated the industry during the late 2000s and early 2010s, reflecting player preferences and technological shifts of the time.\n"
   ]
  },
  {
   "cell_type": "code",
   "execution_count": null,
   "id": "f54b4eb3-74aa-46b3-996a-dd05be7f021b",
   "metadata": {},
   "outputs": [],
   "source": [
    "plt.style.use('dark_background')\n",
    "\n",
    "df = pd.read_csv(\n",
    "    r\"C:\\Users\\PcVIP\\Desktop\\Bootcamp\\Week7\\Weekly_project_ml\\video_game_sales\\data\\clean\\video_game_sales_final_cleaned.csv\"\n",
    ")\n",
    "\n",
    "region_totals = {\n",
    "    'North America': df['na_sales'].sum(),\n",
    "    'Europe': df['eu_sales'].sum(),\n",
    "    'Japan': df['jp_sales'].sum(),\n",
    "    'Other': df['other_sales'].sum()\n",
    "}\n",
    "\n",
    "region_df = pd.DataFrame(region_totals.items(), columns=['Region', 'Total Sales'])\n",
    "region_df = region_df.sort_values(by='Total Sales', ascending=True)\n",
    "\n",
    "plt.figure(figsize=(10, 6))\n",
    "bars = plt.barh(\n",
    "    region_df['Region'],\n",
    "    region_df['Total Sales'],\n",
    "    color='#00FF00',\n",
    "    edgecolor='#00FF88'\n",
    ")\n",
    "\n",
    "for bar in bars:\n",
    "    value = bar.get_width()\n",
    "    label = f\"{value:,.0f} M\"\n",
    "    plt.text(\n",
    "        value + 100,  # separación derecha\n",
    "        bar.get_y() + bar.get_height() / 2,\n",
    "        label,\n",
    "        va='center',\n",
    "        ha='left',\n",
    "        fontsize=11,\n",
    "        fontname='Courier New',\n",
    "        color='#00FF00',\n",
    "        path_effects=[path_effects.Stroke(linewidth=1.5, foreground='black'), path_effects.Normal()]\n",
    "    )\n",
    "\n",
    "title = plt.title(\"TOTAL SALES BY REGION\", fontname='Courier New', fontsize=16, color='#00FF00', pad=20)\n",
    "title.set_path_effects([path_effects.Stroke(linewidth=2, foreground='black'), path_effects.Normal()])\n",
    "\n",
    "plt.xlabel(\"Sales (millions)\", fontname='Courier New', fontsize=12, color='#00FF00')\n",
    "plt.ylabel(\"Region\", fontname='Courier New', fontsize=12, color='#00FF00')\n",
    "\n",
    "plt.xticks(color='#00FF00')\n",
    "plt.yticks(color='#00FF00')\n",
    "plt.grid(False)\n",
    "\n",
    "plt.savefig(\n",
    "    r\"C:\\Users\\PcVIP\\Desktop\\Bootcamp\\Week7\\Weekly_project_ml\\video_game_sales\\presentations\\graphs\\total_sales_by_region_refined.png\",\n",
    "    transparent=True,\n",
    "    bbox_inches='tight',\n",
    "    facecolor='none'\n",
    ")\n",
    "\n",
    "plt.show()"
   ]
  },
  {
   "cell_type": "markdown",
   "id": "24475eb6-e734-431b-97ab-9e6cd56cba61",
   "metadata": {},
   "source": [
    "This chart compares total video game sales across the four main global regions.\n",
    "\n",
    "North America leads the market with nearly 4.9 billion units sold, followed by Europe with around 2.7 billion. Japan, despite its rich gaming culture, comes third with 1.5 billion units. The \"Other\" category includes regions such as South America, Oceania, and parts of Asia outside Japan, contributing around 895 million in total sales.\n",
    "\n",
    "This distribution highlights the dominance of Western markets in global sales, suggesting a strong alignment between game production and consumption in North America and Europe.\n"
   ]
  },
  {
   "cell_type": "code",
   "execution_count": null,
   "id": "4de52af3-0a2a-4322-ae29-f4128ee7d36e",
   "metadata": {},
   "outputs": [],
   "source": [
    "#\"Do mature-rated games tend to sell more than kid-friendly games?\"\n",
    "\n",
    "\n",
    "plt.style.use('dark_background')\n",
    "\n",
    "rating_sales_relation = df.groupby('rating', as_index=False).agg(\n",
    "    average_sales=('global_sales', 'mean'),\n",
    "    total_sales=('global_sales', 'sum'),\n",
    "    game_count=('name', 'count')\n",
    ").sort_values(by='average_sales', ascending=False)\n",
    "\n",
    "plt.figure(figsize=(10, 6))\n",
    "ax = sns.barplot(\n",
    "    data=rating_sales_relation,\n",
    "    x='rating',\n",
    "    y='average_sales',\n",
    "    color='#00FF00'\n",
    ")\n",
    "\n",
    "title = plt.title(\"AVERAGE GLOBAL SALES BY GAME RATING\", fontsize=16, fontname='Courier New', color='#00FF00', pad=20)\n",
    "title.set_path_effects([path_effects.Stroke(linewidth=2, foreground='black'), path_effects.Normal()])\n",
    "\n",
    "plt.xlabel(\"Game Rating\", fontsize=12, color='#00FF00', fontname='Courier New')\n",
    "plt.ylabel(\"Avg Global Sales (millions)\", fontsize=12, color='#00FF00', fontname='Courier New')\n",
    "plt.xticks(color='#00FF00', fontname='Courier New')\n",
    "plt.yticks(color='#00FF00')\n",
    "plt.grid(False)\n",
    "\n",
    "for bar, value in zip(ax.patches, rating_sales_relation['average_sales']):\n",
    "    height = bar.get_height()\n",
    "    ax.text(\n",
    "        bar.get_x() + bar.get_width() / 2,\n",
    "        height + 0.03,\n",
    "        f\"{value:.2f}\",\n",
    "        ha='center',\n",
    "        va='bottom',\n",
    "        fontsize=10,\n",
    "        fontname='Courier New',\n",
    "        color='#00FF00'\n",
    "    )\n",
    "\n",
    "plt.tight_layout()\n",
    "plt.savefig(\n",
    "    r\"C:\\Users\\PcVIP\\Desktop\\Bootcamp\\Week7\\Weekly_project_ml\\video_game_sales\\presentations\\graphs\\avg_sales_by_rating_fixed.png\",\n",
    "    transparent=True,\n",
    "    bbox_inches='tight',\n",
    "    facecolor='none'\n",
    ")\n",
    "plt.show()\n",
    "\n"
   ]
  },
  {
   "cell_type": "markdown",
   "id": "867e6d2b-1273-4b32-a8f9-320e375739dc",
   "metadata": {},
   "source": [
    "### Average Global Sales by Game Rating\n",
    "\n",
    "This chart compares the average global sales across different game rating categories. \n",
    "\n",
    "Mature-rated games (“Adults”) tend to have the highest average sales per title, suggesting they dominate more in the commercial landscape compared to games designed for kids or all ages.\n",
    "\n",
    "This supports the idea that mature content may be more profitable — or at least more targeted to a purchasing audience.\n"
   ]
  },
  {
   "cell_type": "markdown",
   "id": "ad89acef-e88e-42b7-82a8-8e091a94721b",
   "metadata": {},
   "source": [
    "## Further Findings\n",
    "\n",
    "One of the most notable patterns we observed is the sharp rise and fall in the number of game releases over time. Between 1995 and 2009, annual game releases grew steadily, peaking around 2010–2011. Since then, there's been a visible decline in the number of titles released per year.\n",
    "\n",
    "This trend may be linked to the industry’s shift toward higher production values, fewer releases per publisher, and the rise of mobile and digital-first platforms outside the scope of this dataset.\n",
    "\n",
    "Despite the drop in total releases, **the average sales per game remained relatively stable for certain rating groups**, especially for “Teen” and “Everyone”-rated titles.\n",
    "\n",
    "These insights suggest a transition toward quality-over-quantity and a growing focus on well-targeted audiences.\n"
   ]
  },
  {
   "cell_type": "markdown",
   "id": "b5b72f12-cdce-4704-b653-64359a7bf212",
   "metadata": {},
   "source": [
    "## Conclusions & Business Recommendations\n",
    "\n",
    "This analysis reveals that the video game market is highly concentrated, both in terms of sales and production trends:\n",
    "\n",
    "- A small number of publishers (e.g., Nintendo, EA, Activision) dominate total global sales.\n",
    "- Most games sell fewer than 1 million copies, reinforcing the idea that blockbuster hits are rare.\n",
    "- Action, sports, and shooter genres generate the highest revenues, while “Teen” and “Everyone” ratings tend to yield stronger average sales.\n",
    "- Game releases peaked between 2009–2011 and have since declined, suggesting a shift toward fewer but more polished releases.\n",
    "\n",
    "**Recommendations for publishers and developers:**\n",
    "- Prioritize game genres and rating groups with proven commercial performance (e.g., Action/Teen).\n",
    "- Focus on platforms and regions with strong market share — especially North America and Europe.\n",
    "- Invest in fewer, higher-quality titles with mass-market appeal, rather than flooding the market.\n",
    "\n",
    "Understanding these patterns helps inform data-driven strategies for production, marketing, and platform targeting.\n"
   ]
  },
  {
   "cell_type": "code",
   "execution_count": null,
   "id": "da569b7e-693b-49d0-b5eb-0fdb9844c9e5",
   "metadata": {},
   "outputs": [],
   "source": []
  },
  {
   "cell_type": "code",
   "execution_count": null,
   "id": "0019414a-9480-44a6-b788-183298e85b44",
   "metadata": {},
   "outputs": [],
   "source": []
  },
  {
   "cell_type": "code",
   "execution_count": null,
   "id": "0e9598d1-090b-4200-95cb-c4c9406577d3",
   "metadata": {},
   "outputs": [],
   "source": []
  },
  {
   "cell_type": "code",
   "execution_count": null,
   "id": "18b04ceb-d0fd-455b-b2ec-f54f60696132",
   "metadata": {},
   "outputs": [],
   "source": []
  },
  {
   "cell_type": "code",
   "execution_count": null,
   "id": "09eab23d-c051-462c-8b92-ecb23f0fdb16",
   "metadata": {},
   "outputs": [],
   "source": []
  },
  {
   "cell_type": "code",
   "execution_count": null,
   "id": "cbe6f3b7-d364-4a9a-89c1-cf2876db71e2",
   "metadata": {},
   "outputs": [],
   "source": []
  },
  {
   "cell_type": "code",
   "execution_count": null,
   "id": "747c580d-fe7e-4ad5-a3d6-e092535756e7",
   "metadata": {},
   "outputs": [],
   "source": []
  },
  {
   "cell_type": "code",
   "execution_count": null,
   "id": "115d8c4d-9398-4015-b68b-4990cc7e9b05",
   "metadata": {},
   "outputs": [],
   "source": []
  },
  {
   "cell_type": "code",
   "execution_count": null,
   "id": "b728709c-91ff-418e-bc47-eb004e528ce3",
   "metadata": {},
   "outputs": [],
   "source": []
  },
  {
   "cell_type": "code",
   "execution_count": null,
   "id": "5ab2c5f5-bfe2-4df8-8cc3-5476dff5a49a",
   "metadata": {},
   "outputs": [],
   "source": []
  },
  {
   "cell_type": "code",
   "execution_count": null,
   "id": "177f0bdb-519a-4b92-803e-903e239e257f",
   "metadata": {},
   "outputs": [],
   "source": []
  },
  {
   "cell_type": "code",
   "execution_count": null,
   "id": "f8fb9866-bf85-410e-9513-c71a2bb93fbb",
   "metadata": {},
   "outputs": [],
   "source": []
  },
  {
   "cell_type": "code",
   "execution_count": null,
   "id": "2aef5132-9f13-4de6-90a4-7fbceb424600",
   "metadata": {},
   "outputs": [],
   "source": []
  },
  {
   "cell_type": "code",
   "execution_count": null,
   "id": "2eb690a2-f6a6-4531-9aaf-8d76f517ab01",
   "metadata": {},
   "outputs": [],
   "source": []
  },
  {
   "cell_type": "code",
   "execution_count": null,
   "id": "a28c2884-f743-43b9-970c-7436a15cdc70",
   "metadata": {},
   "outputs": [],
   "source": []
  },
  {
   "cell_type": "code",
   "execution_count": null,
   "id": "fc683da1-cf5b-4c9d-80dc-f0d3a2be6a5b",
   "metadata": {},
   "outputs": [],
   "source": []
  },
  {
   "cell_type": "code",
   "execution_count": null,
   "id": "ab7fda94-bdec-4ef1-bb8d-8605912d39d3",
   "metadata": {},
   "outputs": [],
   "source": []
  },
  {
   "cell_type": "code",
   "execution_count": null,
   "id": "d29c90e1-3bb6-4d0b-bf9f-85c224a84928",
   "metadata": {},
   "outputs": [],
   "source": []
  },
  {
   "cell_type": "code",
   "execution_count": null,
   "id": "7ad5af02-665e-4261-99b7-b0f6d5cec3c9",
   "metadata": {},
   "outputs": [],
   "source": []
  },
  {
   "cell_type": "code",
   "execution_count": null,
   "id": "8a5c4df6-0bb7-4c83-81dc-e254001fe655",
   "metadata": {},
   "outputs": [],
   "source": []
  }
 ],
 "metadata": {
  "kernelspec": {
   "display_name": "Python [conda env:base] *",
   "language": "python",
   "name": "conda-base-py"
  },
  "language_info": {
   "codemirror_mode": {
    "name": "ipython",
    "version": 3
   },
   "file_extension": ".py",
   "mimetype": "text/x-python",
   "name": "python",
   "nbconvert_exporter": "python",
   "pygments_lexer": "ipython3",
   "version": "3.12.7"
  }
 },
 "nbformat": 4,
 "nbformat_minor": 5
}
