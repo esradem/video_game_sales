{
 "cells": [
  {
   "cell_type": "code",
   "execution_count": null,
   "id": "73998ad7-ed65-43a3-8540-8a0c42e262e8",
   "metadata": {},
   "outputs": [],
   "source": [
    "import pandas as pd\n",
    "import numpy as np\n",
    "\n",
    "from sklearn.model_selection import train_test_split\n",
    "from sklearn.linear_model import LinearRegression\n",
    "from sklearn.ensemble import RandomForestRegressor\n",
    "from sklearn.preprocessing import OneHotEncoder\n",
    "from sklearn.compose import ColumnTransformer\n",
    "from sklearn.pipeline import Pipeline\n",
    "from sklearn.metrics import mean_squared_error, r2_score\n",
    "\n",
    "import plotly.express as px\n"
   ]
  },
  {
   "cell_type": "code",
   "execution_count": null,
   "id": "bdcf57e6-dcd3-4f48-b1f9-94138ae42505",
   "metadata": {},
   "outputs": [],
   "source": [
    "df = pd.read_csv('../data/clean/video_game_sales_final_cleaned.csv')\n"
   ]
  },
  {
   "cell_type": "code",
   "execution_count": null,
   "id": "aaf2813e-4f4a-41c8-b8c9-d51b2ca74635",
   "metadata": {},
   "outputs": [],
   "source": [
    "df.info()\n",
    "df.describe()\n",
    "df.head()\n",
    "df.isnull().sum()\n"
   ]
  },
  {
   "cell_type": "code",
   "execution_count": null,
   "id": "a75fd5be-a820-4093-8343-15d7eebec9ff",
   "metadata": {},
   "outputs": [],
   "source": [
    "# Select only numeric columns\n",
    "numeric_df = df.select_dtypes(include=['int64', 'float64'])\n",
    "\n",
    "# Compute the correlation matrix\n",
    "correlation_matrix = numeric_df.corr()\n",
    "\n",
    "# Show correlation with global_sales as a simple sorted table\n",
    "cor_target = correlation_matrix['global_sales'].sort_values(ascending=False).to_frame()\n",
    "\n",
    "# Display table\n",
    "cor_target.style.background_gradient(cmap='YlGnBu').format(\"{:.2f}\")\n"
   ]
  },
  {
   "cell_type": "code",
   "execution_count": null,
   "id": "0087bed9-4a9d-4ca2-85f0-b96a4a1e7195",
   "metadata": {},
   "outputs": [],
   "source": [
    "X = df[[\n",
    "    'platform',\n",
    "    'genre',\n",
    "    'publisher',\n",
    "    'year_of_release'\n",
    "]]\n",
    "y = df['global_sales']\n"
   ]
  },
  {
   "cell_type": "code",
   "execution_count": null,
   "id": "db77a99b-f74a-4f09-b6f2-b6c19ea9791d",
   "metadata": {},
   "outputs": [],
   "source": [
    "X_train, X_test, y_train, y_test = train_test_split(\n",
    "    X, y, test_size=0.2, random_state=42\n",
    ")"
   ]
  },
  {
   "cell_type": "code",
   "execution_count": null,
   "id": "de09304d-88ac-45d3-891e-745a55e80469",
   "metadata": {},
   "outputs": [],
   "source": [
    "categorical_features = ['platform', 'genre', 'publisher']\n",
    "numerical_features = ['year_of_release']\n",
    "\n",
    "\n",
    "preprocessor = ColumnTransformer(\n",
    "    transformers=[\n",
    "        ('cat', OneHotEncoder(handle_unknown='ignore'), categorical_features),\n",
    "        ('num', 'passthrough', numerical_features)\n",
    "    ]\n",
    ")\n"
   ]
  },
  {
   "cell_type": "code",
   "execution_count": null,
   "id": "c182ac1a-486e-46de-a3c3-e7af0d031587",
   "metadata": {},
   "outputs": [],
   "source": [
    "model = Pipeline(steps=[\n",
    "    ('preprocessor', preprocessor),\n",
    "    ('regressor', LinearRegression())\n",
    "])\n",
    "\n",
    "# 5. Entrenamiento del modelo\n",
    "model.fit(X_train, y_train)\n",
    "\n",
    "# 6. Predicción y evaluación\n",
    "y_pred = model.predict(X_test)\n",
    "mse = mean_squared_error(y_test, y_pred)\n",
    "rmse = mse ** 0.5\n",
    "r2 = r2_score(y_test, y_pred)\n",
    "\n",
    "print(f\"✅ RMSE: {rmse:.2f}\")\n",
    "print(f\"✅ R² Score: {r2:.2f}\")\n"
   ]
  },
  {
   "cell_type": "code",
   "execution_count": null,
   "id": "6ac0b7c1-b1cb-4531-99f6-0d08e3383b95",
   "metadata": {},
   "outputs": [],
   "source": [
    "from sklearn.ensemble import RandomForestRegressor\n",
    "\n",
    "# 1. Crear un nuevo modelo con Random Forest\n",
    "rf_model = Pipeline(steps=[\n",
    "    ('preprocessor', preprocessor),\n",
    "    ('regressor', RandomForestRegressor(n_estimators=100, random_state=42))\n",
    "])\n",
    "\n",
    "# 2. Entrenar el modelo\n",
    "rf_model.fit(X_train, y_train)\n",
    "\n",
    "# 3. Predecir y evaluar\n",
    "y_pred_rf = rf_model.predict(X_test)\n",
    "mse_rf = mean_squared_error(y_test, y_pred_rf)\n",
    "rmse_rf = mse_rf ** 0.5\n",
    "r2_rf = r2_score(y_test, y_pred_rf)\n",
    "\n",
    "# 4. Mostrar resultados\n",
    "print(f\"🌲 Random Forest RMSE: {rmse_rf:.2f}\")\n",
    "print(f\"🌲 Random Forest R² Score: {r2_rf:.2f}\")\n"
   ]
  },
  {
   "cell_type": "code",
   "execution_count": null,
   "id": "6c0fdcc8-7e56-42bd-96be-3b18369ad1fb",
   "metadata": {},
   "outputs": [],
   "source": []
  }
 ],
 "metadata": {
  "kernelspec": {
   "display_name": "new_base",
   "language": "python",
   "name": "new_base"
  },
  "language_info": {
   "codemirror_mode": {
    "name": "ipython",
    "version": 3
   },
   "file_extension": ".py",
   "mimetype": "text/x-python",
   "name": "python",
   "nbconvert_exporter": "python",
   "pygments_lexer": "ipython3",
   "version": "3.12.9"
  }
 },
 "nbformat": 4,
 "nbformat_minor": 5
}
