{
 "cells": [
  {
   "cell_type": "code",
   "execution_count": null,
   "id": "7e1400af-d3f0-4d3f-84b1-a839bd50639c",
   "metadata": {},
   "outputs": [],
   "source": [
    "import pandas as pd\n",
    "\n",
    "# 1. Load the combined dataset before cleaning\n",
    "df = pd.read_csv('C:/Users/PcVIP/Desktop/Bootcamp/Week7/Weekly_project_ml/video_game_sales/data/clean/combined_before_title_cleaning.csv')\n",
    "\n",
    "# 2. Normalize column names to lowercase\n",
    "df.columns = df.columns.str.lower()\n",
    "\n",
    "# 3. Normalize the 'name' column\n",
    "df['name_clean'] = (\n",
    "    df['name']\n",
    "    .str.lower()\n",
    "    .str.strip()\n",
    "    .str.replace(r\"[^a-z0-9 ]\", \"\", regex=True)   # remove special characters\n",
    "    .str.replace(r\"\\s+\", \" \", regex=True)         # normalize whitespace\n",
    ")\n",
    "\n",
    "# 4. Count how many games appear on multiple platforms\n",
    "name_platform_counts = df.groupby('name_clean')['platform'].nunique().sort_values(ascending=False)\n",
    "multi_platform_titles = name_platform_counts[name_platform_counts > 1]\n",
    "\n",
    "print(f\"Multiplatform titles: {len(multi_platform_titles)}\")\n",
    "\n",
    "# 5. Convert year_of_release to integer (only after dropping nulls)\n",
    "df = df[df['year_of_release'].notna()]\n",
    "df['year_of_release'] = df['year_of_release'].astype(int)\n",
    "\n",
    "# 6. Drop duplicates (same game, platform, and release year)\n",
    "df_dedup = df.drop_duplicates(\n",
    "    subset=['name_clean', 'platform', 'year_of_release'],\n",
    "    keep='first'\n",
    ").copy()\n",
    "\n",
    "print(f\"Dataset after eliminating duplicates: {df_dedup.shape}\")\n",
    "\n",
    "# 7. Sanity check\n",
    "assert df_dedup.duplicated(subset=['name_clean', 'platform', 'year_of_release']).sum() == 0\n"
   ]
  },
  {
   "cell_type": "code",
   "execution_count": null,
   "id": "8756d912-793c-41e3-a41a-c871d7dda9d7",
   "metadata": {},
   "outputs": [],
   "source": [
    "import sys\n",
    "print(sys.executable)\n"
   ]
  },
  {
   "cell_type": "code",
   "execution_count": null,
   "id": "c579ac28-5f90-4fc7-9441-14e9b02578d2",
   "metadata": {},
   "outputs": [],
   "source": [
    "!pip install fuzzywuzzy python-Levenshtein\n"
   ]
  },
  {
   "cell_type": "code",
   "execution_count": null,
   "id": "df94d0f7-6966-4a0e-b187-128f79ae8f81",
   "metadata": {},
   "outputs": [],
   "source": [
    "from fuzzywuzzy import fuzz\n",
    "from fuzzywuzzy import process\n",
    "\n",
    "# Example: find similar titles to one input\n",
    "process.extract(\"pokemon\", df_dedup['name_clean'].unique(), limit=30)\n"
   ]
  },
  {
   "cell_type": "code",
   "execution_count": null,
   "id": "3cba49a5-241c-4d49-bca6-1ddc63d0f92c",
   "metadata": {},
   "outputs": [],
   "source": [
    "from fuzzywuzzy import process\n",
    "\n",
    "franchises = ['pokemon', 'fifa', 'call of duty', 'mario', 'zelda', 'nba', \n",
    "              'lego', 'assassins creed', 'need for speed', 'resident evil']\n",
    "\n",
    "matches = {}\n",
    "\n",
    "for keyword in franchises:\n",
    "    results = process.extract(keyword, df_dedup['name_clean'].unique(), limit=30)\n",
    "    matches[keyword] = results\n"
   ]
  },
  {
   "cell_type": "code",
   "execution_count": null,
   "id": "b39fb17a-f592-4b83-a8c3-5c22833ab277",
   "metadata": {},
   "outputs": [],
   "source": [
    "for franchise, titles in matches.items():\n",
    "    print(f\"\\nTop matches for: {franchise.upper()}\")\n",
    "    for title, score in titles:\n",
    "        print(f\"- {title} ({score})\")\n"
   ]
  },
  {
   "cell_type": "code",
   "execution_count": null,
   "id": "e3986ccb-fca1-4130-9d0e-413a74c3c52e",
   "metadata": {},
   "outputs": [],
   "source": [
    "# Null check\n",
    "print(\"Missing values:\\n\", df_dedup.isnull().sum())\n",
    "\n",
    "# Duplicate check\n",
    "dup_check = df_dedup.duplicated(subset=['name_clean', 'platform', 'year_of_release'])\n",
    "print(f\"\\nDuplicates: {dup_check.sum()}\")\n"
   ]
  },
  {
   "cell_type": "code",
   "execution_count": null,
   "id": "1380c8c5-0271-4fb9-a4e3-9495e1130780",
   "metadata": {},
   "outputs": [],
   "source": [
    "df_dedup = df_dedup.dropna(subset=['name', 'genre', 'name_clean'])\n"
   ]
  },
  {
   "cell_type": "code",
   "execution_count": null,
   "id": "7617ceb3-7e6c-4463-bca4-d73374f1dded",
   "metadata": {},
   "outputs": [],
   "source": [
    "df['genre'] = df['genre'].replace({\n",
    "    'platform': 'platformer',\n",
    "    'role-playing': 'rpg'\n",
    "})\n",
    "\n",
    "rare_genres = ['party', 'mmo', 'board game', 'education', 'sandbox']\n",
    "df['genre'] = df['genre'].replace(rare_genres, 'other')"
   ]
  },
  {
   "cell_type": "code",
   "execution_count": null,
   "id": "322512ed-1efc-48fe-a88e-9752db49c6ce",
   "metadata": {},
   "outputs": [],
   "source": [
    "df_dedup.to_csv('C:/Users/PcVIP/Desktop/Bootcamp/Week7/Weekly_project_ml/video_game_sales/data/clean/video_game_sales_final_cleaned.csv', index=False)\n"
   ]
  },
  {
   "cell_type": "code",
   "execution_count": null,
   "id": "efe4c42d-dda3-4406-86ce-c168cb1446d0",
   "metadata": {},
   "outputs": [],
   "source": []
  },
  {
   "cell_type": "code",
   "execution_count": null,
   "id": "df8879e8-6a09-47f4-a3fd-bdf02f26487c",
   "metadata": {},
   "outputs": [],
   "source": []
  }
 ],
 "metadata": {
  "kernelspec": {
   "display_name": "new_base",
   "language": "python",
   "name": "new_base"
  },
  "language_info": {
   "codemirror_mode": {
    "name": "ipython",
    "version": 3
   },
   "file_extension": ".py",
   "mimetype": "text/x-python",
   "name": "python",
   "nbconvert_exporter": "python",
   "pygments_lexer": "ipython3",
   "version": "3.12.9"
  }
 },
 "nbformat": 4,
 "nbformat_minor": 5
}
