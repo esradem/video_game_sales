{
 "cells": [
  {
   "cell_type": "code",
   "execution_count": null,
   "id": "c110cf55-31da-41bc-b0cc-bbbdb23b4259",
   "metadata": {},
   "outputs": [],
   "source": [
    "import pandas as pd\n",
    "from sklearn.model_selection import train_test_split\n",
    "import matplotlib.pyplot as plt\n"
   ]
  },
  {
   "cell_type": "code",
   "execution_count": null,
   "id": "bccd73d3-6b78-4c3a-8b4b-f68d6fe8a142",
   "metadata": {},
   "outputs": [],
   "source": [
    "#load data\n",
    "df = pd.read_csv(r\"../video_game_sales_final_cleaned.csv\")"
   ]
  },
  {
   "cell_type": "code",
   "execution_count": null,
   "id": "14815f7b-4095-4a78-ac9c-ffd5f84a25ff",
   "metadata": {},
   "outputs": [],
   "source": [
    "unique_ratings=df[\"rating_grouped\"].unique()\n",
    "unique_ratings"
   ]
  },
  {
   "cell_type": "code",
   "execution_count": null,
   "id": "a3b54a10-ba83-46e1-bc5c-973c74b518bb",
   "metadata": {},
   "outputs": [],
   "source": [
    "#count each rating\n",
    "print(\"\\nRating Counts:\\n\", df['rating_grouped'].value_counts())"
   ]
  },
  {
   "cell_type": "code",
   "execution_count": null,
   "id": "e84471c3-dfef-4c55-88df-0b1133af78c6",
   "metadata": {},
   "outputs": [],
   "source": [
    "#filter for binary classification\n",
    "#to predict adults vs Children\n",
    "df_binary = df[df['rating_grouped'].isin(['Adults', 'Children'])].copy()\n",
    "df_binary['is_mature'] = (df_binary['rating_grouped'] == 'Adults').astype(int)\n"
   ]
  },
  {
   "cell_type": "code",
   "execution_count": null,
   "id": "c30cfcba-8974-4777-9955-7459d62931b5",
   "metadata": {},
   "outputs": [],
   "source": [
    "#visualize rating distribution\n",
    "df['rating_grouped'].value_counts().plot(kind='bar', color='skyblue')\n",
    "plt.title(\"Distribution of Standardized Game Ratings\")\n",
    "plt.xlabel(\"Rating\")\n",
    "plt.ylabel(\"Count\")\n",
    "plt.xticks(rotation=45)\n",
    "plt.show()"
   ]
  },
  {
   "cell_type": "code",
   "execution_count": null,
   "id": "528c7f4e-f8c7-4c41-b2e1-71414dabcb22",
   "metadata": {},
   "outputs": [],
   "source": [
    "import pandas as pd\n",
    "from sklearn.model_selection import train_test_split\n",
    "from sklearn.preprocessing import OneHotEncoder\n",
    "from sklearn.compose import ColumnTransformer\n",
    "from sklearn.pipeline import Pipeline\n",
    "from sklearn.linear_model import LogisticRegression\n",
    "from sklearn.ensemble import RandomForestClassifier\n",
    "from sklearn.metrics import accuracy_score, classification_report, confusion_matrix\n",
    "\n"
   ]
  },
  {
   "cell_type": "code",
   "execution_count": null,
   "id": "498b60ad-fb82-4dc2-8394-383ac8acd9cc",
   "metadata": {},
   "outputs": [],
   "source": [
    "# Select features - adjust based on your actual columns\n",
    "features = ['genre', 'publisher', 'na_sales', 'eu_sales', 'jp_sales', 'year_of_release']\n",
    "X = df_binary[features]\n",
    "y = df_binary['is_mature']"
   ]
  },
  {
   "cell_type": "code",
   "execution_count": null,
   "id": "1305d652-8140-4715-8799-7b76897f712a",
   "metadata": {},
   "outputs": [],
   "source": [
    "\n",
    "# Identify categorical and numerical features\n",
    "categorical_features = ['genre', 'publisher']\n",
    "numerical_features= ['na_sales','eu_sales','jp_sales','year_of_release']"
   ]
  },
  {
   "cell_type": "code",
   "execution_count": null,
   "id": "59931798-57f4-44f5-8caa-211e5deaf899",
   "metadata": {},
   "outputs": [],
   "source": [
    "# Split data (80% train, 20% test) with stratification\n",
    "X_train, X_test, y_train, y_test = train_test_split(\n",
    "    X, y, \n",
    "    test_size=0.2, \n",
    "    random_state=42,\n",
    "    stratify=y  # Preserve class distribution\n",
    ")\n",
    "\n",
    "print(f\"Training set shape: {X_train.shape}\")\n",
    "print(f\"Test set shape: {X_test.shape}\")\n",
    "print(\"\\nClass distribution in training set:\")\n",
    "print(y_train.value_counts(normalize=True))"
   ]
  },
  {
   "cell_type": "code",
   "execution_count": null,
   "id": "363ba3bb-95c7-4b10-b39b-689a7300a1f3",
   "metadata": {},
   "outputs": [],
   "source": [
    "# Create preprocessing transformers\n",
    "preprocessor = ColumnTransformer(\n",
    "    transformers=[\n",
    "        ('num', 'passthrough', numerical_features),\n",
    "        ('cat', OneHotEncoder(handle_unknown='ignore'), categorical_features)\n",
    "    ])\n",
    "\n",
    "# Create pipeline with preprocessing and model\n",
    "pipeline_lr = Pipeline(steps=[\n",
    "    ('preprocessor', preprocessor),\n",
    "    ('classifier', LogisticRegression(max_iter=1000, random_state=42))\n",
    "])\n",
    "\n",
    "pipeline_rf = Pipeline(steps=[\n",
    "    ('preprocessor', preprocessor),\n",
    "    ('classifier', RandomForestClassifier(random_state=42, class_weight='balanced'))\n",
    "])"
   ]
  },
  {
   "cell_type": "code",
   "execution_count": null,
   "id": "be45330f-4159-4711-988e-43b0893fd7fb",
   "metadata": {},
   "outputs": [],
   "source": [
    "# Train and evaluate Logistic Regression\n",
    "pipeline_lr.fit(X_train, y_train)\n",
    "y_pred_lr = pipeline_lr.predict(X_test)\n",
    "\n",
    "print(\"Logistic Regression Results:\")\n",
    "print(f\"Accuracy:{accuracy_score(y_test,y_pred_lr):.2f}\")\n",
    "print(\"\\nClassification Report:\")\n",
    "print(classification_report(y_test ,y_pred_lr))\n",
    "print(\"\\nConfusion Matrix:\")\n",
    "print(confusion_matrix(y_test,y_pred_lr))"
   ]
  },
  {
   "cell_type": "code",
   "execution_count": null,
   "id": "e5584565-fd73-4132-9e03-25d5d65d1357",
   "metadata": {},
   "outputs": [],
   "source": [
    "# Train and evaluate Random Forest(better for imbalanced data),The random forest uses class_weight='balanced' to account for imbalanced classes\n",
    "pipeline_rf.fit(X_train, y_train)\n",
    "y_pred_rf = pipeline_rf.predict(X_test)\n",
    "\n",
    "print(\"\\nRandom Forest Results:\")\n",
    "print(f\"Accuracy: {accuracy_score(y_test, y_pred_rf):.2f}\")\n",
    "print(\"\\nClassification Report:\")\n",
    "print(classification_report(y_test, y_pred_rf))\n",
    "print(\"\\nConfusion Matrix:\")\n",
    "print(confusion_matrix(y_test,y_pred_rf))"
   ]
  },
  {
   "cell_type": "code",
   "execution_count": null,
   "id": "6fe81439-525e-4882-a5d8-829d0187e30f",
   "metadata": {},
   "outputs": [],
   "source": [
    "# Get feature names after one-hot encoding\n",
    "cat_encoder = pipeline_rf.named_steps['preprocessor'].named_transformers_['cat']\n",
    "feature_names = numerical_features + list(cat_encoder.get_feature_names_out(categorical_features))\n"
   ]
  },
  {
   "cell_type": "code",
   "execution_count": null,
   "id": "be3d85c7-8936-4b9c-99bc-9db0b0525d47",
   "metadata": {},
   "outputs": [],
   "source": [
    "\n",
    "# Extract feature importances\n",
    "importances = pipeline_rf.named_steps['classifier'].feature_importances_"
   ]
  },
  {
   "cell_type": "code",
   "execution_count": null,
   "id": "f7d3793f-06f0-4b7b-9b94-3fbfe6835367",
   "metadata": {},
   "outputs": [],
   "source": [
    "# Create importance DataFrame,helps to identify which features most influence\n",
    "importance_df = pd.DataFrame({\n",
    "    'Feature': feature_names,\n",
    "    'Importance': importances\n",
    "}).sort_values('Importance', ascending=False)\n"
   ]
  },
  {
   "cell_type": "code",
   "execution_count": null,
   "id": "dc435c6c-3832-4f32-8cc4-df358a2d1774",
   "metadata": {},
   "outputs": [],
   "source": [
    "print(\"\\nTop 10 Important Features:\")\n",
    "print(importance_df.head(10))"
   ]
  },
  {
   "cell_type": "code",
   "execution_count": null,
   "id": "3e561c94-480d-4ec1-a69f-5b106a1f81e1",
   "metadata": {},
   "outputs": [],
   "source": []
  }
 ],
 "metadata": {
  "kernelspec": {
   "display_name": "Python [conda env:base] *",
   "language": "python",
   "name": "conda-base-py"
  },
  "language_info": {
   "codemirror_mode": {
    "name": "ipython",
    "version": 3
   },
   "file_extension": ".py",
   "mimetype": "text/x-python",
   "name": "python",
   "nbconvert_exporter": "python",
   "pygments_lexer": "ipython3",
   "version": "3.12.7"
  }
 },
 "nbformat": 4,
 "nbformat_minor": 5
}
