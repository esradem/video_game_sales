{
 "cells": [
  {
   "cell_type": "code",
   "execution_count": 1,
   "id": "7e1400af-d3f0-4d3f-84b1-a839bd50639c",
   "metadata": {},
   "outputs": [
    {
     "name": "stdout",
     "output_type": "stream",
     "text": [
      "Multiplatform titles: 9954\n",
      "Dataset after eliminating duplicates: (59380, 11)\n"
     ]
    }
   ],
   "source": [
    "import pandas as pd\n",
    "\n",
    "# 1. Load the combined dataset before cleaning\n",
    "df = pd.read_csv('C:/Users/PcVIP/Desktop/Bootcamp/Week7/Weekly_project_ml/video_game_sales/data/clean/combined_before_title_cleaning.csv')\n",
    "\n",
    "# 2. Normalize column names to lowercase\n",
    "df.columns = df.columns.str.lower()\n",
    "\n",
    "# 3. Normalize the 'name' column\n",
    "df['name'] = (\n",
    "    df['name']\n",
    "    .str.lower()\n",
    "    .str.strip()\n",
    "    .str.replace(r\"[^a-z0-9 ]\", \"\", regex=True)   # remove special characters\n",
    "    .str.replace(r\"\\s+\", \" \", regex=True)         # normalize whitespace\n",
    ")\n",
    "\n",
    "# 4. Count how many games appear on multiple platforms\n",
    "name_platform_counts = df.groupby('name')['platform'].nunique().sort_values(ascending=False)\n",
    "multi_platform_titles = name_platform_counts[name_platform_counts > 1]\n",
    "\n",
    "print(f\"Multiplatform titles: {len(multi_platform_titles)}\")\n",
    "\n",
    "# 5. Convert year_of_release to integer (only after dropping nulls)\n",
    "df = df[df['year_of_release'].notna()]\n",
    "df['year_of_release'] = df['year_of_release'].astype(int)\n",
    "\n",
    "# 6. Drop duplicates (same game, platform, and release year)\n",
    "df_dedup = df.drop_duplicates(\n",
    "    subset=['name', 'platform', 'year_of_release'],\n",
    "    keep='first'\n",
    ").copy()\n",
    "\n",
    "print(f\"Dataset after eliminating duplicates: {df_dedup.shape}\")\n",
    "\n",
    "# 7. Sanity check\n",
    "assert df_dedup.duplicated(subset=['name', 'platform', 'year_of_release']).sum() == 0\n"
   ]
  },
  {
   "cell_type": "code",
   "execution_count": 2,
   "id": "8756d912-793c-41e3-a41a-c871d7dda9d7",
   "metadata": {},
   "outputs": [
    {
     "name": "stdout",
     "output_type": "stream",
     "text": [
      "C:\\Users\\PcVIP\\anaconda3\\envs\\new_base\\python.exe\n"
     ]
    }
   ],
   "source": [
    "import sys\n",
    "print(sys.executable)\n"
   ]
  },
  {
   "cell_type": "code",
   "execution_count": 3,
   "id": "e3986ccb-fca1-4130-9d0e-413a74c3c52e",
   "metadata": {},
   "outputs": [
    {
     "name": "stdout",
     "output_type": "stream",
     "text": [
      "Missing values:\n",
      " name                   1\n",
      "platform               0\n",
      "year_of_release        0\n",
      "genre                  1\n",
      "publisher              0\n",
      "na_sales               0\n",
      "eu_sales               0\n",
      "jp_sales               0\n",
      "other_sales            0\n",
      "global_sales           0\n",
      "rating             42932\n",
      "dtype: int64\n",
      "\n",
      "Duplicates: 0\n"
     ]
    }
   ],
   "source": [
    "# Null check\n",
    "print(\"Missing values:\\n\", df_dedup.isnull().sum())\n",
    "\n",
    "# Duplicate check\n",
    "dup_check = df_dedup.duplicated(subset=['name', 'platform', 'year_of_release'])\n",
    "print(f\"\\nDuplicates: {dup_check.sum()}\")\n"
   ]
  },
  {
   "cell_type": "code",
   "execution_count": 4,
   "id": "7617ceb3-7e6c-4463-bca4-d73374f1dded",
   "metadata": {},
   "outputs": [],
   "source": [
    "df['genre'] = df['genre'].replace({\n",
    "    'platform': 'platformer',\n",
    "    'role-playing': 'rpg'\n",
    "})\n",
    "\n",
    "rare_genres = ['party', 'mmo', 'board game', 'education', 'sandbox']\n",
    "df['genre'] = df['genre'].replace(rare_genres, 'other')"
   ]
  },
  {
   "cell_type": "code",
   "execution_count": 5,
   "id": "49101dcb-03c7-46e2-a3fd-e8cd0c320f69",
   "metadata": {},
   "outputs": [],
   "source": [
    "rating_map = {\n",
    "    'E': 'Children',\n",
    "    'EC': 'Children',\n",
    "    'E10+': 'Pre-teens',\n",
    "    'T': 'Teens',\n",
    "    'M': 'Adults',\n",
    "    'AO': 'Adults',\n",
    "    'RP': 'Unrated',\n",
    "    'K-A': 'Children',\n",
    "    'Unrated': 'Unrated'\n",
    "}\n"
   ]
  },
  {
   "cell_type": "code",
   "execution_count": 6,
   "id": "e85c348f-e4c6-4344-9c88-da89a7460397",
   "metadata": {},
   "outputs": [],
   "source": [
    "df['rating'] = df['rating'].map(rating_map).fillna('Unrated')\n"
   ]
  },
  {
   "cell_type": "code",
   "execution_count": 7,
   "id": "2a56e793-77f9-4154-852c-36bc7ab28aba",
   "metadata": {},
   "outputs": [],
   "source": [
    "df_dedup['rating'] = df_dedup['rating'].map(rating_map).fillna('Unrated')"
   ]
  },
  {
   "cell_type": "code",
   "execution_count": 8,
   "id": "322512ed-1efc-48fe-a88e-9752db49c6ce",
   "metadata": {},
   "outputs": [],
   "source": [
    "df_dedup.to_csv('C:/Users/PcVIP/Desktop/Bootcamp/Week7/Weekly_project_ml/video_game_sales/data/clean/video_game_sales_final_cleaned.csv', index=False)\n"
   ]
  },
  {
   "cell_type": "code",
   "execution_count": 9,
   "id": "efe4c42d-dda3-4406-86ce-c168cb1446d0",
   "metadata": {},
   "outputs": [
    {
     "data": {
      "text/plain": [
       "Index(['name', 'platform', 'year_of_release', 'genre', 'publisher', 'na_sales',\n",
       "       'eu_sales', 'jp_sales', 'other_sales', 'global_sales', 'rating'],\n",
       "      dtype='object')"
      ]
     },
     "execution_count": 9,
     "metadata": {},
     "output_type": "execute_result"
    }
   ],
   "source": [
    "df.columns"
   ]
  },
  {
   "cell_type": "code",
   "execution_count": null,
   "id": "df8879e8-6a09-47f4-a3fd-bdf02f26487c",
   "metadata": {},
   "outputs": [],
   "source": []
  },
  {
   "cell_type": "code",
   "execution_count": null,
   "id": "fba785c8-2ec7-41d6-bd15-09bead6fffbc",
   "metadata": {},
   "outputs": [],
   "source": []
  },
  {
   "cell_type": "code",
   "execution_count": null,
   "id": "a01eb5ee-f6b3-4d12-9a0d-3a3ab0cadcf5",
   "metadata": {},
   "outputs": [],
   "source": []
  }
 ],
 "metadata": {
  "kernelspec": {
   "display_name": "new_base",
   "language": "python",
   "name": "new_base"
  },
  "language_info": {
   "codemirror_mode": {
    "name": "ipython",
    "version": 3
   },
   "file_extension": ".py",
   "mimetype": "text/x-python",
   "name": "python",
   "nbconvert_exporter": "python",
   "pygments_lexer": "ipython3",
   "version": "3.12.9"
  }
 },
 "nbformat": 4,
 "nbformat_minor": 5
}
