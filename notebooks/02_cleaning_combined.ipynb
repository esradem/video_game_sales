{
 "cells": [
  {
   "cell_type": "code",
=======
   "execution_count": 25,

   "id": "7e1400af-d3f0-4d3f-84b1-a839bd50639c",
   "metadata": {},
   "outputs": [],
   "source": [
    "import pandas as pd\n",
    "\n",
    "# 1. Load the combined dataset before cleaning\n",
    "df = pd.read_csv('../data/clean/combined_before_title_cleaning.csv')\n",

   ]
  },
  {
   "cell_type": "code",

=======
   "execution_count": 35,
   "id": "7f50b7d3-28e5-4771-a1f5-d129d8c2803c",
   "metadata": {},
   "outputs": [
    {
     "data": {
      "text/plain": [
       "0    82.53\n",
       "1    40.24\n",
       "2    35.52\n",
       "3    32.77\n",
       "4    31.37\n",
       "Name: global_sales, dtype: float64"
      ]
     },
     "execution_count": 35,
     "metadata": {},
     "output_type": "execute_result"
    }
   ],
   "source": [
    "df['global_sales'].head()"
   ]
  },
  {
   "cell_type": "code",

=======
   "execution_count": 18,
   "id": "8756d912-793c-41e3-a41a-c871d7dda9d7",
   "metadata": {},
   "outputs": [
    {
     "name": "stdout",
     "output_type": "stream",
     "text": [
      "/opt/anaconda3/bin/python\n"
     ]
    }
   ],

"source": [
    "import sys\n",
    "print(sys.executable)\n"
   ]
  },
  {
   "cell_type": "code",

=======
   "execution_count": 20,
   "id": "c579ac28-5f90-4fc7-9441-14e9b02578d2",
   "metadata": {},
   "outputs": [
    {
     "name": "stdout",
     "output_type": "stream",
     "text": [
      "Collecting fuzzywuzzy\n",
      "  Downloading fuzzywuzzy-0.18.0-py2.py3-none-any.whl.metadata (4.9 kB)\n",
      "Collecting python-Levenshtein\n",
      "  Downloading python_levenshtein-0.27.1-py3-none-any.whl.metadata (3.7 kB)\n",
      "Collecting Levenshtein==0.27.1 (from python-Levenshtein)\n",
      "  Downloading levenshtein-0.27.1-cp312-cp312-macosx_10_13_x86_64.whl.metadata (3.6 kB)\n",
      "Collecting rapidfuzz<4.0.0,>=3.9.0 (from Levenshtein==0.27.1->python-Levenshtein)\n",
      "  Downloading rapidfuzz-3.13.0-cp312-cp312-macosx_10_13_x86_64.whl.metadata (12 kB)\n",
      "Downloading fuzzywuzzy-0.18.0-py2.py3-none-any.whl (18 kB)\n",
      "Downloading python_levenshtein-0.27.1-py3-none-any.whl (9.4 kB)\n",
      "Downloading levenshtein-0.27.1-cp312-cp312-macosx_10_13_x86_64.whl (173 kB)\n",
      "Downloading rapidfuzz-3.13.0-cp312-cp312-macosx_10_13_x86_64.whl (2.0 MB)\n",
      "\u001b[2K   \u001b[90m━━━━━━━━━━━━━━━━━━━━━━━━━━━━━━━━━━━━━━━━\u001b[0m \u001b[32m2.0/2.0 MB\u001b[0m \u001b[31m6.2 MB/s\u001b[0m eta \u001b[36m0:00:00\u001b[0ma \u001b[36m0:00:01\u001b[0m\n",
   
   "execution_count": 6,

   "id": "df94d0f7-6966-4a0e-b187-128f79ae8f81",
   "metadata": {},
   "outputs": [],
   "source": [
    "from fuzzywuzzy import fuzz\n",
    "from fuzzywuzzy import process\n",
    "\n",
    "# Example: find similar titles to one input\n",
    "process.extract(\"pokemon\", df_dedup['name_clean'].unique(), limit=30)\n"
   ]
  },
  {
   "cell_type": "code",
   "execution_count": null,
   "id": "3cba49a5-241c-4d49-bca6-1ddc63d0f92c",
   "metadata": {},
   "outputs": [],
   "source": [
    "from fuzzywuzzy import process\n",
    "\n",
    "franchises = ['pokemon', 'fifa', 'call of duty', 'mario', 'zelda', 'nba', \n",
    "              'lego', 'assassins creed', 'need for speed', 'resident evil']\n",
    "\n",
    "matches = {}\n",
    "\n",
    "for keyword in franchises:\n",
    "    results = process.extract(keyword, df_dedup['name_clean'].unique(), limit=30)\n",
    "    matches[keyword] = results\n"
   ]
  },
  {
   "cell_type": "code",
   "execution_count": null,
   "id": "b39fb17a-f592-4b83-a8c3-5c22833ab277",
   "metadata": {},
   "outputs": [],
   "source": [
    "for franchise, titles in matches.items():\n",
    "    print(f\"\\nTop matches for: {franchise.upper()}\")\n",
    "    for title, score in titles:\n",
    "        print(f\"- {title} ({score})\")\n"
   ]
  },
  {
   "cell_type": "code",
   "execution_count": null,
   "id": "e3986ccb-fca1-4130-9d0e-413a74c3c52e",
   "metadata": {},
   "outputs": [],
   "source": [
    "# Null check\n",
    "print(\"Missing values:\\n\", df_dedup.isnull().sum())\n",
    "\n",
    "# Duplicate check\n",
    "dup_check = df_dedup.duplicated(subset=['name_clean', 'platform', 'year_of_release'])\n",
    "print(f\"\\nDuplicates: {dup_check.sum()}\")\n"
   ]
  },
  {
   "cell_type": "code",
   "execution_count": null,
   "id": "1380c8c5-0271-4fb9-a4e3-9495e1130780",
   "metadata": {},
   "outputs": [],
   "source": [
    "df_dedup = df_dedup.dropna(subset=['name', 'genre', 'name_clean'])\n"
   ]
  },
  {
   "cell_type": "code",
   "execution_count": null,
   "id": "7617ceb3-7e6c-4463-bca4-d73374f1dded",
   "metadata": {},
   "outputs": [],
   "source": [
    "df['genre'] = df['genre'].replace({\n",
    "    'platform': 'platformer',\n",
    "    'role-playing': 'rpg'\n",
    "})\n",
    "\n",
    "rare_genres = ['party', 'mmo', 'board game', 'education', 'sandbox']\n",
    "df['genre'] = df['genre'].replace(rare_genres, 'other')"
   ]
  },
  {
   "cell_type": "code",
   "execution_count": null,
   "id": "322512ed-1efc-48fe-a88e-9752db49c6ce",
   "metadata": {},
   "outputs": [],
   "source": [
    "df_dedup.to_csv('C:/Users/PcVIP/Desktop/Bootcamp/Week7/Weekly_project_ml/video_game_sales/data/clean/video_game_sales_final_cleaned.csv', index=False)\n"
   ]
  },
  {
   "cell_type": "code",
   "execution_count": null,
   "id": "efe4c42d-dda3-4406-86ce-c168cb1446d0",
   "metadata": {},
   "outputs": [],
   "source": []
  },
  {
   "cell_type": "code",
   "execution_count": null,
   "id": "df8879e8-6a09-47f4-a3fd-bdf02f26487c",
   "metadata": {},
   "outputs": [],
   "source": []
  }
 ],
 "metadata": {
  "kernelspec": {
   "display_name": "Python [conda env:base] *",
   "language": "python",
   "name": "conda-base-py"
  },
  "language_info": {
   "codemirror_mode": {
    "name": "ipython",
    "version": 3
   },
   "file_extension": ".py",
   "mimetype": "text/x-python",
   "name": "python",
   "nbconvert_exporter": "python",
   "pygments_lexer": "ipython3",
   "version": "3.12.7"
  }
 },
 "nbformat": 4,
 "nbformat_minor": 5
}
