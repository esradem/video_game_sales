{
 "cells": [
  {
   "cell_type": "code",
   "execution_count": null,
   "id": "5d46844f-3e1c-4edb-8681-964ee6da628a",
   "metadata": {},
   "outputs": [],
   "source": [
    "import pandas as pd\n",
    "import numpy as np\n",
    "import matplotlib.pyplot as plt\n",
    "from sklearn.model_selection import train_test_split\n",
    "from sklearn.ensemble import RandomForestClassifier\n",
    "from sklearn.metrics import accuracy_score, classification_report\n",
    "#load data\n",
    "df = pd.read_csv(r\"C:\\Users\\shijin kunju\\Desktop\\ironhack\\week7\\project_3\\video_game_sales\\data\\raw\\video_game_sales_final_cleaned.csv\")\n",
    "df.head()"
   ]
  },
  {
   "cell_type": "code",
   "execution_count": null,
   "id": "a45248a4-75ae-443c-a8ff-99f61c20b90d",
   "metadata": {},
   "outputs": [],
   "source": [
    "# Create binary target\n",
    "median_sales = df['global_sales'].median()\n",
    "median_sales\n"
   ]
  },
  {
   "cell_type": "code",
   "execution_count": null,
   "id": "d879ada3-36f3-4841-a0aa-8049b064c852",
   "metadata": {},
   "outputs": [],
   "source": [
    "df['high_sales'] = (df['global_sales'] > median_sales).astype(int)\n"
   ]
  },
  {
   "cell_type": "code",
   "execution_count": 20,
   "id": "aa904894-fb51-4613-a435-497bb411340b",
   "metadata": {},
   "outputs": [],
   "source": [
    "# One-hot encode categorical features\n",
    "df_encoded = pd.get_dummies(df, columns=['platform', 'genre', 'publisher', 'rating'])\n",
    "\n",
    "# Select features (exclude non-numeric/target columns)\n",
    "X = df_encoded.drop(columns=['name', 'name_clean', 'global_sales', 'high_sales', 'rating_grouped'])\n",
    "y = df_encoded['high_sales']"
   ]
  },
  {
   "cell_type": "code",
   "execution_count": 21,
   "id": "dda98b23-71b2-452a-960c-b65540356b51",
   "metadata": {},
   "outputs": [
    {
     "name": "stdout",
     "output_type": "stream",
     "text": [
      "Accuracy: 0.9984001347254968\n",
      "              precision    recall  f1-score   support\n",
      "\n",
      "           0       1.00      1.00      1.00      7685\n",
      "           1       1.00      1.00      1.00      4191\n",
      "\n",
      "    accuracy                           1.00     11876\n",
      "   macro avg       1.00      1.00      1.00     11876\n",
      "weighted avg       1.00      1.00      1.00     11876\n",
      "\n"
     ]
    }
   ],
   "source": [
    "# Split data (80% train, 20% test)\n",
    "X_train, X_test, y_train, y_test = train_test_split(X, y, test_size=0.2, random_state=42)\n",
    "\n",
    "# Train Random Forest classifier\n",
    "clf = RandomForestClassifier(random_state=42)\n",
    "clf.fit(X_train, y_train)\n",
    "\n",
    "# Evaluate\n",
    "y_pred = clf.predict(X_test)\n",
    "print(\"Accuracy:\", accuracy_score(y_test, y_pred))\n",
    "print(classification_report(y_test,y_pred))"
   ]
  },
  {
   "cell_type": "code",
   "execution_count": null,
   "id": "3fe3f8f8-cf64-451e-b9be-96c8b047a8c3",
   "metadata": {},
   "outputs": [],
   "source": []
  }
 ],
 "metadata": {
  "kernelspec": {
   "display_name": "Python 3 (ipykernel)",
   "language": "python",
   "name": "python3"
  },
  "language_info": {
   "codemirror_mode": {
    "name": "ipython",
    "version": 3
   },
   "file_extension": ".py",
   "mimetype": "text/x-python",
   "name": "python",
   "nbconvert_exporter": "python",
   "pygments_lexer": "ipython3",
   "version": "3.12.7"
  }
 },
 "nbformat": 4,
 "nbformat_minor": 5
}
