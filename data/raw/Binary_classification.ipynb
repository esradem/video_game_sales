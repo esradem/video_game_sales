{
 "cells": [
  {
   "cell_type": "code",
   "execution_count": 9,
   "id": "5d46844f-3e1c-4edb-8681-964ee6da628a",
   "metadata": {},
   "outputs": [
    {
     "data": {
      "text/html": [
       "<div>\n",
       "<style scoped>\n",
       "    .dataframe tbody tr th:only-of-type {\n",
       "        vertical-align: middle;\n",
       "    }\n",
       "\n",
       "    .dataframe tbody tr th {\n",
       "        vertical-align: top;\n",
       "    }\n",
       "\n",
       "    .dataframe thead th {\n",
       "        text-align: right;\n",
       "    }\n",
       "</style>\n",
       "<table border=\"1\" class=\"dataframe\">\n",
       "  <thead>\n",
       "    <tr style=\"text-align: right;\">\n",
       "      <th></th>\n",
       "      <th>name</th>\n",
       "      <th>platform</th>\n",
       "      <th>year_of_release</th>\n",
       "      <th>genre</th>\n",
       "      <th>publisher</th>\n",
       "      <th>na_sales</th>\n",
       "      <th>eu_sales</th>\n",
       "      <th>jp_sales</th>\n",
       "      <th>other_sales</th>\n",
       "      <th>global_sales</th>\n",
       "      <th>rating</th>\n",
       "      <th>rating_grouped</th>\n",
       "      <th>name_clean</th>\n",
       "    </tr>\n",
       "  </thead>\n",
       "  <tbody>\n",
       "    <tr>\n",
       "      <th>0</th>\n",
       "      <td>wii sports</td>\n",
       "      <td>WII</td>\n",
       "      <td>2006</td>\n",
       "      <td>sports</td>\n",
       "      <td>Nintendo</td>\n",
       "      <td>41.36</td>\n",
       "      <td>28.96</td>\n",
       "      <td>3.77</td>\n",
       "      <td>8.45</td>\n",
       "      <td>82.53</td>\n",
       "      <td>E</td>\n",
       "      <td>Children</td>\n",
       "      <td>wii sports</td>\n",
       "    </tr>\n",
       "    <tr>\n",
       "      <th>1</th>\n",
       "      <td>super mario bros.</td>\n",
       "      <td>NES</td>\n",
       "      <td>1985</td>\n",
       "      <td>platform</td>\n",
       "      <td>Nintendo</td>\n",
       "      <td>29.08</td>\n",
       "      <td>3.58</td>\n",
       "      <td>6.81</td>\n",
       "      <td>0.77</td>\n",
       "      <td>40.24</td>\n",
       "      <td>Unrated</td>\n",
       "      <td>Unrated</td>\n",
       "      <td>super mario bros</td>\n",
       "    </tr>\n",
       "    <tr>\n",
       "      <th>2</th>\n",
       "      <td>mario kart wii</td>\n",
       "      <td>WII</td>\n",
       "      <td>2008</td>\n",
       "      <td>racing</td>\n",
       "      <td>Nintendo</td>\n",
       "      <td>15.68</td>\n",
       "      <td>12.76</td>\n",
       "      <td>3.79</td>\n",
       "      <td>3.29</td>\n",
       "      <td>35.52</td>\n",
       "      <td>E</td>\n",
       "      <td>Children</td>\n",
       "      <td>mario kart wii</td>\n",
       "    </tr>\n",
       "    <tr>\n",
       "      <th>3</th>\n",
       "      <td>wii sports resort</td>\n",
       "      <td>WII</td>\n",
       "      <td>2009</td>\n",
       "      <td>sports</td>\n",
       "      <td>Nintendo</td>\n",
       "      <td>15.61</td>\n",
       "      <td>10.93</td>\n",
       "      <td>3.28</td>\n",
       "      <td>2.95</td>\n",
       "      <td>32.77</td>\n",
       "      <td>E</td>\n",
       "      <td>Children</td>\n",
       "      <td>wii sports resort</td>\n",
       "    </tr>\n",
       "    <tr>\n",
       "      <th>4</th>\n",
       "      <td>pokemon red/pokemon blue</td>\n",
       "      <td>GB</td>\n",
       "      <td>1996</td>\n",
       "      <td>role-playing</td>\n",
       "      <td>Nintendo</td>\n",
       "      <td>11.27</td>\n",
       "      <td>8.89</td>\n",
       "      <td>10.22</td>\n",
       "      <td>1.00</td>\n",
       "      <td>31.37</td>\n",
       "      <td>Unrated</td>\n",
       "      <td>Unrated</td>\n",
       "      <td>pokemon redpokemon blue</td>\n",
       "    </tr>\n",
       "  </tbody>\n",
       "</table>\n",
       "</div>"
      ],
      "text/plain": [
       "                       name platform  year_of_release         genre publisher  \\\n",
       "0                wii sports      WII             2006        sports  Nintendo   \n",
       "1         super mario bros.      NES             1985      platform  Nintendo   \n",
       "2            mario kart wii      WII             2008        racing  Nintendo   \n",
       "3         wii sports resort      WII             2009        sports  Nintendo   \n",
       "4  pokemon red/pokemon blue       GB             1996  role-playing  Nintendo   \n",
       "\n",
       "   na_sales  eu_sales  jp_sales  other_sales  global_sales   rating  \\\n",
       "0     41.36     28.96      3.77         8.45         82.53        E   \n",
       "1     29.08      3.58      6.81         0.77         40.24  Unrated   \n",
       "2     15.68     12.76      3.79         3.29         35.52        E   \n",
       "3     15.61     10.93      3.28         2.95         32.77        E   \n",
       "4     11.27      8.89     10.22         1.00         31.37  Unrated   \n",
       "\n",
       "  rating_grouped               name_clean  \n",
       "0       Children               wii sports  \n",
       "1        Unrated         super mario bros  \n",
       "2       Children           mario kart wii  \n",
       "3       Children        wii sports resort  \n",
       "4        Unrated  pokemon redpokemon blue  "
      ]
     },
     "execution_count": 9,
     "metadata": {},
     "output_type": "execute_result"
    }
   ],
   "source": [
    "import pandas as pd\n",
    "import numpy as np\n",
    "import matplotlib.pyplot as plt\n",
    "from sklearn.model_selection import train_test_split\n",
    "from sklearn.ensemble import RandomForestClassifier\n",
    "from sklearn.metrics import accuracy_score, classification_report\n",
    "#load data\n",
    "df = pd.read_csv(\"../../data/raw/video_game_sales_final_cleaned.csv\")\n",
    "df.head()"
   ]
  },
  {
   "cell_type": "code",
   "execution_count": 11,
   "id": "a45248a4-75ae-443c-a8ff-99f61c20b90d",
   "metadata": {},
   "outputs": [
    {
     "data": {
      "text/plain": [
       "0.0"
      ]
     },
     "execution_count": 11,
     "metadata": {},
     "output_type": "execute_result"
    }
   ],
   "source": [
    "# Create binary target\n",
    "median_sales = df['global_sales'].median()\n",
    "median_sales\n"
   ]
  },
  {
   "cell_type": "code",
   "execution_count": 13,
   "id": "d879ada3-36f3-4841-a0aa-8049b064c852",
   "metadata": {},
   "outputs": [],
   "source": [
    "df['high_sales'] = (df['global_sales'] > median_sales).astype(int)\n"
   ]
  },
  {
   "cell_type": "code",
   "execution_count": 15,
   "id": "aa904894-fb51-4613-a435-497bb411340b",
   "metadata": {},
   "outputs": [],
   "source": [
    "# One-hot encode categorical features\n",
    "df_encoded = pd.get_dummies(df, columns=['platform', 'genre', 'publisher', 'rating'])\n",
    "\n",
    "# Select features (exclude non-numeric/target columns)\n",
    "X = df_encoded.drop(columns=['name', 'name_clean', 'global_sales', 'high_sales', 'rating_grouped'])\n",
    "y = df_encoded['high_sales']"
   ]
  },
  {
   "cell_type": "code",
   "execution_count": 16,
   "id": "dda98b23-71b2-452a-960c-b65540356b51",
   "metadata": {},
   "outputs": [
    {
     "name": "stdout",
     "output_type": "stream",
     "text": [
      "Accuracy: 0.9984001347254968\n",
      "              precision    recall  f1-score   support\n",
      "\n",
      "           0       1.00      1.00      1.00      7685\n",
      "           1       1.00      1.00      1.00      4191\n",
      "\n",
      "    accuracy                           1.00     11876\n",
      "   macro avg       1.00      1.00      1.00     11876\n",
      "weighted avg       1.00      1.00      1.00     11876\n",
      "\n"
     ]
    }
   ],
   "source": [
    "# Split data (80% train, 20% test)\n",
    "X_train, X_test, y_train, y_test = train_test_split(X, y, test_size=0.2, random_state=42)\n",
    "\n",
    "# Train Random Forest classifier\n",
    "clf = RandomForestClassifier(random_state=42)\n",
    "clf.fit(X_train, y_train)\n",
    "\n",
    "# Evaluate\n",
    "y_pred = clf.predict(X_test)\n",
    "print(\"Accuracy:\", accuracy_score(y_test, y_pred))\n",
    "print(classification_report(y_test,y_pred))"
   ]
  },
  {
   "cell_type": "code",
   "execution_count": null,
   "id": "3fe3f8f8-cf64-451e-b9be-96c8b047a8c3",
   "metadata": {},
   "outputs": [],
   "source": []
  },
  {
   "cell_type": "code",
   "execution_count": null,
   "id": "5dcd50d8-21b7-4d96-9e16-4f4ae79aac50",
   "metadata": {},
   "outputs": [],
   "source": []
  },
  {
   "cell_type": "code",
   "execution_count": null,
   "id": "04de6a60-a95c-4c4e-9f00-16851f461bb5",
   "metadata": {},
   "outputs": [],
   "source": []
  },
  {
   "cell_type": "code",
   "execution_count": null,
   "id": "529a7609-edc9-4ade-a7c9-2595232c7c3f",
   "metadata": {},
   "outputs": [],
   "source": []
  }
 ],
 "metadata": {
  "kernelspec": {
   "display_name": "Python [conda env:base] *",
   "language": "python",
   "name": "conda-base-py"
  },
  "language_info": {
   "codemirror_mode": {
    "name": "ipython",
    "version": 3
   },
   "file_extension": ".py",
   "mimetype": "text/x-python",
   "name": "python",
   "nbconvert_exporter": "python",
   "pygments_lexer": "ipython3",
   "version": "3.12.7"
  }
 },
 "nbformat": 4,
 "nbformat_minor": 5
}
