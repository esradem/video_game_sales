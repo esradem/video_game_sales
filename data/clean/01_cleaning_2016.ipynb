{
 "cells": [
  {
   "cell_type": "code",
   "execution_count": 1,
   "id": "2ab107f7-747e-40d4-aaea-21bc1f48a711",
   "metadata": {},
   "outputs": [
    {
     "name": "stdout",
     "output_type": "stream",
     "text": [
      "<class 'pandas.core.frame.DataFrame'>\n",
      "RangeIndex: 16719 entries, 0 to 16718\n",
      "Data columns (total 16 columns):\n",
      " #   Column           Non-Null Count  Dtype  \n",
      "---  ------           --------------  -----  \n",
      " 0   Name             16717 non-null  object \n",
      " 1   Platform         16719 non-null  object \n",
      " 2   Year_of_Release  16450 non-null  float64\n",
      " 3   Genre            16717 non-null  object \n",
      " 4   Publisher        16665 non-null  object \n",
      " 5   NA_Sales         16719 non-null  float64\n",
      " 6   EU_Sales         16719 non-null  float64\n",
      " 7   JP_Sales         16719 non-null  float64\n",
      " 8   Other_Sales      16719 non-null  float64\n",
      " 9   Global_Sales     16719 non-null  float64\n",
      " 10  Critic_Score     8137 non-null   float64\n",
      " 11  Critic_Count     8137 non-null   float64\n",
      " 12  User_Score       10015 non-null  object \n",
      " 13  User_Count       7590 non-null   float64\n",
      " 14  Developer        10096 non-null  object \n",
      " 15  Rating           9950 non-null   object \n",
      "dtypes: float64(9), object(7)\n",
      "memory usage: 2.0+ MB\n"
     ]
    },
    {
     "data": {
      "text/html": [
       "<div>\n",
       "<style scoped>\n",
       "    .dataframe tbody tr th:only-of-type {\n",
       "        vertical-align: middle;\n",
       "    }\n",
       "\n",
       "    .dataframe tbody tr th {\n",
       "        vertical-align: top;\n",
       "    }\n",
       "\n",
       "    .dataframe thead th {\n",
       "        text-align: right;\n",
       "    }\n",
       "</style>\n",
       "<table border=\"1\" class=\"dataframe\">\n",
       "  <thead>\n",
       "    <tr style=\"text-align: right;\">\n",
       "      <th></th>\n",
       "      <th>Name</th>\n",
       "      <th>Platform</th>\n",
       "      <th>Year_of_Release</th>\n",
       "      <th>Genre</th>\n",
       "      <th>Publisher</th>\n",
       "      <th>NA_Sales</th>\n",
       "      <th>EU_Sales</th>\n",
       "      <th>JP_Sales</th>\n",
       "      <th>Other_Sales</th>\n",
       "      <th>Global_Sales</th>\n",
       "      <th>Critic_Score</th>\n",
       "      <th>Critic_Count</th>\n",
       "      <th>User_Score</th>\n",
       "      <th>User_Count</th>\n",
       "      <th>Developer</th>\n",
       "      <th>Rating</th>\n",
       "    </tr>\n",
       "  </thead>\n",
       "  <tbody>\n",
       "    <tr>\n",
       "      <th>0</th>\n",
       "      <td>Wii Sports</td>\n",
       "      <td>Wii</td>\n",
       "      <td>2006.0</td>\n",
       "      <td>Sports</td>\n",
       "      <td>Nintendo</td>\n",
       "      <td>41.36</td>\n",
       "      <td>28.96</td>\n",
       "      <td>3.77</td>\n",
       "      <td>8.45</td>\n",
       "      <td>82.53</td>\n",
       "      <td>76.0</td>\n",
       "      <td>51.0</td>\n",
       "      <td>8</td>\n",
       "      <td>322.0</td>\n",
       "      <td>Nintendo</td>\n",
       "      <td>E</td>\n",
       "    </tr>\n",
       "    <tr>\n",
       "      <th>1</th>\n",
       "      <td>Super Mario Bros.</td>\n",
       "      <td>NES</td>\n",
       "      <td>1985.0</td>\n",
       "      <td>Platform</td>\n",
       "      <td>Nintendo</td>\n",
       "      <td>29.08</td>\n",
       "      <td>3.58</td>\n",
       "      <td>6.81</td>\n",
       "      <td>0.77</td>\n",
       "      <td>40.24</td>\n",
       "      <td>NaN</td>\n",
       "      <td>NaN</td>\n",
       "      <td>NaN</td>\n",
       "      <td>NaN</td>\n",
       "      <td>NaN</td>\n",
       "      <td>NaN</td>\n",
       "    </tr>\n",
       "    <tr>\n",
       "      <th>2</th>\n",
       "      <td>Mario Kart Wii</td>\n",
       "      <td>Wii</td>\n",
       "      <td>2008.0</td>\n",
       "      <td>Racing</td>\n",
       "      <td>Nintendo</td>\n",
       "      <td>15.68</td>\n",
       "      <td>12.76</td>\n",
       "      <td>3.79</td>\n",
       "      <td>3.29</td>\n",
       "      <td>35.52</td>\n",
       "      <td>82.0</td>\n",
       "      <td>73.0</td>\n",
       "      <td>8.3</td>\n",
       "      <td>709.0</td>\n",
       "      <td>Nintendo</td>\n",
       "      <td>E</td>\n",
       "    </tr>\n",
       "    <tr>\n",
       "      <th>3</th>\n",
       "      <td>Wii Sports Resort</td>\n",
       "      <td>Wii</td>\n",
       "      <td>2009.0</td>\n",
       "      <td>Sports</td>\n",
       "      <td>Nintendo</td>\n",
       "      <td>15.61</td>\n",
       "      <td>10.93</td>\n",
       "      <td>3.28</td>\n",
       "      <td>2.95</td>\n",
       "      <td>32.77</td>\n",
       "      <td>80.0</td>\n",
       "      <td>73.0</td>\n",
       "      <td>8</td>\n",
       "      <td>192.0</td>\n",
       "      <td>Nintendo</td>\n",
       "      <td>E</td>\n",
       "    </tr>\n",
       "    <tr>\n",
       "      <th>4</th>\n",
       "      <td>Pokemon Red/Pokemon Blue</td>\n",
       "      <td>GB</td>\n",
       "      <td>1996.0</td>\n",
       "      <td>Role-Playing</td>\n",
       "      <td>Nintendo</td>\n",
       "      <td>11.27</td>\n",
       "      <td>8.89</td>\n",
       "      <td>10.22</td>\n",
       "      <td>1.00</td>\n",
       "      <td>31.37</td>\n",
       "      <td>NaN</td>\n",
       "      <td>NaN</td>\n",
       "      <td>NaN</td>\n",
       "      <td>NaN</td>\n",
       "      <td>NaN</td>\n",
       "      <td>NaN</td>\n",
       "    </tr>\n",
       "  </tbody>\n",
       "</table>\n",
       "</div>"
      ],
      "text/plain": [
       "                       Name Platform  Year_of_Release         Genre Publisher  \\\n",
       "0                Wii Sports      Wii           2006.0        Sports  Nintendo   \n",
       "1         Super Mario Bros.      NES           1985.0      Platform  Nintendo   \n",
       "2            Mario Kart Wii      Wii           2008.0        Racing  Nintendo   \n",
       "3         Wii Sports Resort      Wii           2009.0        Sports  Nintendo   \n",
       "4  Pokemon Red/Pokemon Blue       GB           1996.0  Role-Playing  Nintendo   \n",
       "\n",
       "   NA_Sales  EU_Sales  JP_Sales  Other_Sales  Global_Sales  Critic_Score  \\\n",
       "0     41.36     28.96      3.77         8.45         82.53          76.0   \n",
       "1     29.08      3.58      6.81         0.77         40.24           NaN   \n",
       "2     15.68     12.76      3.79         3.29         35.52          82.0   \n",
       "3     15.61     10.93      3.28         2.95         32.77          80.0   \n",
       "4     11.27      8.89     10.22         1.00         31.37           NaN   \n",
       "\n",
       "   Critic_Count User_Score  User_Count Developer Rating  \n",
       "0          51.0          8       322.0  Nintendo      E  \n",
       "1           NaN        NaN         NaN       NaN    NaN  \n",
       "2          73.0        8.3       709.0  Nintendo      E  \n",
       "3          73.0          8       192.0  Nintendo      E  \n",
       "4           NaN        NaN         NaN       NaN    NaN  "
      ]
     },
     "execution_count": 1,
     "metadata": {},
     "output_type": "execute_result"
    }
   ],
   "source": [
    "import pandas as pd\n",
    "\n",
    "df = pd.read_csv('../raw/Video_Games_Sales_as_at_22_Dec_2016.csv')\n",
    "df.info()\n",
    "df.head()"
   ]
  },
  {
   "cell_type": "code",
   "execution_count": 2,
   "id": "19a4dc93-24ce-444f-a576-9dba57260606",
   "metadata": {},
   "outputs": [
    {
     "data": {
      "text/plain": [
       "User_Count         9129\n",
       "Critic_Score       8582\n",
       "Critic_Count       8582\n",
       "Rating             6769\n",
       "User_Score         6704\n",
       "Developer          6623\n",
       "Year_of_Release     269\n",
       "Publisher            54\n",
       "Name                  2\n",
       "Genre                 2\n",
       "Platform              0\n",
       "NA_Sales              0\n",
       "EU_Sales              0\n",
       "JP_Sales              0\n",
       "Other_Sales           0\n",
       "Global_Sales          0\n",
       "dtype: int64"
      ]
     },
     "execution_count": 2,
     "metadata": {},
     "output_type": "execute_result"
    }
   ],
   "source": [
    "df.isnull().sum().sort_values(ascending=False)\n"
   ]
  },
  {
   "cell_type": "code",
   "execution_count": 3,
   "id": "209c8b55-d1e9-4bc9-984f-16674ee1db66",
   "metadata": {},
   "outputs": [],
   "source": [
    "df_old = pd.read_csv('../raw/Video_Games_Sales_as_at_22_Dec_2016.csv')\n",
    "\n",
    "df_old.drop(columns=[\n",
    "    'Critic_Score', 'Critic_Count', 'User_Score', 'User_Count', 'Developer'\n",
    "], inplace=True)\n"
   ]
  },
  {
   "cell_type": "code",
   "execution_count": 4,
   "id": "69dcc172-b18f-47c8-a68e-e1ebd76dd9b0",
   "metadata": {},
   "outputs": [
    {
     "data": {
      "text/html": [
       "<div>\n",
       "<style scoped>\n",
       "    .dataframe tbody tr th:only-of-type {\n",
       "        vertical-align: middle;\n",
       "    }\n",
       "\n",
       "    .dataframe tbody tr th {\n",
       "        vertical-align: top;\n",
       "    }\n",
       "\n",
       "    .dataframe thead th {\n",
       "        text-align: right;\n",
       "    }\n",
       "</style>\n",
       "<table border=\"1\" class=\"dataframe\">\n",
       "  <thead>\n",
       "    <tr style=\"text-align: right;\">\n",
       "      <th></th>\n",
       "      <th>Name</th>\n",
       "      <th>Platform</th>\n",
       "      <th>Year_of_Release</th>\n",
       "      <th>Genre</th>\n",
       "      <th>Publisher</th>\n",
       "      <th>NA_Sales</th>\n",
       "      <th>EU_Sales</th>\n",
       "      <th>JP_Sales</th>\n",
       "      <th>Other_Sales</th>\n",
       "      <th>Global_Sales</th>\n",
       "      <th>Rating</th>\n",
       "    </tr>\n",
       "  </thead>\n",
       "  <tbody>\n",
       "    <tr>\n",
       "      <th>0</th>\n",
       "      <td>Wii Sports</td>\n",
       "      <td>Wii</td>\n",
       "      <td>2006.0</td>\n",
       "      <td>Sports</td>\n",
       "      <td>Nintendo</td>\n",
       "      <td>41.36</td>\n",
       "      <td>28.96</td>\n",
       "      <td>3.77</td>\n",
       "      <td>8.45</td>\n",
       "      <td>82.53</td>\n",
       "      <td>E</td>\n",
       "    </tr>\n",
       "    <tr>\n",
       "      <th>1</th>\n",
       "      <td>Super Mario Bros.</td>\n",
       "      <td>NES</td>\n",
       "      <td>1985.0</td>\n",
       "      <td>Platform</td>\n",
       "      <td>Nintendo</td>\n",
       "      <td>29.08</td>\n",
       "      <td>3.58</td>\n",
       "      <td>6.81</td>\n",
       "      <td>0.77</td>\n",
       "      <td>40.24</td>\n",
       "      <td>NaN</td>\n",
       "    </tr>\n",
       "    <tr>\n",
       "      <th>2</th>\n",
       "      <td>Mario Kart Wii</td>\n",
       "      <td>Wii</td>\n",
       "      <td>2008.0</td>\n",
       "      <td>Racing</td>\n",
       "      <td>Nintendo</td>\n",
       "      <td>15.68</td>\n",
       "      <td>12.76</td>\n",
       "      <td>3.79</td>\n",
       "      <td>3.29</td>\n",
       "      <td>35.52</td>\n",
       "      <td>E</td>\n",
       "    </tr>\n",
       "    <tr>\n",
       "      <th>3</th>\n",
       "      <td>Wii Sports Resort</td>\n",
       "      <td>Wii</td>\n",
       "      <td>2009.0</td>\n",
       "      <td>Sports</td>\n",
       "      <td>Nintendo</td>\n",
       "      <td>15.61</td>\n",
       "      <td>10.93</td>\n",
       "      <td>3.28</td>\n",
       "      <td>2.95</td>\n",
       "      <td>32.77</td>\n",
       "      <td>E</td>\n",
       "    </tr>\n",
       "    <tr>\n",
       "      <th>4</th>\n",
       "      <td>Pokemon Red/Pokemon Blue</td>\n",
       "      <td>GB</td>\n",
       "      <td>1996.0</td>\n",
       "      <td>Role-Playing</td>\n",
       "      <td>Nintendo</td>\n",
       "      <td>11.27</td>\n",
       "      <td>8.89</td>\n",
       "      <td>10.22</td>\n",
       "      <td>1.00</td>\n",
       "      <td>31.37</td>\n",
       "      <td>NaN</td>\n",
       "    </tr>\n",
       "  </tbody>\n",
       "</table>\n",
       "</div>"
      ],
      "text/plain": [
       "                       Name Platform  Year_of_Release         Genre Publisher  \\\n",
       "0                Wii Sports      Wii           2006.0        Sports  Nintendo   \n",
       "1         Super Mario Bros.      NES           1985.0      Platform  Nintendo   \n",
       "2            Mario Kart Wii      Wii           2008.0        Racing  Nintendo   \n",
       "3         Wii Sports Resort      Wii           2009.0        Sports  Nintendo   \n",
       "4  Pokemon Red/Pokemon Blue       GB           1996.0  Role-Playing  Nintendo   \n",
       "\n",
       "   NA_Sales  EU_Sales  JP_Sales  Other_Sales  Global_Sales Rating  \n",
       "0     41.36     28.96      3.77         8.45         82.53      E  \n",
       "1     29.08      3.58      6.81         0.77         40.24    NaN  \n",
       "2     15.68     12.76      3.79         3.29         35.52      E  \n",
       "3     15.61     10.93      3.28         2.95         32.77      E  \n",
       "4     11.27      8.89     10.22         1.00         31.37    NaN  "
      ]
     },
     "execution_count": 4,
     "metadata": {},
     "output_type": "execute_result"
    }
   ],
   "source": [
    "df_old.head()\n"
   ]
  },
  {
   "cell_type": "code",
   "execution_count": 5,
   "id": "5fb0d499-fffe-4532-bd9b-1177bb4decd5",
   "metadata": {},
   "outputs": [
    {
     "data": {
      "text/plain": [
       "Index(['Name', 'Platform', 'Year_of_Release', 'Genre', 'Publisher', 'NA_Sales',\n",
       "       'EU_Sales', 'JP_Sales', 'Other_Sales', 'Global_Sales', 'Rating'],\n",
       "      dtype='object')"
      ]
     },
     "execution_count": 5,
     "metadata": {},
     "output_type": "execute_result"
    }
   ],
   "source": [
    "df_old.columns\n"
   ]
  },
  {
   "cell_type": "code",
   "execution_count": 6,
   "id": "6f0282ba-a9d2-4b8f-9b26-f76dbc3b2fdd",
   "metadata": {},
   "outputs": [
    {
     "name": "stdout",
     "output_type": "stream",
     "text": [
      "<class 'pandas.core.frame.DataFrame'>\n",
      "RangeIndex: 16719 entries, 0 to 16718\n",
      "Data columns (total 11 columns):\n",
      " #   Column           Non-Null Count  Dtype  \n",
      "---  ------           --------------  -----  \n",
      " 0   Name             16717 non-null  object \n",
      " 1   Platform         16719 non-null  object \n",
      " 2   Year_of_Release  16450 non-null  float64\n",
      " 3   Genre            16717 non-null  object \n",
      " 4   Publisher        16665 non-null  object \n",
      " 5   NA_Sales         16719 non-null  float64\n",
      " 6   EU_Sales         16719 non-null  float64\n",
      " 7   JP_Sales         16719 non-null  float64\n",
      " 8   Other_Sales      16719 non-null  float64\n",
      " 9   Global_Sales     16719 non-null  float64\n",
      " 10  Rating           9950 non-null   object \n",
      "dtypes: float64(6), object(5)\n",
      "memory usage: 1.4+ MB\n"
     ]
    }
   ],
   "source": [
    "df_old.info()\n"
   ]
  },
  {
   "cell_type": "code",
   "execution_count": 7,
   "id": "8fb10b1a-6365-4021-8948-0b7da8cdf7c9",
   "metadata": {},
   "outputs": [],
   "source": [
    "df_old['Publisher'] = df_old['Publisher'].fillna('Unknown')\n",
    "df_old['Rating'] = df_old['Rating'].fillna('Unrated')\n"
   ]
  },
  {
   "cell_type": "code",
   "execution_count": 8,
   "id": "6ac73a86-6844-4766-a2ef-22aa3b7c8fe3",
   "metadata": {},
   "outputs": [],
   "source": [
    "df_old['Genre'] = df_old['Genre'].str.lower().str.strip()\n",
    "df_old['Platform'] = df_old['Platform'].str.upper().str.strip()\n",
    "df_old['Publisher'] = df_old['Publisher'].str.strip()\n",
    "df_old['Rating'] = df_old['Rating'].str.strip()\n",
    "df_old['Name'] = df_old['Name'].str.lower().str.strip()\n"
   ]
  },
  {
   "cell_type": "code",
   "execution_count": 9,
   "id": "5f6c2bb3-36fb-4702-a8f7-20f0cbbdd986",
   "metadata": {},
   "outputs": [
    {
     "data": {
      "text/plain": [
       "269"
      ]
     },
     "execution_count": 9,
     "metadata": {},
     "output_type": "execute_result"
    }
   ],
   "source": [
    "df_old['Year_of_Release'].isnull().sum()\n"
   ]
  },
  {
   "cell_type": "code",
   "execution_count": 10,
   "id": "2d11b468-8cdc-4d68-8d87-55f1514124d0",
   "metadata": {},
   "outputs": [],
   "source": [
    "df_old = df_old[df_old['Year_of_Release'].notna()]\n"
   ]
  },
  {
   "cell_type": "code",
   "execution_count": 11,
   "id": "cab9482e-7cb3-42a8-b6af-43f0c78b3f66",
   "metadata": {},
   "outputs": [],
   "source": [
    "df_old['Year_of_Release'] = df_old['Year_of_Release'].astype(int)\n"
   ]
  },
  {
   "cell_type": "code",
   "execution_count": 12,
   "id": "29dd5d34-7b42-4abd-ba3e-f6ef74f41ec4",
   "metadata": {},
   "outputs": [
    {
     "data": {
      "text/plain": [
       "0                   wii sports\n",
       "1            super mario bros.\n",
       "2               mario kart wii\n",
       "3            wii sports resort\n",
       "4     pokemon red/pokemon blue\n",
       "5                       tetris\n",
       "6        new super mario bros.\n",
       "7                     wii play\n",
       "8    new super mario bros. wii\n",
       "9                    duck hunt\n",
       "Name: Name, dtype: object"
      ]
     },
     "execution_count": 12,
     "metadata": {},
     "output_type": "execute_result"
    }
   ],
   "source": [
    "df_old['Genre'].unique()[:10]\n",
    "df_old['Platform'].unique()[:10]\n",
    "df_old['Publisher'].unique()[:10]\n",
    "df_old['Rating'].unique()\n",
    "df_old['Name'].head(10)\n"
   ]
  },
  {
   "cell_type": "code",
   "execution_count": 13,
   "id": "add59d2c-7926-4ea0-8b0f-1294971fa8eb",
   "metadata": {},
   "outputs": [
    {
     "data": {
      "text/plain": [
       "['AO', 'E', 'E10+', 'EC', 'K-A', 'M', 'RP', 'T', 'Unrated']"
      ]
     },
     "execution_count": 13,
     "metadata": {},
     "output_type": "execute_result"
    }
   ],
   "source": [
    "sorted(df_old['Genre'].dropna().unique())\n",
    "sorted(df_old['Platform'].dropna().unique())\n",
    "sorted(df_old['Rating'].dropna().unique())\n"
   ]
  },
  {
   "cell_type": "code",
   "execution_count": 14,
   "id": "2f4e62c3-8c51-4320-bcd5-21b42ac1fccc",
   "metadata": {},
   "outputs": [
    {
     "data": {
      "text/plain": [
       "Rating\n",
       "Unrated    6681\n",
       "E          3922\n",
       "T          2905\n",
       "M          1536\n",
       "E10+       1393\n",
       "EC            8\n",
       "K-A           3\n",
       "AO            1\n",
       "RP            1\n",
       "Name: count, dtype: int64"
      ]
     },
     "execution_count": 14,
     "metadata": {},
     "output_type": "execute_result"
    }
   ],
   "source": [
    "df_old['Genre'].value_counts().head(10)\n",
    "df_old['Platform'].value_counts().head(10)\n",
    "df_old['Rating'].value_counts()\n"
   ]
  },
  {
   "cell_type": "code",
   "execution_count": 15,
   "id": "c50dea62-1bcd-41ae-ac07-2fe0293c06f1",
   "metadata": {},
   "outputs": [
    {
     "data": {
      "text/plain": [
       "0        Children\n",
       "1         Unrated\n",
       "2        Children\n",
       "3        Children\n",
       "4         Unrated\n",
       "           ...   \n",
       "16714     Unrated\n",
       "16715     Unrated\n",
       "16716     Unrated\n",
       "16717     Unrated\n",
       "16718     Unrated\n",
       "Name: Rating, Length: 16450, dtype: object"
      ]
     },
     "execution_count": 15,
     "metadata": {},
     "output_type": "execute_result"
    }
   ],
   "source": [
    "rating_map = {\n",
    "    'E': 'Children',\n",
    "    'EC': 'Children',\n",
    "    'E10+': 'Pre-teens',\n",
    "    'T': 'Teens',\n",
    "    'M': 'Adults',\n",
    "    'AO': 'Adults',\n",
    "    'RP': 'Unrated',\n",
    "    'K-A': 'Unrated',\n",
    "    'Unrated': 'Unrated'\n",
    "}\n",
    "\n",
    "df_old['Rating'].map(rating_map).fillna('Unrated')\n"
   ]
  },
  {
   "cell_type": "code",
   "execution_count": 16,
   "id": "6e8b2e55-c42c-420a-ae5e-a3f5f0b04a1a",
   "metadata": {},
   "outputs": [
    {
     "data": {
      "text/plain": [
       "array(['E', 'Unrated', 'M', 'T', 'E10+', 'K-A', 'AO', 'EC', 'RP'],\n",
       "      dtype=object)"
      ]
     },
     "execution_count": 16,
     "metadata": {},
     "output_type": "execute_result"
    }
   ],
   "source": [
    "df_old[['Rating']].head(5)\n",
    "df_old['Rating'].unique()\n"
   ]
  },
  {
   "cell_type": "code",
   "execution_count": 17,
   "id": "0d19155b-c8cb-47e9-b654-49a39fa59064",
   "metadata": {},
   "outputs": [
    {
     "data": {
      "text/plain": [
       "array(['WII', 'NES', 'GB', 'DS', 'X360', 'PS3', 'PS2', 'SNES', 'GBA',\n",
       "       'PS4', '3DS', 'N64', 'PS', 'XB', 'PC', '2600', 'PSP', 'XONE',\n",
       "       'WIIU', 'GC', 'GEN', 'DC', 'PSV', 'SAT', 'SCD', 'WS', 'NG', 'TG16',\n",
       "       '3DO', 'GG', 'PCFX'], dtype=object)"
      ]
     },
     "execution_count": 17,
     "metadata": {},
     "output_type": "execute_result"
    }
   ],
   "source": [
    "df_old['Platform'].unique()\n"
   ]
  },
  {
   "cell_type": "code",
   "execution_count": 18,
   "id": "3914d8ee-9eb5-4bcf-8071-7da8b29958e6",
   "metadata": {},
   "outputs": [
    {
     "data": {
      "text/plain": [
       "array(['sports', 'platform', 'racing', 'role-playing', 'puzzle', 'misc',\n",
       "       'shooter', 'simulation', 'action', 'fighting', 'adventure',\n",
       "       'strategy', nan], dtype=object)"
      ]
     },
     "execution_count": 18,
     "metadata": {},
     "output_type": "execute_result"
    }
   ],
   "source": [
    "df_old['Genre'].unique()\n"
   ]
  },
  {
   "cell_type": "code",
   "execution_count": 19,
   "id": "6c781813-7537-4afb-a052-e4689bf93eb6",
   "metadata": {},
   "outputs": [
    {
     "name": "stdout",
     "output_type": "stream",
     "text": [
      "<class 'pandas.core.frame.DataFrame'>\n",
      "RangeIndex: 64016 entries, 0 to 64015\n",
      "Data columns (total 14 columns):\n",
      " #   Column        Non-Null Count  Dtype  \n",
      "---  ------        --------------  -----  \n",
      " 0   img           64016 non-null  object \n",
      " 1   title         64016 non-null  object \n",
      " 2   console       64016 non-null  object \n",
      " 3   genre         64016 non-null  object \n",
      " 4   publisher     64016 non-null  object \n",
      " 5   developer     63999 non-null  object \n",
      " 6   critic_score  6678 non-null   float64\n",
      " 7   total_sales   18922 non-null  float64\n",
      " 8   na_sales      12637 non-null  float64\n",
      " 9   jp_sales      6726 non-null   float64\n",
      " 10  pal_sales     12824 non-null  float64\n",
      " 11  other_sales   15128 non-null  float64\n",
      " 12  release_date  56965 non-null  object \n",
      " 13  last_update   17879 non-null  object \n",
      "dtypes: float64(6), object(8)\n",
      "memory usage: 6.8+ MB\n"
     ]
    }
   ],
   "source": [
    "df_new = pd.read_csv('..//raw/2024_videogames_sales.csv')\n",
    "df_new.head()\n",
    "df_new.info()\n"
   ]
  },
  {
   "cell_type": "code",
   "execution_count": 20,
   "id": "1172343d-aa76-483c-af9b-20f25f8cad30",
   "metadata": {},
   "outputs": [],
   "source": [
    "df_new.rename(columns={\n",
    "    'title': 'Name',\n",
    "    'console': 'Platform',\n",
    "    'genre': 'Genre',\n",
    "    'publisher': 'Publisher',\n",
    "    'total_sales': 'Global_Sales',\n",
    "    'na_sales': 'NA_Sales',\n",
    "    'jp_sales': 'JP_Sales',\n",
    "    'pal_sales': 'EU_Sales',\n",
    "    'other_sales': 'Other_Sales',\n",
    "    'release_date': 'Release_Date'\n",
    "}, inplace=True)"
   ]
  },
  {
   "cell_type": "code",
   "execution_count": 21,
   "id": "6489832f-28bd-4939-9cda-0d9fd956b006",
   "metadata": {},
   "outputs": [],
   "source": [
    "df_new['Release_Date'] = pd.to_datetime(df_new['Release_Date'], errors='coerce')\n",
    "df_new = df_new[df_new['Release_Date'].notna()].copy()\n",
    "df_new['Year_of_Release'] = df_new['Release_Date'].dt.year.astype(int)\n",
    "\n"
   ]
  },
  {
   "cell_type": "code",
   "execution_count": 22,
   "id": "b28639b8-7f06-4461-85cc-fbab3f52f957",
   "metadata": {},
   "outputs": [],
   "source": [
    "df_new['Genre'] = df_new['Genre'].str.lower().str.strip()\n",
    "df_new['Platform'] = df_new['Platform'].str.upper().str.strip()\n",
    "df_new['Publisher'] = df_new['Publisher'].fillna('Unknown').str.strip()\n",
    "df_new['Name'] = df_new['Name'].str.lower().str.strip()"
   ]
  },
  {
   "cell_type": "code",
   "execution_count": 23,
   "id": "f78d7c23-7f1c-4e75-99a7-d828cb99eb38",
   "metadata": {},
   "outputs": [],
   "source": [
    "df_new = df_new[[\n",
    "    'Name', 'Platform', 'Year_of_Release', 'Genre', 'Publisher',\n",
    "    'NA_Sales', 'EU_Sales', 'JP_Sales', 'Other_Sales', 'Global_Sales'\n",
    "]]"
   ]
  },
  {
   "cell_type": "code",
   "execution_count": 24,
   "id": "26f3a049-02f4-4e3a-8677-08eb5e5034d9",
   "metadata": {},
   "outputs": [
    {
     "data": {
      "text/plain": [
       "Year_of_Release\n",
       "1971       1\n",
       "1973       1\n",
       "1975       1\n",
       "1977      11\n",
       "1978      45\n",
       "1979       8\n",
       "1980      35\n",
       "1981      50\n",
       "1982     214\n",
       "1983     298\n",
       "1984     102\n",
       "1985     101\n",
       "1986     159\n",
       "1987     270\n",
       "1988     294\n",
       "1989     426\n",
       "1990     657\n",
       "1991     779\n",
       "1992     933\n",
       "1993    1034\n",
       "1994    1163\n",
       "1995    1153\n",
       "1996    1228\n",
       "1997    1040\n",
       "1998    1096\n",
       "1999    1272\n",
       "2000    1552\n",
       "2001    1478\n",
       "2002    1726\n",
       "2003    1723\n",
       "2004    1606\n",
       "2005    1810\n",
       "2006    2096\n",
       "2007    2525\n",
       "2008    2936\n",
       "2009    4360\n",
       "2010    3586\n",
       "2011    3386\n",
       "2012    1584\n",
       "2013    1740\n",
       "2014    2896\n",
       "2015    1680\n",
       "2016    1352\n",
       "2017    1558\n",
       "2018    1538\n",
       "2019    1290\n",
       "2020    1452\n",
       "2021     422\n",
       "2022     168\n",
       "2023     108\n",
       "2024      22\n",
       "Name: count, dtype: int64"
      ]
     },
     "execution_count": 24,
     "metadata": {},
     "output_type": "execute_result"
    }
   ],
   "source": [
    "df_new['Year_of_Release'].describe()\n",
    "df_new['Year_of_Release'].value_counts().sort_index()\n"
   ]
  },
  {
   "cell_type": "code",
   "execution_count": 25,
   "id": "9affbca7-aad7-4f40-b331-959a8c2c1134",
   "metadata": {},
   "outputs": [],
   "source": [
    "df_new = df_new[df_new['Year_of_Release'].between(1980, 2024)]\n"
   ]
  },
  {
   "cell_type": "code",
   "execution_count": 26,
   "id": "338bf776-0ca8-4514-922a-93a350e0b436",
   "metadata": {},
   "outputs": [
    {
     "data": {
      "text/plain": [
       "JP_Sales           50210\n",
       "NA_Sales           44289\n",
       "EU_Sales           44133\n",
       "Other_Sales        41838\n",
       "Global_Sales       38077\n",
       "Name                   0\n",
       "Platform               0\n",
       "Year_of_Release        0\n",
       "Genre                  0\n",
       "Publisher              0\n",
       "dtype: int64"
      ]
     },
     "execution_count": 26,
     "metadata": {},
     "output_type": "execute_result"
    }
   ],
   "source": [
    "df_new.isnull().sum().sort_values(ascending=False)\n"
   ]
  },
  {
   "cell_type": "code",
   "execution_count": 27,
   "id": "09978923-0b99-4c64-9556-b4c0ada271f7",
   "metadata": {},
   "outputs": [
    {
     "data": {
      "text/plain": [
       "['action',\n",
       " 'adventure',\n",
       " 'fighting',\n",
       " 'misc',\n",
       " 'platform',\n",
       " 'puzzle',\n",
       " 'racing',\n",
       " 'role-playing',\n",
       " 'shooter',\n",
       " 'simulation',\n",
       " 'sports',\n",
       " 'strategy']"
      ]
     },
     "execution_count": 27,
     "metadata": {},
     "output_type": "execute_result"
    }
   ],
   "source": [
    "sorted(df_new['Genre'].dropna().unique())\n",
    "sorted(df_old['Genre'].dropna().unique())\n"
   ]
  },
  {
   "cell_type": "code",
   "execution_count": 28,
   "id": "7fc5a660-d447-40a6-9827-1fb2ed70b328",
   "metadata": {},
   "outputs": [],
   "source": [
    "genre_map = {\n",
    "    'action-adventure': 'action',\n",
    "    'fighting': 'action',\n",
    "    'misc': 'other',\n",
    "    'platform': 'platformer',\n",
    "    'shooter': 'shooter',\n",
    "    'simulation': 'simulation',\n",
    "    'sports': 'sports',\n",
    "    'racing': 'racing',\n",
    "    'role-playing': 'rpg',\n",
    "    'puzzle': 'puzzle',\n",
    "    'strategy': 'strategy',\n",
    "}\n",
    "\n",
    "df_new['Genre'] = df_new['Genre'].replace(genre_map)\n"
   ]
  },
  {
   "cell_type": "code",
   "execution_count": 29,
   "id": "7560d98a-c7b0-44ee-8068-98c2632a25fe",
   "metadata": {},
   "outputs": [
    {
     "data": {
      "text/plain": [
       "169"
      ]
     },
     "execution_count": 29,
     "metadata": {},
     "output_type": "execute_result"
    }
   ],
   "source": [
    "df_new.duplicated(subset=['Name', 'Platform', 'Year_of_Release']).sum()\n"
   ]
  },
  {
   "cell_type": "code",
   "execution_count": 30,
   "id": "5569038e-15d5-43c5-8bc3-ef89682ee395",
   "metadata": {},
   "outputs": [],
   "source": [
    "sales_cols = ['NA_Sales', 'EU_Sales', 'JP_Sales', 'Other_Sales', 'Global_Sales']\n",
    "df_new[sales_cols] = df_new[sales_cols].fillna(0)\n"
   ]
  },
  {
   "cell_type": "code",
   "execution_count": 31,
   "id": "8351ee86-cf1f-4f73-bc80-b73697b5dbe9",
   "metadata": {},
   "outputs": [
    {
     "data": {
      "text/html": [
       "<div>\n",
       "<style scoped>\n",
       "    .dataframe tbody tr th:only-of-type {\n",
       "        vertical-align: middle;\n",
       "    }\n",
       "\n",
       "    .dataframe tbody tr th {\n",
       "        vertical-align: top;\n",
       "    }\n",
       "\n",
       "    .dataframe thead th {\n",
       "        text-align: right;\n",
       "    }\n",
       "</style>\n",
       "<table border=\"1\" class=\"dataframe\">\n",
       "  <thead>\n",
       "    <tr style=\"text-align: right;\">\n",
       "      <th></th>\n",
       "      <th>Name</th>\n",
       "      <th>Platform</th>\n",
       "      <th>Year_of_Release</th>\n",
       "      <th>Genre</th>\n",
       "      <th>Publisher</th>\n",
       "      <th>NA_Sales</th>\n",
       "      <th>EU_Sales</th>\n",
       "      <th>JP_Sales</th>\n",
       "      <th>Other_Sales</th>\n",
       "      <th>Global_Sales</th>\n",
       "    </tr>\n",
       "  </thead>\n",
       "  <tbody>\n",
       "    <tr>\n",
       "      <th>0</th>\n",
       "      <td>grand theft auto v</td>\n",
       "      <td>PS3</td>\n",
       "      <td>2013</td>\n",
       "      <td>action</td>\n",
       "      <td>Rockstar Games</td>\n",
       "      <td>6.37</td>\n",
       "      <td>9.85</td>\n",
       "      <td>0.99</td>\n",
       "      <td>3.12</td>\n",
       "      <td>20.32</td>\n",
       "    </tr>\n",
       "    <tr>\n",
       "      <th>1</th>\n",
       "      <td>grand theft auto v</td>\n",
       "      <td>PS4</td>\n",
       "      <td>2014</td>\n",
       "      <td>action</td>\n",
       "      <td>Rockstar Games</td>\n",
       "      <td>6.06</td>\n",
       "      <td>9.71</td>\n",
       "      <td>0.60</td>\n",
       "      <td>3.02</td>\n",
       "      <td>19.39</td>\n",
       "    </tr>\n",
       "    <tr>\n",
       "      <th>2</th>\n",
       "      <td>grand theft auto: vice city</td>\n",
       "      <td>PS2</td>\n",
       "      <td>2002</td>\n",
       "      <td>action</td>\n",
       "      <td>Rockstar Games</td>\n",
       "      <td>8.41</td>\n",
       "      <td>5.49</td>\n",
       "      <td>0.47</td>\n",
       "      <td>1.78</td>\n",
       "      <td>16.15</td>\n",
       "    </tr>\n",
       "    <tr>\n",
       "      <th>3</th>\n",
       "      <td>grand theft auto v</td>\n",
       "      <td>X360</td>\n",
       "      <td>2013</td>\n",
       "      <td>action</td>\n",
       "      <td>Rockstar Games</td>\n",
       "      <td>9.06</td>\n",
       "      <td>5.33</td>\n",
       "      <td>0.06</td>\n",
       "      <td>1.42</td>\n",
       "      <td>15.86</td>\n",
       "    </tr>\n",
       "    <tr>\n",
       "      <th>4</th>\n",
       "      <td>call of duty: black ops 3</td>\n",
       "      <td>PS4</td>\n",
       "      <td>2015</td>\n",
       "      <td>shooter</td>\n",
       "      <td>Activision</td>\n",
       "      <td>6.18</td>\n",
       "      <td>6.05</td>\n",
       "      <td>0.41</td>\n",
       "      <td>2.44</td>\n",
       "      <td>15.09</td>\n",
       "    </tr>\n",
       "    <tr>\n",
       "      <th>...</th>\n",
       "      <td>...</td>\n",
       "      <td>...</td>\n",
       "      <td>...</td>\n",
       "      <td>...</td>\n",
       "      <td>...</td>\n",
       "      <td>...</td>\n",
       "      <td>...</td>\n",
       "      <td>...</td>\n",
       "      <td>...</td>\n",
       "      <td>...</td>\n",
       "    </tr>\n",
       "    <tr>\n",
       "      <th>64010</th>\n",
       "      <td>world end syndrome</td>\n",
       "      <td>PS4</td>\n",
       "      <td>2018</td>\n",
       "      <td>visual novel</td>\n",
       "      <td>Arc System Works</td>\n",
       "      <td>0.00</td>\n",
       "      <td>0.00</td>\n",
       "      <td>0.00</td>\n",
       "      <td>0.00</td>\n",
       "      <td>0.00</td>\n",
       "    </tr>\n",
       "    <tr>\n",
       "      <th>64011</th>\n",
       "      <td>xblaze lost: memories</td>\n",
       "      <td>PC</td>\n",
       "      <td>2016</td>\n",
       "      <td>visual novel</td>\n",
       "      <td>Aksys Games</td>\n",
       "      <td>0.00</td>\n",
       "      <td>0.00</td>\n",
       "      <td>0.00</td>\n",
       "      <td>0.00</td>\n",
       "      <td>0.00</td>\n",
       "    </tr>\n",
       "    <tr>\n",
       "      <th>64012</th>\n",
       "      <td>yoru, tomosu</td>\n",
       "      <td>PS4</td>\n",
       "      <td>2020</td>\n",
       "      <td>visual novel</td>\n",
       "      <td>Nippon Ichi Software</td>\n",
       "      <td>0.00</td>\n",
       "      <td>0.00</td>\n",
       "      <td>0.00</td>\n",
       "      <td>0.00</td>\n",
       "      <td>0.00</td>\n",
       "    </tr>\n",
       "    <tr>\n",
       "      <th>64013</th>\n",
       "      <td>yoru, tomosu</td>\n",
       "      <td>NS</td>\n",
       "      <td>2020</td>\n",
       "      <td>visual novel</td>\n",
       "      <td>Nippon Ichi Software</td>\n",
       "      <td>0.00</td>\n",
       "      <td>0.00</td>\n",
       "      <td>0.00</td>\n",
       "      <td>0.00</td>\n",
       "      <td>0.00</td>\n",
       "    </tr>\n",
       "    <tr>\n",
       "      <th>64014</th>\n",
       "      <td>yunohana spring! ~mellow times~</td>\n",
       "      <td>NS</td>\n",
       "      <td>2019</td>\n",
       "      <td>visual novel</td>\n",
       "      <td>Idea Factory</td>\n",
       "      <td>0.00</td>\n",
       "      <td>0.00</td>\n",
       "      <td>0.00</td>\n",
       "      <td>0.00</td>\n",
       "      <td>0.00</td>\n",
       "    </tr>\n",
       "  </tbody>\n",
       "</table>\n",
       "<p>56898 rows × 10 columns</p>\n",
       "</div>"
      ],
      "text/plain": [
       "                                  Name Platform  Year_of_Release  \\\n",
       "0                   grand theft auto v      PS3             2013   \n",
       "1                   grand theft auto v      PS4             2014   \n",
       "2          grand theft auto: vice city      PS2             2002   \n",
       "3                   grand theft auto v     X360             2013   \n",
       "4            call of duty: black ops 3      PS4             2015   \n",
       "...                                ...      ...              ...   \n",
       "64010               world end syndrome      PS4             2018   \n",
       "64011            xblaze lost: memories       PC             2016   \n",
       "64012                     yoru, tomosu      PS4             2020   \n",
       "64013                     yoru, tomosu       NS             2020   \n",
       "64014  yunohana spring! ~mellow times~       NS             2019   \n",
       "\n",
       "              Genre             Publisher  NA_Sales  EU_Sales  JP_Sales  \\\n",
       "0            action        Rockstar Games      6.37      9.85      0.99   \n",
       "1            action        Rockstar Games      6.06      9.71      0.60   \n",
       "2            action        Rockstar Games      8.41      5.49      0.47   \n",
       "3            action        Rockstar Games      9.06      5.33      0.06   \n",
       "4           shooter            Activision      6.18      6.05      0.41   \n",
       "...             ...                   ...       ...       ...       ...   \n",
       "64010  visual novel      Arc System Works      0.00      0.00      0.00   \n",
       "64011  visual novel           Aksys Games      0.00      0.00      0.00   \n",
       "64012  visual novel  Nippon Ichi Software      0.00      0.00      0.00   \n",
       "64013  visual novel  Nippon Ichi Software      0.00      0.00      0.00   \n",
       "64014  visual novel          Idea Factory      0.00      0.00      0.00   \n",
       "\n",
       "       Other_Sales  Global_Sales  \n",
       "0             3.12         20.32  \n",
       "1             3.02         19.39  \n",
       "2             1.78         16.15  \n",
       "3             1.42         15.86  \n",
       "4             2.44         15.09  \n",
       "...            ...           ...  \n",
       "64010         0.00          0.00  \n",
       "64011         0.00          0.00  \n",
       "64012         0.00          0.00  \n",
       "64013         0.00          0.00  \n",
       "64014         0.00          0.00  \n",
       "\n",
       "[56898 rows x 10 columns]"
      ]
     },
     "execution_count": 31,
     "metadata": {},
     "output_type": "execute_result"
    }
   ],
   "source": [
    "df_new"
   ]
  },
  {
   "cell_type": "code",
   "execution_count": 32,
   "id": "81c67e80-99b3-4677-b781-b231124bbcbf",
   "metadata": {},
   "outputs": [],
   "source": [
    "df_combined = pd.concat([df_old, df_new], ignore_index=True)\n"
   ]
  },
  {
   "cell_type": "code",
   "execution_count": 33,
   "id": "d3eacbae-4c95-4c05-9c58-3913313735c0",
   "metadata": {},
   "outputs": [],
   "source": [
    "df_combined.drop_duplicates(subset=['Name', 'Platform', 'Year_of_Release'], inplace=True)\n"
   ]
  },
  {
   "cell_type": "code",
   "execution_count": 34,
   "id": "e8895478-d6e2-4f32-a4a6-ca419b869bbc",
   "metadata": {},
   "outputs": [
    {
     "name": "stdout",
     "output_type": "stream",
     "text": [
      "Combined dataset shape: (59478, 11)\n"
     ]
    },
    {
     "data": {
      "text/html": [
       "<div>\n",
       "<style scoped>\n",
       "    .dataframe tbody tr th:only-of-type {\n",
       "        vertical-align: middle;\n",
       "    }\n",
       "\n",
       "    .dataframe tbody tr th {\n",
       "        vertical-align: top;\n",
       "    }\n",
       "\n",
       "    .dataframe thead th {\n",
       "        text-align: right;\n",
       "    }\n",
       "</style>\n",
       "<table border=\"1\" class=\"dataframe\">\n",
       "  <thead>\n",
       "    <tr style=\"text-align: right;\">\n",
       "      <th></th>\n",
       "      <th>Name</th>\n",
       "      <th>Platform</th>\n",
       "      <th>Year_of_Release</th>\n",
       "      <th>Genre</th>\n",
       "      <th>Publisher</th>\n",
       "      <th>NA_Sales</th>\n",
       "      <th>EU_Sales</th>\n",
       "      <th>JP_Sales</th>\n",
       "      <th>Other_Sales</th>\n",
       "      <th>Global_Sales</th>\n",
       "      <th>Rating</th>\n",
       "    </tr>\n",
       "  </thead>\n",
       "  <tbody>\n",
       "    <tr>\n",
       "      <th>0</th>\n",
       "      <td>wii sports</td>\n",
       "      <td>WII</td>\n",
       "      <td>2006</td>\n",
       "      <td>sports</td>\n",
       "      <td>Nintendo</td>\n",
       "      <td>41.36</td>\n",
       "      <td>28.96</td>\n",
       "      <td>3.77</td>\n",
       "      <td>8.45</td>\n",
       "      <td>82.53</td>\n",
       "      <td>E</td>\n",
       "    </tr>\n",
       "    <tr>\n",
       "      <th>1</th>\n",
       "      <td>super mario bros.</td>\n",
       "      <td>NES</td>\n",
       "      <td>1985</td>\n",
       "      <td>platform</td>\n",
       "      <td>Nintendo</td>\n",
       "      <td>29.08</td>\n",
       "      <td>3.58</td>\n",
       "      <td>6.81</td>\n",
       "      <td>0.77</td>\n",
       "      <td>40.24</td>\n",
       "      <td>Unrated</td>\n",
       "    </tr>\n",
       "    <tr>\n",
       "      <th>2</th>\n",
       "      <td>mario kart wii</td>\n",
       "      <td>WII</td>\n",
       "      <td>2008</td>\n",
       "      <td>racing</td>\n",
       "      <td>Nintendo</td>\n",
       "      <td>15.68</td>\n",
       "      <td>12.76</td>\n",
       "      <td>3.79</td>\n",
       "      <td>3.29</td>\n",
       "      <td>35.52</td>\n",
       "      <td>E</td>\n",
       "    </tr>\n",
       "    <tr>\n",
       "      <th>3</th>\n",
       "      <td>wii sports resort</td>\n",
       "      <td>WII</td>\n",
       "      <td>2009</td>\n",
       "      <td>sports</td>\n",
       "      <td>Nintendo</td>\n",
       "      <td>15.61</td>\n",
       "      <td>10.93</td>\n",
       "      <td>3.28</td>\n",
       "      <td>2.95</td>\n",
       "      <td>32.77</td>\n",
       "      <td>E</td>\n",
       "    </tr>\n",
       "    <tr>\n",
       "      <th>4</th>\n",
       "      <td>pokemon red/pokemon blue</td>\n",
       "      <td>GB</td>\n",
       "      <td>1996</td>\n",
       "      <td>role-playing</td>\n",
       "      <td>Nintendo</td>\n",
       "      <td>11.27</td>\n",
       "      <td>8.89</td>\n",
       "      <td>10.22</td>\n",
       "      <td>1.00</td>\n",
       "      <td>31.37</td>\n",
       "      <td>Unrated</td>\n",
       "    </tr>\n",
       "  </tbody>\n",
       "</table>\n",
       "</div>"
      ],
      "text/plain": [
       "                       Name Platform  Year_of_Release         Genre Publisher  \\\n",
       "0                wii sports      WII             2006        sports  Nintendo   \n",
       "1         super mario bros.      NES             1985      platform  Nintendo   \n",
       "2            mario kart wii      WII             2008        racing  Nintendo   \n",
       "3         wii sports resort      WII             2009        sports  Nintendo   \n",
       "4  pokemon red/pokemon blue       GB             1996  role-playing  Nintendo   \n",
       "\n",
       "   NA_Sales  EU_Sales  JP_Sales  Other_Sales  Global_Sales   Rating  \n",
       "0     41.36     28.96      3.77         8.45         82.53        E  \n",
       "1     29.08      3.58      6.81         0.77         40.24  Unrated  \n",
       "2     15.68     12.76      3.79         3.29         35.52        E  \n",
       "3     15.61     10.93      3.28         2.95         32.77        E  \n",
       "4     11.27      8.89     10.22         1.00         31.37  Unrated  "
      ]
     },
     "execution_count": 34,
     "metadata": {},
     "output_type": "execute_result"
    }
   ],
   "source": [
    "print(f\"Combined dataset shape: {df_combined.shape}\")\n",
    "df_combined.head()\n"
   ]
  },
  {
   "cell_type": "code",
   "execution_count": 35,
   "id": "1634a134-7ad4-40f5-9f7b-625442afcdca",
   "metadata": {},
   "outputs": [],
   "source": [
    "df_combined.to_csv('../clean/combined_before_title_cleaning.csv', index=False)\n"
   ]
  },
  {
   "cell_type": "code",
   "execution_count": null,
   "id": "7a3973ef-d761-4978-ab59-cee0b0dd8bf0",
   "metadata": {},
   "outputs": [],
   "source": []
  },
  {
   "cell_type": "code",
   "execution_count": null,
   "id": "a89a76ca-61ac-421c-998c-0d0b67c065ab",
   "metadata": {},
   "outputs": [],
   "source": []
  },
  {
   "cell_type": "code",
   "execution_count": null,
   "id": "a31dbaa9-1563-491d-9299-831bb7c18c09",
   "metadata": {},
   "outputs": [],
   "source": []
  }
 ],
 "metadata": {
  "kernelspec": {
   "display_name": "new_base",
   "language": "python",
   "name": "new_base"
  },
  "language_info": {
   "codemirror_mode": {
    "name": "ipython",
    "version": 3
   },
   "file_extension": ".py",
   "mimetype": "text/x-python",
   "name": "python",
   "nbconvert_exporter": "python",
   "pygments_lexer": "ipython3",
   "version": "3.12.9"
  }
 },
 "nbformat": 4,
 "nbformat_minor": 5
}
