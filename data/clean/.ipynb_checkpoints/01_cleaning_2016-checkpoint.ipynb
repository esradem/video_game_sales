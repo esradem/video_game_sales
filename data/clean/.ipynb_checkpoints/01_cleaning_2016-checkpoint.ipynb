{
 "cells": [
  {
   "cell_type": "code",
   "execution_count": null,
   "id": "2ab107f7-747e-40d4-aaea-21bc1f48a711",
   "metadata": {},
   "outputs": [],
   "source": [
    "import pandas as pd\n",
    "\n",
    "df = pd.read_csv('../raw/Video_Games_Sales_as_at_22_Dec_2016.csv')\n",
    "df.info()\n",
    "df.head()"
   ]
  },
  {
   "cell_type": "code",
   "execution_count": null,
   "id": "19a4dc93-24ce-444f-a576-9dba57260606",
   "metadata": {},
   "outputs": [],
   "source": [
    "df.isnull().sum().sort_values(ascending=False)\n"
   ]
  },
  {
   "cell_type": "code",
   "execution_count": null,
   "id": "209c8b55-d1e9-4bc9-984f-16674ee1db66",
   "metadata": {},
   "outputs": [],
   "source": [
    "df_old = pd.read_csv('../raw/Video_Games_Sales_as_at_22_Dec_2016.csv')\n",
    "\n",
    "df_old.drop(columns=[\n",
    "    'Critic_Score', 'Critic_Count', 'User_Score', 'User_Count', 'Developer'\n",
    "], inplace=True)\n"
   ]
  },
  {
   "cell_type": "code",
   "execution_count": null,
   "id": "69dcc172-b18f-47c8-a68e-e1ebd76dd9b0",
   "metadata": {},
   "outputs": [],
   "source": [
    "df_old.head()\n"
   ]
  },
  {
   "cell_type": "code",
   "execution_count": null,
   "id": "5fb0d499-fffe-4532-bd9b-1177bb4decd5",
   "metadata": {},
   "outputs": [],
   "source": [
    "df_old.columns\n"
   ]
  },
  {
   "cell_type": "code",
   "execution_count": null,
   "id": "6f0282ba-a9d2-4b8f-9b26-f76dbc3b2fdd",
   "metadata": {},
   "outputs": [],
   "source": [
    "df_old.info()\n"
   ]
  },
  {
   "cell_type": "code",
   "execution_count": null,
   "id": "8fb10b1a-6365-4021-8948-0b7da8cdf7c9",
   "metadata": {},
   "outputs": [],
   "source": [
    "df_old['Publisher'] = df_old['Publisher'].fillna('Unknown')\n",
    "df_old['Rating'] = df_old['Rating'].fillna('Unrated')\n"
   ]
  },
  {
   "cell_type": "code",
   "execution_count": null,
   "id": "6ac73a86-6844-4766-a2ef-22aa3b7c8fe3",
   "metadata": {},
   "outputs": [],
   "source": [
    "df_old['Genre'] = df_old['Genre'].str.lower().str.strip()\n",
    "df_old['Platform'] = df_old['Platform'].str.upper().str.strip()\n",
    "df_old['Publisher'] = df_old['Publisher'].str.strip()\n",
    "df_old['Rating'] = df_old['Rating'].str.strip()\n",
    "df_old['Name'] = df_old['Name'].str.lower().str.strip()\n"
   ]
  },
  {
   "cell_type": "code",
   "execution_count": null,
   "id": "5f6c2bb3-36fb-4702-a8f7-20f0cbbdd986",
   "metadata": {},
   "outputs": [],
   "source": [
    "df_old['Year_of_Release'].isnull().sum()\n"
   ]
  },
  {
   "cell_type": "code",
   "execution_count": null,
   "id": "2d11b468-8cdc-4d68-8d87-55f1514124d0",
   "metadata": {},
   "outputs": [],
   "source": [
    "df_old = df_old[df_old['Year_of_Release'].notna()]\n"
   ]
  },
  {
   "cell_type": "code",
   "execution_count": null,
   "id": "cab9482e-7cb3-42a8-b6af-43f0c78b3f66",
   "metadata": {},
   "outputs": [],
   "source": [
    "df_old['Year_of_Release'] = df_old['Year_of_Release'].astype(int)\n"
   ]
  },
  {
   "cell_type": "code",
   "execution_count": null,
   "id": "29dd5d34-7b42-4abd-ba3e-f6ef74f41ec4",
   "metadata": {},
   "outputs": [],
   "source": [
    "df_old['Genre'].unique()[:10]\n",
    "df_old['Platform'].unique()[:10]\n",
    "df_old['Publisher'].unique()[:10]\n",
    "df_old['Rating'].unique()\n",
    "df_old['Name'].head(10)\n"
   ]
  },
  {
   "cell_type": "code",
   "execution_count": null,
   "id": "add59d2c-7926-4ea0-8b0f-1294971fa8eb",
   "metadata": {},
   "outputs": [],
   "source": [
    "sorted(df_old['Genre'].dropna().unique())\n",
    "sorted(df_old['Platform'].dropna().unique())\n",
    "sorted(df_old['Rating'].dropna().unique())\n"
   ]
  },
  {
   "cell_type": "code",
   "execution_count": null,
   "id": "2f4e62c3-8c51-4320-bcd5-21b42ac1fccc",
   "metadata": {},
   "outputs": [],
   "source": [
    "df_old['Genre'].value_counts().head(10)\n",
    "df_old['Platform'].value_counts().head(10)\n",
    "df_old['Rating'].value_counts()\n"
   ]
  },
  {
   "cell_type": "code",
   "execution_count": null,
   "id": "c50dea62-1bcd-41ae-ac07-2fe0293c06f1",
   "metadata": {},
   "outputs": [],
   "source": [
    "rating_map = {\n",
    "    'E': 'Children',\n",
    "    'EC': 'Children',\n",
    "    'E10+': 'Pre-teens',\n",
    "    'T': 'Teens',\n",
    "    'M': 'Adults',\n",
    "    'AO': 'Adults',\n",
    "    'RP': 'Unrated',\n",
    "    'K-A': 'Unrated',\n",
    "    'Unrated': 'Unrated'\n",
    "}\n",
    "\n",
    "df_old['Rating_Grouped'] = df_old['Rating'].map(rating_map).fillna('Unrated')\n"
   ]
  },
  {
   "cell_type": "code",
   "execution_count": null,
   "id": "6e8b2e55-c42c-420a-ae5e-a3f5f0b04a1a",
   "metadata": {},
   "outputs": [],
   "source": [
    "df_old[['Rating', 'Rating_Grouped']].head(5)\n",
    "df_old['Rating_Grouped'].unique()\n"
   ]
  },
  {
   "cell_type": "code",
   "execution_count": null,
   "id": "0d19155b-c8cb-47e9-b654-49a39fa59064",
   "metadata": {},
   "outputs": [],
   "source": [
    "df_old['Platform'].unique()\n"
   ]
  },
  {
   "cell_type": "code",
   "execution_count": null,
   "id": "3914d8ee-9eb5-4bcf-8071-7da8b29958e6",
   "metadata": {},
   "outputs": [],
   "source": [
    "df_old['Genre'].unique()\n"
   ]
  },
  {
   "cell_type": "code",
   "execution_count": null,
   "id": "6c781813-7537-4afb-a052-e4689bf93eb6",
   "metadata": {},
   "outputs": [],
   "source": [
    "df_new = pd.read_csv('..//raw/2024_videogames_sales.csv')\n",
    "df_new.head()\n",
    "df_new.info()\n"
   ]
  },
  {
   "cell_type": "code",
   "execution_count": null,
   "id": "1172343d-aa76-483c-af9b-20f25f8cad30",
   "metadata": {},
   "outputs": [],
   "source": [
    "df_new.rename(columns={\n",
    "    'title': 'Name',\n",
    "    'console': 'Platform',\n",
    "    'genre': 'Genre',\n",
    "    'publisher': 'Publisher',\n",
    "    'total_sales': 'Global_Sales',\n",
    "    'na_sales': 'NA_Sales',\n",
    "    'jp_sales': 'JP_Sales',\n",
    "    'pal_sales': 'EU_Sales',\n",
    "    'other_sales': 'Other_Sales',\n",
    "    'release_date': 'Release_Date'\n",
    "}, inplace=True)"
   ]
  },
  {
   "cell_type": "code",
   "execution_count": null,
   "id": "6489832f-28bd-4939-9cda-0d9fd956b006",
   "metadata": {},
   "outputs": [],
   "source": [
    "df_new['Release_Date'] = pd.to_datetime(df_new['Release_Date'], errors='coerce')\n",
    "df_new = df_new[df_new['Release_Date'].notna()].copy()\n",
    "df_new['Year_of_Release'] = df_new['Release_Date'].dt.year.astype(int)\n",
    "\n"
   ]
  },
  {
   "cell_type": "code",
   "execution_count": null,
   "id": "b28639b8-7f06-4461-85cc-fbab3f52f957",
   "metadata": {},
   "outputs": [],
   "source": [
    "df_new['Genre'] = df_new['Genre'].str.lower().str.strip()\n",
    "df_new['Platform'] = df_new['Platform'].str.upper().str.strip()\n",
    "df_new['Publisher'] = df_new['Publisher'].fillna('Unknown').str.strip()\n",
    "df_new['Name'] = df_new['Name'].str.lower().str.strip()"
   ]
  },
  {
   "cell_type": "code",
   "execution_count": null,
   "id": "f78d7c23-7f1c-4e75-99a7-d828cb99eb38",
   "metadata": {},
   "outputs": [],
   "source": [
    "df_new = df_new[[\n",
    "    'Name', 'Platform', 'Year_of_Release', 'Genre', 'Publisher',\n",
    "    'NA_Sales', 'EU_Sales', 'JP_Sales', 'Other_Sales', 'Global_Sales'\n",
    "]]"
   ]
  },
  {
   "cell_type": "code",
   "execution_count": null,
   "id": "26f3a049-02f4-4e3a-8677-08eb5e5034d9",
   "metadata": {},
   "outputs": [],
   "source": [
    "df_new['Year_of_Release'].describe()\n",
    "df_new['Year_of_Release'].value_counts().sort_index()\n"
   ]
  },
  {
   "cell_type": "code",
   "execution_count": null,
   "id": "9affbca7-aad7-4f40-b331-959a8c2c1134",
   "metadata": {},
   "outputs": [],
   "source": [
    "df_new = df_new[df_new['Year_of_Release'].between(1980, 2024)]\n"
   ]
  },
  {
   "cell_type": "code",
   "execution_count": null,
   "id": "338bf776-0ca8-4514-922a-93a350e0b436",
   "metadata": {},
   "outputs": [],
   "source": [
    "df_new.isnull().sum().sort_values(ascending=False)\n"
   ]
  },
  {
   "cell_type": "code",
   "execution_count": null,
   "id": "09978923-0b99-4c64-9556-b4c0ada271f7",
   "metadata": {},
   "outputs": [],
   "source": [
    "sorted(df_new['Genre'].dropna().unique())\n",
    "sorted(df_old['Genre'].dropna().unique())\n"
   ]
  },
  {
   "cell_type": "code",
   "execution_count": null,
   "id": "7fc5a660-d447-40a6-9827-1fb2ed70b328",
   "metadata": {},
   "outputs": [],
   "source": [
    "genre_map = {\n",
    "    'action-adventure': 'action',\n",
    "    'fighting': 'action',\n",
    "    'misc': 'other',\n",
    "    'platform': 'platformer',\n",
    "    'shooter': 'shooter',\n",
    "    'simulation': 'simulation',\n",
    "    'sports': 'sports',\n",
    "    'racing': 'racing',\n",
    "    'role-playing': 'rpg',\n",
    "    'puzzle': 'puzzle',\n",
    "    'strategy': 'strategy',\n",
    "}\n",
    "\n",
    "df_new['Genre'] = df_new['Genre'].replace(genre_map)\n"
   ]
  },
  {
   "cell_type": "code",
   "execution_count": null,
   "id": "7560d98a-c7b0-44ee-8068-98c2632a25fe",
   "metadata": {},
   "outputs": [],
   "source": [
    "df_new.duplicated(subset=['Name', 'Platform', 'Year_of_Release']).sum()\n"
   ]
  },
  {
   "cell_type": "code",
   "execution_count": null,
   "id": "5569038e-15d5-43c5-8bc3-ef89682ee395",
   "metadata": {},
   "outputs": [],
   "source": [
    "sales_cols = ['NA_Sales', 'EU_Sales', 'JP_Sales', 'Other_Sales', 'Global_Sales']\n",
    "df_new[sales_cols] = df_new[sales_cols].fillna(0)\n"
   ]
  },
  {
   "cell_type": "code",
   "execution_count": null,
   "id": "8351ee86-cf1f-4f73-bc80-b73697b5dbe9",
   "metadata": {},
   "outputs": [],
   "source": [
    "df_new"
   ]
  },
  {
   "cell_type": "code",
   "execution_count": null,
   "id": "81c67e80-99b3-4677-b781-b231124bbcbf",
   "metadata": {},
   "outputs": [],
   "source": [
    "df_combined = pd.concat([df_old, df_new], ignore_index=True)\n"
   ]
  },
  {
   "cell_type": "code",
   "execution_count": null,
   "id": "d3eacbae-4c95-4c05-9c58-3913313735c0",
   "metadata": {},
   "outputs": [],
   "source": [
    "df_combined.drop_duplicates(subset=['Name', 'Platform', 'Year_of_Release'], inplace=True)\n"
   ]
  },
  {
   "cell_type": "code",
   "execution_count": null,
   "id": "e8895478-d6e2-4f32-a4a6-ca419b869bbc",
   "metadata": {},
   "outputs": [],
   "source": [
    "print(f\"Combined dataset shape: {df_combined.shape}\")\n",
    "df_combined.head()\n"
   ]
  },
  {
   "cell_type": "code",
   "execution_count": null,
   "id": "1634a134-7ad4-40f5-9f7b-625442afcdca",
   "metadata": {},
   "outputs": [],
   "source": [
    "df_combined.to_csv('../clean/combined_before_title_cleaning.csv', index=False)\n"
   ]
  },
  {
   "cell_type": "code",
   "execution_count": null,
   "id": "7a3973ef-d761-4978-ab59-cee0b0dd8bf0",
   "metadata": {},
   "outputs": [],
   "source": []
  },
  {
   "cell_type": "code",
   "execution_count": null,
   "id": "a89a76ca-61ac-421c-998c-0d0b67c065ab",
   "metadata": {},
   "outputs": [],
   "source": []
  },
  {
   "cell_type": "code",
   "execution_count": null,
   "id": "a31dbaa9-1563-491d-9299-831bb7c18c09",
   "metadata": {},
   "outputs": [],
   "source": []
  }
 ],
 "metadata": {
  "kernelspec": {
   "display_name": "new_base",
   "language": "python",
   "name": "new_base"
  },
  "language_info": {
   "codemirror_mode": {
    "name": "ipython",
    "version": 3
   },
   "file_extension": ".py",
   "mimetype": "text/x-python",
   "name": "python",
   "nbconvert_exporter": "python",
   "pygments_lexer": "ipython3",
   "version": "3.12.9"
  }
 },
 "nbformat": 4,
 "nbformat_minor": 5
}
