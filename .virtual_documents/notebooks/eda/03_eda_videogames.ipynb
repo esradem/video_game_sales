import pandas as pd
import matplotlib.pyplot as plt
import seaborn as sns
import plotly.io as pio
import plotly.express as px

pio.renderers.default = 'iframe_connected'

# Load cleaned dataset
df = pd.read_csv('../../data/clean/video_game_sales_final_cleaned.csv')

# Basic info
df.info()
df.describe()

# Check nulls again
print(df.isnull().sum())

# Preview
df.head()



df['genre'].value_counts()






print(f'Duplicated rows: {df.duplicated().sum()}')



df['year_of_release'] = df['year_of_release'].astype(int)



filtered_df = df[df['global_sales'] < 1]

fig = px.histogram(
    filtered_df,
    x='global_sales',
    nbins=40,
    title="What's the typical sales range for most games?",
    color_discrete_sequence=['indianred']
)

fig.update_layout(
    xaxis_title='Global Sales (millions)',
    yaxis_title='Number of Games',
    template='simple_white',
    title_x=0.5
)

fig.show()



platform_sales = (
    df.groupby('platform', as_index=False)['global_sales']
    .sum()
    .query('global_sales > 100')  
    .sort_values(by='global_sales', ascending=False)
)

fig = px.bar(
    platform_sales,
    x='global_sales',
    y='platform',
    orientation='h',
    title='Which consoles dominate global sales?',
    color='platform',
    color_discrete_sequence=px.colors.qualitative.Set1
)

fig.update_layout(
    xaxis_title='global sales (millions)',
    yaxis_title='platform',
    title_x=0.5,
    template='simple_white',
    showlegend=False
)

fig.show()


filtered_df = df[df['global_sales'] < 1]

fig = px.histogram(
    filtered_df,
    x='global_sales',
    nbins=40,
    title="What's the typical sales range for most games?",
    color_discrete_sequence=['indianred']
)

fig.update_layout(
    xaxis_title='Global Sales (millions)',
    yaxis_title='Number of Games',
    template='simple_white',
    title_x=0.5
)

fig.show()


platform_sales = df.groupby('platform', as_index=False)['global_sales'].sum()

platform_sales = platform_sales[platform_sales['global_sales'] > 100]

platform_sales = platform_sales.sort_values(by='global_sales', ascending=False)

fig = px.bar(
    platform_sales,
    x='global_sales',
    y='platform',
    orientation='h',
    title='Which consoles dominate global sales?',
    color_discrete_sequence=['indianred']  # Color uniforme
)

fig.update_layout(
    xaxis_title='Global Sales (millions)',
    yaxis_title='Platform',
    title_x=0.5,
    template='simple_white',
    width=1000,
    height=600,
    showlegend=False
)

fig.show()


genre_sales = (
    df.groupby('genre', as_index=False)['global_sales']
    .sum()
    .sort_values(by='global_sales', ascending=False)
)

top_genres = genre_sales.head(10)

fig = px.bar(
    top_genres,
    x='genre',
    y='global_sales',
    title='Which genres are the most profitable?',
    color='genre',
    color_discrete_sequence=px.colors.qualitative.Pastel,
    text='global_sales'
)

fig.update_traces(
    texttemplate='%{text:.1f}',
    textposition='outside'
)

fig.update_layout(
    xaxis_tickangle=-40,
    title_x=0.5
)

fig.show()




region_sales = df[['na_sales', 'eu_sales', 'jp_sales', 'other_sales']]

correlation_matrix = region_sales.corr()

plt.figure(figsize=(8, 6))
sns.heatmap(correlation_matrix, annot=True, cmap='coolwarm', fmt=".2f")
plt.title("Are regional sales correlated?", fontsize=14)
plt.show()





top_publishers = (
    df.groupby('publisher', as_index=False)['global_sales']
    .sum()
    .sort_values(by='global_sales', ascending=False)
    .head(10)
)

fig = px.bar(
    top_publishers,
    x='publisher',
    y='global_sales',
    color='publisher',
    title="Who are the top-selling publishers?",
    text='global_sales',
    color_discrete_sequence=px.colors.qualitative.Set1
)

fig.update_traces(texttemplate='%{text:.1f}', textposition='outside')
fig.update_layout(
    xaxis_title='Publisher',
    yaxis_title='Global Sales (millions)',
    title_x=0.5,
    template='simple_white',
    showlegend=False
)

fig.show()


yearly_releases = (
    df.groupby('year_of_release', as_index=False)
    .agg(game_count=('name', 'count'))
    .sort_values(by='year_of_release')
)

fig = px.line(
    yearly_releases,
    x='year_of_release',
    y='game_count',
    title='Are game releases declining over time?',
    markers=True
)

fig.update_layout(
    xaxis_title='Year of Release',
    yaxis_title='Number of Games Released',
    title_x=0.5,
    template='simple_white',
    width=900,
    height=500
)

fig.show()






region_sales_long = df.melt(
    value_vars=['na_sales', 'eu_sales', 'jp_sales', 'other_sales'],
    var_name='region',
    value_name='sales'
)

fig = px.box(
    region_sales_long,
    x='region',
    y='sales',
    color='region',
    title='Do regional preferences shape game sales?',
    color_discrete_sequence=px.colors.qualitative.Set2,
    points='outliers'  # Mostrar outliers
)

fig.update_layout(
    yaxis_title='Sales (millions)',
    xaxis_title='Region',
    title_x=0.5,
    template='simple_white',
    width=800,
    height=500,
    showlegend=False
)

fig.show()


year_sales = (
    df.groupby('year_of_release', as_index=False)['global_sales']
    .sum()
    .sort_values(by='year_of_release')
)

year_sales['cumulative_sales'] = year_sales['global_sales'].cumsum()

fig = px.area(
    year_sales,
    x='year_of_release',
    y='cumulative_sales',
    title="When did the video game boom really happen?",
    labels={'year_of_release': 'Year', 'cumulative_sales': 'Cumulative Global Sales (millions)'},
    template='simple_white',
    width=900,
    height=500
)

fig.update_layout(
    title_x=0.5,
    xaxis=dict(dtick=5),
)

fig.show()


region_totals = df[['na_sales', 'eu_sales', 'jp_sales', 'other_sales']].sum()

region_df = region_totals.reset_index()
region_df.columns = ['region', 'total_sales']

fig = px.pie(
    region_df,
    names='region',
    values='total_sales',
    title="Who really drives global video game sales?",
    color_discrete_sequence=px.colors.sequential.RdBu,
    hole=0.4  
)

fig.update_layout(title_x=0.5)

fig.show()



top_games = df[['name', 'global_sales']].sort_values(by='global_sales', ascending=False).head(10)

fig = px.bar(
    top_games,
    x='global_sales',
    y='name',
    orientation='h',
    title='Who are the top-selling games of all time?',
    text='global_sales',
    color='name',
    color_discrete_sequence=px.colors.qualitative.Safe
)

fig.update_traces(texttemplate='%{text:.1f}', textposition='outside')

fig.update_layout(
    xaxis_title='Global Sales (millions)',
    yaxis_title='Game Title',
    title_x=0.5,
    template='simple_white',
    showlegend=False,
    height=500
)

fig.show()



top_platforms = df.groupby('platform', as_index=False)['global_sales'].sum()
top_10_platforms = top_platforms.sort_values(by='global_sales', ascending=False).head(10)['platform']

filtered_df = df[df['platform'].isin(top_10_platforms)]

top_per_platform = filtered_df.sort_values('global_sales', ascending=False).drop_duplicates('platform')

fig = px.treemap(
    top_per_platform,
    path=['platform', 'name'],
    values='global_sales',
    title="Which game leads the Top 10 platforms?",
    color='platform',
    color_discrete_sequence=px.colors.qualitative.Set3
)
fig.update_layout(title_x=0.5)
fig.show()


## import plotly.express as px

# Filter games released from 2015 onwards
recent = df[df['year_of_release'] >= 2015]

# Get top 4 platforms by total global sales in that period
top_recent_platforms = (
    recent.groupby('platform')['global_sales']
    .sum()
    .sort_values(ascending=False)
    .head(4)
    .index
)

# Filter games only from those top platforms
subset = recent[recent['platform'].isin(top_recent_platforms)]

# Get top 6 games per platform
top_games = (
    subset.groupby(['platform', 'name'], as_index=False)['global_sales']
    .sum()
    .sort_values(['platform', 'global_sales'], ascending=[True, False])
    .groupby('platform')
    .head(6)
)

# Create treemap
fig = px.treemap(
    top_games,
    path=['platform', 'name'],
    values='global_sales',
    title='What are the most played games on recent platforms?',
    color='platform',
    color_discrete_sequence=px.colors.qualitative.Set3
)

fig.update_layout(title_x=0.5)
fig.show()











