import pandas as pd
import matplotlib.pyplot as plt
import seaborn as sns
import plotly.io as pio
import plotly.express as px

pio.renderers.default = 'iframe_connected'

# Load cleaned dataset
df = pd.read_csv('../../data/clean/video_game_sales_final_cleaned.csv')

# Basic info
df.info()
df.describe()

# Check nulls again
print(df.isnull().sum())

# Preview
df.head()



df['genre'].value_counts()






print(f'Duplicated rows: {df.duplicated().sum()}')



df['year_of_release'] = df['year_of_release'].astype(int)



filtered_df = df[df['global_sales'] < 1]

fig = px.histogram(
    filtered_df,
    x='global_sales',
    nbins=10,
    title="How Many Games Sell Under 1 Million Copies?",
    color_discrete_sequence=['indianred']
)

fig.update_layout(
    xaxis_title='Global Sales (millions)',
    yaxis_title='Number of Game Released',
    template='simple_white',
    title_x=0.5,
    width=900,  # Set desired width
    height=600   # Set desired height
)


fig.show()



platform_sales = (
    df.groupby('platform', as_index=False)['global_sales']
    .sum()
    .query('global_sales > 100').head(10) 
    .sort_values(by='global_sales', ascending=False)
)

fig = px.bar(
    platform_sales,
    x='global_sales',
    y='platform',
    orientation='h',
    title='Which consoles dominate global sales?',
    color='platform',
    color_discrete_sequence=px.colors.qualitative.Set1
)

fig.update_layout(
    xaxis_title='global sales (millions)',
    yaxis_title='platform',
    title_x=0.5,
    width=900,  
    height=600,
    template='simple_white',
    showlegend=False
)

fig.show()


platform_sales = df.groupby('platform', as_index=False)['global_sales'].sum()

platform_sales = platform_sales[platform_sales['global_sales'] > 100]

platform_sales = platform_sales.head(10).sort_values(by='global_sales', ascending=True)

fig = px.bar(
    platform_sales,
    x='global_sales',
    y='platform',
    orientation='h',
    title='Which consoles dominate global sales?',
    color_discrete_sequence=['indianred']  # Color uniforme
)

fig.update_layout(
    xaxis_title='Global Sales (millions)',
    yaxis_title='Platform',
    title_x=0.5,
    template='simple_white',
    width=900,
    height=600,
    showlegend=False
)

fig.show()


genre_sales = (
    df.groupby('genre', as_index=False)['global_sales']
    .sum()
    .sort_values(by='global_sales', ascending=False)
)

top_genres = genre_sales.head(10)

fig = px.bar(
    top_genres,
    x='genre',
    y='global_sales',
    title='Which genres are the most profitable?',
    color='genre',
    color_discrete_sequence=px.colors.qualitative.Pastel,
    text='global_sales'
)

fig.update_traces(
    texttemplate='%{text:.1f}',
    textposition='outside'
)

fig.update_layout(
    xaxis_tickangle=-40,
    title_x=0.5,
    width=900,
    height=600
)

fig.show()










top_publishers = (
    df.groupby('publisher', as_index=False)['global_sales']
    .sum()
    .sort_values(by='global_sales', ascending=False)
    .head(10)
)

fig = px.bar(
    top_publishers,
    x='publisher',
    y='global_sales',
    color='publisher',
    title="Who are the top-selling publishers?",
    text='global_sales',
    color_discrete_sequence=px.colors.qualitative.Set1
)

fig.update_traces(texttemplate='%{text:.1f}', textposition='outside')
fig.update_layout(
    xaxis_title='Publisher',
    yaxis_title='Global Sales (millions)',
    title_x=0.5,
     width=900,
    height=600,
    template='simple_white',
    showlegend=False
)

fig.show()


yearly_releases = (
    df.groupby('year_of_release', as_index=False)
    .agg(game_count=('name', 'count'))
    .sort_values(by='year_of_release')
)

fig = px.line(
    yearly_releases,
    x='year_of_release',
    y='game_count',
    title='Yearly Game Release Trends: Growth and Decline',
    markers=True
)

fig.update_layout(
    xaxis_title='Year of Release',
    yaxis_title='Number of Games Released',
    title_x=0.5,
    template='simple_white',
    width=900,
    height=500
)

fig.show()






top_games = df[['name', 'global_sales']].sort_values(by='global_sales', ascending=False).head(10)

fig = px.bar(
    top_games,
    x='global_sales',
    y='name',
    orientation='h',
    title='Top 10 Best-Selling Video Games of All Time',
    text='global_sales',
    color='name',
    color_discrete_sequence=px.colors.qualitative.Safe
)

fig.update_traces(texttemplate='%{text:.1f}', textposition='outside')

fig.update_layout(
    xaxis_title='Global Sales (millions)',
    yaxis_title='Game Title',
    title_x=0.5,
    template='simple_white',
    showlegend=False,
    height=500
)

fig.show()



top_platforms = df.groupby('platform', as_index=False)['global_sales'].sum()
top_10_platforms = top_platforms.sort_values(by='global_sales', ascending=False).head(10)['platform']

filtered_df = df[df['platform'].isin(top_10_platforms)]

top_per_platform = filtered_df.sort_values('global_sales', ascending=False).drop_duplicates('platform')

fig = px.treemap(
    top_per_platform,
    path=['platform', 'name'],
    values='global_sales',
    title='Best-Selling Game on Each of the Top 10 Platforms',
    color='platform',
    color_discrete_sequence=px.colors.qualitative.Set3
)
fig.update_layout(
    title_x=0.5,
    width=1000,  # Set desired width
    height=600   # Set desired height
)
fig.show()


## import plotly.express as px

# Filter games released from 2015 onwards
recent = df[df['year_of_release'] >= 2015]

# Get top 4 platforms by total global sales in that period
top_recent_platforms = (
    recent.groupby('platform')['global_sales']
    .sum()
    .sort_values(ascending=False)
    .head(4)
    .index
)

# Filter games only from those top platforms
subset = recent[recent['platform'].isin(top_recent_platforms)]

# Get top 6 games per platform
top_games = (
    subset.groupby(['platform', 'name'], as_index=False)['global_sales']
    .sum()
    .sort_values(['platform', 'global_sales'], ascending=[True, False])
    .groupby('platform')
    .head(4)
)

# Create treemap
fig = px.treemap(
    top_games,
    path=['platform', 'name'],
    values='global_sales',
    title='What are the most played games on recent platforms?',
    color='platform',
    color_discrete_sequence=px.colors.qualitative.Set3
)

fig.update_layout(title_x=0.5)
fig.show()







df.columns


#"Do mature-rated games tend to sell more than kid-friendly games?"


rating_sales_relation=df.groupby('rating_grouped',as_index=False).agg(
    average_sales=('global_sales', 'mean'),
    total_sales=('global_sales', 'sum'),
    game_count=('name_clean', 'count')
)
fig=px.bar(
    rating_sales_relation,
    x='rating_grouped',
    y='average_sales',
    color='rating_grouped',
    text='average_sales',
    title='Average Global Sales by Game Rating',
    labels={'average_sales': 'Avg Global Sales (millions)', 'rating_grouped': 'Game Rating'},
    color_discrete_sequence=px.colors.qualitative.Safe
)

fig.update_traces(texttemplate='%{text:.2f}', textposition='outside')

fig.update_layout(
    title_x=0.5,
    template='simple_white',
    showlegend=False,
    width=800,
    height=600
)


fig.show()



